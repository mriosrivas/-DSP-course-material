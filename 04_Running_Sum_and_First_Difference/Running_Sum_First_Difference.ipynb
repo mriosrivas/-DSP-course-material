{
 "cells": [
  {
   "cell_type": "markdown",
   "metadata": {
    "deletable": false,
    "editable": false,
    "nbgrader": {
     "cell_type": "markdown",
     "checksum": "a88dc997a3c8775b21706afe5694b754",
     "grade": false,
     "grade_id": "cell-01748ae7c4bca958",
     "locked": true,
     "schema_version": 3,
     "solution": false,
     "task": false
    }
   },
   "source": [
    "# Running Sum and First Difference Algorithms"
   ]
  },
  {
   "cell_type": "markdown",
   "metadata": {
    "deletable": false,
    "editable": false,
    "nbgrader": {
     "cell_type": "markdown",
     "checksum": "9454ed431351aeeeda504cb34158904f",
     "grade": false,
     "grade_id": "cell-f189a412cad40d23",
     "locked": true,
     "schema_version": 3,
     "solution": false,
     "task": false
    }
   },
   "source": [
    "### Calculus-like Operations\n",
    "Convolution can change discrete signals in ways that resemble integration and differentiation. Since the terms \"derivative\" and \"integral\" specifically refer to operations on continuous signals, other names are given to their discrete counterparts. The discrete operation that mimics the first derivative is called the first difference. Likewise, the discrete form of the integral is called the running sum. It is also common to hear these operations called the discrete derivative and the discrete integral, although mathematicians frown when they hear these informal terms used."
   ]
  },
  {
   "cell_type": "code",
   "execution_count": null,
   "metadata": {
    "deletable": false,
    "editable": false,
    "nbgrader": {
     "cell_type": "code",
     "checksum": "4f510df29dc5c50990dd4ec1930bbe00",
     "grade": false,
     "grade_id": "cell-2bc20a4538994a9c",
     "locked": true,
     "schema_version": 3,
     "solution": false,
     "task": false
    }
   },
   "outputs": [],
   "source": [
    "import numpy as np\n",
    "import matplotlib.pyplot as plt\n",
    "\n",
    "import pickle"
   ]
  },
  {
   "cell_type": "code",
   "execution_count": null,
   "metadata": {
    "deletable": false,
    "editable": false,
    "nbgrader": {
     "cell_type": "code",
     "checksum": "545b3922d44e88df681f17ed7450dd61",
     "grade": false,
     "grade_id": "cell-8cc41fa0174493c9",
     "locked": true,
     "schema_version": 3,
     "solution": false,
     "task": false
    }
   },
   "outputs": [],
   "source": [
    "file = {'x':'Signals/InputSignal_f32_1kHz_15kHz.dat'}\n",
    "\n",
    "x = np.loadtxt(file['x'])\n",
    "N,M = x.shape\n",
    "x = x.reshape(N*M, 1)"
   ]
  },
  {
   "cell_type": "code",
   "execution_count": null,
   "metadata": {
    "deletable": false,
    "editable": false,
    "nbgrader": {
     "cell_type": "code",
     "checksum": "6410105cf790abe66cea523a86902175",
     "grade": false,
     "grade_id": "cell-1afc12158cfe7c39",
     "locked": true,
     "schema_version": 3,
     "solution": false,
     "task": false
    }
   },
   "outputs": [],
   "source": [
    "plt.plot(x)\n",
    "plt.title('x[n]')\n",
    "plt.grid('on')\n",
    "plt.ylabel('Amplitude')\n",
    "plt.xlabel('Samples')\n",
    "plt.show()"
   ]
  },
  {
   "cell_type": "markdown",
   "metadata": {
    "deletable": false,
    "editable": false,
    "nbgrader": {
     "cell_type": "markdown",
     "checksum": "fc551ba9607a8e2dcd6fe5a0ba2a87e3",
     "grade": false,
     "grade_id": "cell-14853119b8aa541d",
     "locked": true,
     "schema_version": 3,
     "solution": false,
     "task": false
    }
   },
   "source": [
    "## First Difference\n",
    "This is the discrete version of the first derivative. Each sample in the output signal is equal to the difference between adjacent samples in the input signal. In other words, the output signal is the slope of the input signal.\n",
    "\n",
    "$$ y[n] = x[n] - x[n-1]$$"
   ]
  },
  {
   "cell_type": "code",
   "execution_count": null,
   "metadata": {
    "deletable": false,
    "nbgrader": {
     "cell_type": "code",
     "checksum": "9b63ffa285f974cd3b58e581a578f949",
     "grade": false,
     "grade_id": "cell-6993357341705118",
     "locked": false,
     "schema_version": 3,
     "solution": true,
     "task": false
    }
   },
   "outputs": [],
   "source": [
    "def first_difference(x):\n",
    "    \"\"\" \n",
    "        Function that calculates the first difference of an input signal x using the recursive\n",
    "        equation y[n]=x[n]-x[n-1].\n",
    "      \n",
    "        Parameters: \n",
    "        x (numpy array): Array of numbers representing the input signal.\n",
    "      \n",
    "        Returns: \n",
    "        numpy array: Returns first difference of input signal x.\n",
    "      \n",
    "        \"\"\"\n",
    "    \n",
    "    N = x.shape[0]\n",
    "    output = np.zeros(N-1)\n",
    "    \n",
    "    # YOUR CODE HERE\n",
    "    raise NotImplementedError()"
   ]
  },
  {
   "cell_type": "code",
   "execution_count": null,
   "metadata": {
    "deletable": false,
    "editable": false,
    "nbgrader": {
     "cell_type": "code",
     "checksum": "765f74684bcb7677b1dcc811cdfa3897",
     "grade": true,
     "grade_id": "cell-9b646983189dd67a",
     "locked": true,
     "points": 20,
     "schema_version": 3,
     "solution": false,
     "task": false
    }
   },
   "outputs": [],
   "source": [
    "x_diff = first_difference(x)\n",
    "\n",
    "assert np.isclose(x_diff, np.diff(x, n=1, axis=0).reshape(-1), atol=0.01).all()\n",
    "\n",
    "plt.rcParams[\"figure.figsize\"] = (15,5)\n",
    "\n",
    "plt.subplot(1,2,1)\n",
    "plt.plot(x)\n",
    "plt.title('Input Signal')\n",
    "plt.grid('on')\n",
    "\n",
    "plt.subplot(1,2,2)\n",
    "plt.plot(x_diff)\n",
    "plt.title('First Difference')\n",
    "plt.grid('on')"
   ]
  },
  {
   "cell_type": "markdown",
   "metadata": {
    "deletable": false,
    "editable": false,
    "nbgrader": {
     "cell_type": "markdown",
     "checksum": "e7a586e884aa62b8ed0d57f22f1f1113",
     "grade": false,
     "grade_id": "cell-391c79ba3e46331a",
     "locked": true,
     "schema_version": 3,
     "solution": false,
     "task": false
    }
   },
   "source": [
    "## Running Sum\n",
    "This is the discrete version of the integral. Each sample in the output signal is equal to the sum of all samples in the input signal to the left.\n",
    "\n",
    "$$ y[n] = x[n] + y[n-1]$$"
   ]
  },
  {
   "cell_type": "code",
   "execution_count": null,
   "metadata": {
    "deletable": false,
    "nbgrader": {
     "cell_type": "code",
     "checksum": "00ffde2f0b2b81ad5e7ab45c60221153",
     "grade": false,
     "grade_id": "cell-a2d9718735135f41",
     "locked": false,
     "schema_version": 3,
     "solution": true,
     "task": false
    }
   },
   "outputs": [],
   "source": [
    "def running_sum(x):\n",
    "    \"\"\" \n",
    "        Function that calculates the running sum of an input signal x using the recursive\n",
    "        equation y[n]=x[n]+y[n-1].\n",
    "      \n",
    "        Parameters: \n",
    "        x (numpy array): Array of numbers representing the input signal.\n",
    "      \n",
    "        Returns: \n",
    "        numpy array: Returns running sum of input signal x.\n",
    "      \n",
    "        \"\"\"\n",
    "    N = x.shape[0]\n",
    "    output = np.zeros(N)\n",
    "    \n",
    "    # YOUR CODE HERE\n",
    "    raise NotImplementedError()"
   ]
  },
  {
   "cell_type": "code",
   "execution_count": null,
   "metadata": {
    "deletable": false,
    "editable": false,
    "nbgrader": {
     "cell_type": "code",
     "checksum": "3b9ae449e38d6be811d8f1c4dceffaa0",
     "grade": true,
     "grade_id": "cell-ebbe7e416067a8ea",
     "locked": true,
     "points": 20,
     "schema_version": 3,
     "solution": false,
     "task": false
    }
   },
   "outputs": [],
   "source": [
    "x_sum = running_sum(x)\n",
    "\n",
    "assert np.isclose(x_sum, np.cumsum(x), atol=0.01).all()\n",
    "\n",
    "plt.rcParams[\"figure.figsize\"] = (15,5)\n",
    "\n",
    "plt.subplot(1,2,1)\n",
    "plt.plot(x)\n",
    "plt.title('Input Signal')\n",
    "plt.grid('on')\n",
    "\n",
    "plt.subplot(1,2,2)\n",
    "plt.plot(x_sum)\n",
    "plt.title('Running Sum')\n",
    "plt.grid('on')"
   ]
  },
  {
   "cell_type": "markdown",
   "metadata": {
    "deletable": false,
    "editable": false,
    "nbgrader": {
     "cell_type": "markdown",
     "checksum": "af2eb4a81931177e828751f051cba239",
     "grade": false,
     "grade_id": "cell-c6a80111dc0d4680",
     "locked": true,
     "schema_version": 3,
     "solution": false,
     "task": false
    }
   },
   "source": [
    "## Application: Use your smartphone sensors\n",
    "In this part we will use the gyroscope and accelerometer of your smartphone to get some data and then we will implement a modified version of the running sum and first difference to these data.\n",
    "\n",
    "To better understand how data is gathered from these sensors, let's look at the coordinate system of a smarthpone.\n",
    "\n",
    "<img src=\"Images/gyroscope.png\" alt=\"smartphone coordinates\" width=\"330\" height=\"400\"> \n",
    "\n",
    "From the previous image, you can see how standard coordinate system is placed, where as the top of the smartphone points towards the Y coordinate, the X coordinate points to the right,  and the Z coordinate points outside of the screen.\n",
    "\n",
    "A gyroscope measures the rate of rotation in $rad/s$ around a device's x, y, and z axis. An acceleration sensor measures the acceleration applied to the device, in $m/s^2$, including the force of gravity on each axis. You can read in more detail how these sensors work by reading [here](https://www.maximintegrated.com/en/design/technical-documents/app-notes/5/5830.html)"
   ]
  },
  {
   "cell_type": "markdown",
   "metadata": {
    "deletable": false,
    "editable": false,
    "nbgrader": {
     "cell_type": "markdown",
     "checksum": "f936ace8949154d9a088048d4ea7e8a6",
     "grade": false,
     "grade_id": "cell-abeb17454cb33f88",
     "locked": true,
     "schema_version": 3,
     "solution": false,
     "task": false
    }
   },
   "source": [
    "## Getting the data\n",
    "\n",
    "1. First you need to download and install [sensorsensei](https://play.google.com/store/apps/details?id=com.sensorsensei) your smartphone, currently only Android devices are supported. \n",
    "<br>\n",
    "\n",
    "2. Then you need to clone the following [repository](https://github.com/priyankark/PhonePi_SampleServer.git) on your computer.\n",
    "```bash\n",
    "git clone https://github.com/priyankark/PhonePi_SampleServer.git\n",
    "```\n",
    "3. Inside the cloned project go to `Python/Flask` and run `python PhonePi.py`\n",
    "\n",
    "If you encounter dependencie issues be sure to have both `Flask` and `flask_sockets` installed. You can install them in Anaconda by running:\n",
    "```bash\n",
    " conda install flask==1.1.4\n",
    " conda install flask-sockets \n",
    "```\n",
    "\n",
    "When running the `PhonePi.py` script you will create a socket connection between your computer and your smartphone, be sure to connect to the same network. The you can select on your smartphone the type of sensor to use and stream this data to your computer, for our case we will use the accelerometer and gyroscope data, but you can try other sensors as well.\n",
    "\n",
    "After running the script you will get two files called `accelerometer.txt` and `gyroscope.txt`, these files need to be parsed, therefore a `parse_data` function is provided below. You can just use it to convert the data gathered into a python dictionary."
   ]
  },
  {
   "cell_type": "code",
   "execution_count": null,
   "metadata": {
    "deletable": false,
    "editable": false,
    "nbgrader": {
     "cell_type": "code",
     "checksum": "bb1b9555409a0224769edf729076cd71",
     "grade": false,
     "grade_id": "cell-15aa31112e642a1e",
     "locked": true,
     "schema_version": 3,
     "solution": false,
     "task": false
    }
   },
   "outputs": [],
   "source": [
    "def parse_data(file):\n",
    "    \"\"\"\n",
    "    Function that parses a given file with sensor data and returns a dictionary\n",
    "    of the data inside.\n",
    "    \n",
    "    Parameters: \n",
    "        file (str): Path of the file to parse.\n",
    "      \n",
    "        Returns: \n",
    "        dictionary: Returns a dictionary with the `timestamp`, `x`, `y`, and `z` keys\n",
    "        of the parsed data.\n",
    "    \"\"\"\n",
    "    \n",
    "    Dictionary = {}\n",
    "    x = []\n",
    "    y = []\n",
    "    z = []\n",
    "    timestamp = []\n",
    "\n",
    "    with open(file, \"r\") as f:\n",
    "        for line in f:\n",
    "            for content in line.strip('\"{}').split(','):\n",
    "                key, value = content.split(':')\n",
    "                Dictionary[key.strip('\"')] = value.strip('\"')\n",
    "            x.append(float(Dictionary['x']))\n",
    "            y.append(float(Dictionary['y']))\n",
    "            z.append(float(Dictionary['z']))\n",
    "            timestamp.append(Dictionary['Timestamp'])\n",
    "\n",
    "    x = np.array(x)\n",
    "    y = np.array(y)\n",
    "    z = np.array(z)\n",
    "    timestamp = np.array(timestamp)\n",
    "    return {'timestamp':timestamp.astype('int64'), 'x':x.astype('float32'), \n",
    "            'y':y.astype('float32'), 'z':z.astype('float32')}"
   ]
  },
  {
   "cell_type": "code",
   "execution_count": null,
   "metadata": {
    "deletable": false,
    "editable": false,
    "nbgrader": {
     "cell_type": "code",
     "checksum": "d0b837fa9b8138bfda080829de0d3ae0",
     "grade": false,
     "grade_id": "cell-0900dd90d2920b1d",
     "locked": true,
     "schema_version": 3,
     "solution": false,
     "task": false
    }
   },
   "outputs": [],
   "source": [
    "gyroscope = parse_data('Signals/sensors/gyroscope.txt')\n",
    "\n",
    "accelerometer = parse_data('Signals/sensors/accelerometer.txt')"
   ]
  },
  {
   "cell_type": "markdown",
   "metadata": {
    "deletable": false,
    "editable": false,
    "nbgrader": {
     "cell_type": "markdown",
     "checksum": "48ce7803f2c962d4fe894448761786d3",
     "grade": false,
     "grade_id": "cell-18c7ec97256e03f3",
     "locked": true,
     "schema_version": 3,
     "solution": false,
     "task": false
    }
   },
   "source": [
    "## Transform the data\n",
    "Now that our sensor data is in a suitable format, we need to preprocess it. Remember that the key idea behind these algorithms is that all of them try to run in real time, which means that we prefer to run them as soon as data comes, instead that running them in batches (maybe some exceptions).\n",
    "\n",
    "The first function that we will modify is the `first_difference` developed earlier. In this case we want to find the total acceleration applied to our smartphone. Data gathered from the accelerometer provides us with both the applied acceleration plus the earth's own acceleration. So the the new function, `process_accelerometer_data` must overcome this limitation. Also, it is important to note that we are interested in finding the **total** acceleration when performing our calculations."
   ]
  },
  {
   "cell_type": "code",
   "execution_count": null,
   "metadata": {
    "deletable": false,
    "nbgrader": {
     "cell_type": "code",
     "checksum": "4898bec3586085642d5b08d95fa7af7d",
     "grade": false,
     "grade_id": "cell-7f3c2bf3602ec42c",
     "locked": false,
     "schema_version": 3,
     "solution": true,
     "task": false
    }
   },
   "outputs": [],
   "source": [
    "def process_accelerometer_data(signal, gravity=9.8):\n",
    "    \"\"\" \n",
    "        Function that calculates the acceleration observed by an accelerometer inside the\n",
    "        smartphone. This function must remove the gravity contribution with the high-pass filter \n",
    "        exaplained here\n",
    "        \n",
    "        https://developer.android.com/guide/topics/sensors/sensors_motion#sensors-motion-accel\n",
    "      \n",
    "        Parameters: \n",
    "        signal (dictionary): Dictionary with the `timestamp`, `x`, `y`, and `z` keys from\n",
    "        the gyroscope data.\n",
    "      \n",
    "        Returns: \n",
    "        numpy array: Returns magnitude of acceleration applied to the system.\n",
    "      \n",
    "        \"\"\"\n",
    "    \n",
    "    N = signal['x'].shape[0]\n",
    "    output = np.zeros(N)\n",
    "    \n",
    "    # YOUR CODE HERE\n",
    "    raise NotImplementedError()"
   ]
  },
  {
   "cell_type": "code",
   "execution_count": null,
   "metadata": {
    "deletable": false,
    "editable": false,
    "nbgrader": {
     "cell_type": "code",
     "checksum": "5edb82e215afa4870260d7fdc3573556",
     "grade": true,
     "grade_id": "cell-f560df109c5c3d92",
     "locked": true,
     "points": 30,
     "schema_version": 3,
     "solution": false,
     "task": false
    }
   },
   "outputs": [],
   "source": [
    "t = np.arange(accelerometer['x'].shape[0])/100\n",
    "accel_process = process_accelerometer_data(accelerometer, gravity=9.8)\n",
    "\n",
    "with open('accel.pkl', 'rb') as f:\n",
    "    data_pickle = pickle.load(f)\n",
    "    \n",
    "t_pickle = data_pickle[0]\n",
    "accel_pickle = data_pickle[1]\n",
    "\n",
    "assert np.isclose(accel_process, accel_pickle, atol=0.01).all()\n",
    "\n",
    "# Plotting Results\n",
    "plt.plot(t, accel_process)\n",
    "plt.grid('on')\n",
    "plt.xlabel('Time [s]')\n",
    "plt.ylabel('Acceleration [$m/s^2$]')\n",
    "plt.show()"
   ]
  },
  {
   "cell_type": "code",
   "execution_count": null,
   "metadata": {
    "deletable": false,
    "nbgrader": {
     "cell_type": "code",
     "checksum": "cf6a4f80065eeb0e59b4924c72d7ff0f",
     "grade": false,
     "grade_id": "cell-a1da4622f1a9e13f",
     "locked": false,
     "schema_version": 3,
     "solution": true,
     "task": false
    }
   },
   "outputs": [],
   "source": [
    "# Now test with your own data\n",
    "# YOUR CODE HERE\n",
    "raise NotImplementedError()"
   ]
  },
  {
   "cell_type": "markdown",
   "metadata": {
    "deletable": false,
    "editable": false,
    "nbgrader": {
     "cell_type": "markdown",
     "checksum": "d8d48c828a597e024cd2957ee06cb167",
     "grade": false,
     "grade_id": "cell-6214194a52690cd8",
     "locked": true,
     "schema_version": 3,
     "solution": false,
     "task": false
    }
   },
   "source": [
    "Now we will create a function called `process_gyroscope_data` which calculates the rotation of the gyroscope with respect of a given axis. The input signal is the component on the axis of interest. For example, if we want to calculate the rotation on the x axis, we call `process_gyroscope_data(gyroscope['x'])`."
   ]
  },
  {
   "cell_type": "code",
   "execution_count": null,
   "metadata": {
    "deletable": false,
    "nbgrader": {
     "cell_type": "code",
     "checksum": "a4cb2fdb340506d32810a60a1385c33f",
     "grade": false,
     "grade_id": "cell-923edba727860b44",
     "locked": false,
     "schema_version": 3,
     "solution": true,
     "task": false
    }
   },
   "outputs": [],
   "source": [
    "def process_gyroscope_data(signal_component):\n",
    "    \"\"\" \n",
    "        Function that calculates the rotation experienced by a gyroscope inside a smartphone.\n",
    "        data. Modify the running sum algorithm to include a factor of 180/pi to change rad to \n",
    "        degree and the time interval of 100ms when sampling.\n",
    "        \n",
    "        You can get some ideas from here\n",
    "        https://developer.android.com/guide/topics/sensors/sensors_motion#sensors-motion-gyro\n",
    "        \n",
    "        Parameters: \n",
    "        signal_component (numpy array): Data from the gyroscope from a given axis.\n",
    "      \n",
    "        Returns: \n",
    "        numpy array: Returns cummulative angular rotation of a given axis.\n",
    "        \"\"\"\n",
    "    \n",
    "    N = signal_component.shape[0]\n",
    "    output = np.zeros(N)\n",
    "    \n",
    "    # YOUR CODE HERE\n",
    "    raise NotImplementedError()"
   ]
  },
  {
   "cell_type": "code",
   "execution_count": null,
   "metadata": {
    "deletable": false,
    "editable": false,
    "nbgrader": {
     "cell_type": "code",
     "checksum": "3966822b111c0c92bbcbe614c816f8c1",
     "grade": true,
     "grade_id": "cell-0fbaebc1a2461285",
     "locked": true,
     "points": 30,
     "schema_version": 3,
     "solution": false,
     "task": false
    }
   },
   "outputs": [],
   "source": [
    "t = np.arange(gyroscope['x'].shape[0])/100\n",
    "\n",
    "rot_x = process_gyroscope_data(gyroscope['x'])\n",
    "rot_y = process_gyroscope_data(gyroscope['y'])\n",
    "rot_z = process_gyroscope_data(gyroscope['z'])\n",
    "\n",
    "with open('gyro.pkl', 'rb') as f:\n",
    "    data_pickle = pickle.load(f)\n",
    "\n",
    "t_pickle = data_pickle[0]\n",
    "rot_x_pickle = data_pickle[1][0]\n",
    "rot_y_pickle = data_pickle[1][1]\n",
    "rot_z_pickle = data_pickle[1][2]\n",
    "\n",
    "assert np.isclose(rot_x, rot_x_pickle, atol=0.01).all()\n",
    "assert np.isclose(rot_y, rot_y_pickle, atol=0.01).all()\n",
    "assert np.isclose(rot_z, rot_z_pickle, atol=0.01).all()\n",
    "\n",
    "\n",
    "# Plotting Results\n",
    "max_val = round(max(rot_x.max(), rot_y.max(), rot_z.max())/360)\n",
    "min_val = round(min(rot_x.min(), rot_y.min(), rot_z.min())/360)\n",
    "\n",
    "plt.plot(t, rot_x, label='x-rotation')\n",
    "plt.plot(t, rot_y, label='y-rotation')\n",
    "plt.plot(t, rot_z, label='z-rotation')\n",
    "\n",
    "for i in range(min_val, max_val):\n",
    "    plt.hlines(360*i, t.min(), t.max(), color='r', alpha=0.6, linestyles='--')\n",
    "\n",
    "plt.grid('on')\n",
    "plt.xlabel('Time [s]')\n",
    "plt.ylabel('Rotation [Degrees]')\n",
    "plt.legend()\n",
    "plt.show()"
   ]
  },
  {
   "cell_type": "code",
   "execution_count": null,
   "metadata": {
    "deletable": false,
    "nbgrader": {
     "cell_type": "code",
     "checksum": "2b3fd890d94c8bf68c9c5bb84263e7ab",
     "grade": false,
     "grade_id": "cell-7949f6100bbb5381",
     "locked": false,
     "schema_version": 3,
     "solution": true,
     "task": false
    }
   },
   "outputs": [],
   "source": [
    "# Now test with your own data\n",
    "# YOUR CODE HERE\n",
    "raise NotImplementedError()"
   ]
  },
  {
   "cell_type": "markdown",
   "metadata": {
    "deletable": false,
    "editable": false,
    "nbgrader": {
     "cell_type": "markdown",
     "checksum": "93964fdf67baee6f1c3b60e0c48767a8",
     "grade": false,
     "grade_id": "cell-2764d64a9dad2f95",
     "locked": true,
     "schema_version": 3,
     "solution": false,
     "task": false
    }
   },
   "source": [
    "#### References:\n",
    "\n",
    "* https://www.dspguide.com/ch7/1.htm\n",
    "* https://www.maximintegrated.com/en/design/technical-documents/app-notes/5/5830.html\n",
    "* https://developer.android.com/guide/topics/sensors/sensors_motion#sensors-raw-data\n",
    "* https://github.com/priyankark/PhonePi_SampleServer\n",
    "* http://www.techbitar.com/sensoduino.html"
   ]
  },
  {
   "cell_type": "code",
   "execution_count": null,
   "metadata": {},
   "outputs": [],
   "source": []
  }
 ],
 "metadata": {
  "kernelspec": {
   "display_name": "Python 3 (ipykernel)",
   "language": "python",
   "name": "python3"
  },
  "language_info": {
   "codemirror_mode": {
    "name": "ipython",
    "version": 3
   },
   "file_extension": ".py",
   "mimetype": "text/x-python",
   "name": "python",
   "nbconvert_exporter": "python",
   "pygments_lexer": "ipython3",
   "version": "3.10.4"
  }
 },
 "nbformat": 4,
 "nbformat_minor": 2
}
