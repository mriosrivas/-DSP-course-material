{
 "cells": [
  {
   "cell_type": "markdown",
   "metadata": {
    "deletable": false,
    "editable": false,
    "nbgrader": {
     "cell_type": "markdown",
     "checksum": "f6b1225fbe2347596924064d439ab349",
     "grade": false,
     "grade_id": "cell-4d6114cac46a3230",
     "locked": true,
     "schema_version": 3,
     "solution": false,
     "task": false
    }
   },
   "source": [
    "# Complex Fourier Transform\n",
    "\n",
    "## Complex numbers\n",
    "Although complex numbers are fundamentally disconnected from our reality, they can be used to solve  science  and  engineering  problems  in  two  ways:\n",
    "1. As parameters  from  a  real  world problem than can be substituted into a complex form.\n",
    "2. As complex numbers that can be mathematically equivalent to the physical problem.\n",
    "\n",
    "This  second approach leads to the complex Fourier Transform, a more sophisticated version of the real Fourier Transform."
   ]
  },
  {
   "cell_type": "markdown",
   "metadata": {
    "deletable": false,
    "editable": false,
    "nbgrader": {
     "cell_type": "markdown",
     "checksum": "9c00f49cd188139f61ac52ba8c747ae2",
     "grade": false,
     "grade_id": "cell-ef79e4ec0307eec1",
     "locked": true,
     "schema_version": 3,
     "solution": false,
     "task": false
    }
   },
   "source": [
    "## Review of Real DFT\n",
    "We  defined  the  real  version  of  the  Discrete  Fourier  Transform according to the equations:\n",
    "\n",
    "$$\\mathbf{Re}X[k] = \\sum^{N-1}_{n=0}x[n]\\cos{(2\\pi kn/N)}$$\n",
    "$$\\mathbf{Im}X[k] = -\\sum^{N-1}_{n=0}x[n]\\sin{(2\\pi kn/N)}$$ \n",
    "\n",
    "where $0\\leq k \\leq N/2$\n",
    "\n",
    "By introducing the normalization factor $2/N$, which comes from $Re\\bar{X}[k]$ and $Im\\bar{X}[k]$, we can write:\n",
    "$$\\mathbf{Re}X[k] = \\frac{2}{N}\\sum^{N-1}_{n=0}x[n]\\cos{(2\\pi kn/N)}$$\n",
    "$$\\mathbf{Im}X[k] =  -\\frac{2}{N}\\sum^{N-1}_{n=0}x[n]\\sin{(2\\pi kn/N)}$$ \n",
    "\n",
    "The amplitudes of the cosine waves are contained in $Re X[k]$, while the  amplitudes  of  the  sine  waves  are  contained in $ImX[k]$. These equations operate by correlating the respective cosine or sine wave with the time domain signal. In spite of using the names: real part and imaginary part, there are no complex numbers in these equations.\n",
    "\n",
    "Even though  the  real  DFT  uses  only  real  numbers,  substitution  allows  the frequency domain to be represented using complex numbers.  As suggested by the  names  of  the  arrays. In other words, we  place  a $j$  with  each  value  in  the  imaginary  part,  and  add  the  result  to  the real  part. However, do not make the  mistake of thinking that this is the **\"complex DFT\"**. This is nothing more than the real DFT with complex substitution.\n",
    "\n",
    "While  the  real  DFT  is  adequate  for  many  applications  in  science  and engineering, it is mathematically awkward in three respects:\n",
    "1. Only takes advantage of complex numbers through the use of substitution, therefore complex numbers don't have a meaning here.\n",
    "2. Poor handling of the negative frequency portion of the spectrum.\n",
    "3. $Re X[0]$ and $Re X[N/2]$ need special handling."
   ]
  },
  {
   "cell_type": "markdown",
   "metadata": {
    "deletable": false,
    "editable": false,
    "nbgrader": {
     "cell_type": "markdown",
     "checksum": "c27cf7e6c0e5a6c89b40c51a0bda737f",
     "grade": false,
     "grade_id": "cell-ae6d23528ef6d95a",
     "locked": true,
     "schema_version": 3,
     "solution": false,
     "task": false
    }
   },
   "source": [
    "## Euler's Refresher\n",
    "We can use Euler's formula to express the relationship between the trigonometric functions and the complex exponential function as:\n",
    "\n",
    "$$e^{jx}=\\cos{(x)}+j\\sin{(x)}$$\n",
    "\n",
    "Using this formula, we can express sine and cosines as follows:\n",
    "\n",
    "$$e^{-jx}=\\cos{(-x)}+j\\sin{(-x)}$$\n",
    "\n",
    "Since cosine is an even and sine an odd function we can get:\n",
    "$$e^{-jx}=\\cos{(x)}-j\\sin{(x)}$$\n",
    "\n",
    "If we add $e^{jx}$ and $e^{-jx}$ we can get an expression for cosine as:\n",
    "$$\\cos(x) = \\frac{e^{jx}+e^{-jx}}{2}$$\n",
    "\n",
    "If we subtract $e^{jx}$ and $e^{-jx}$ we can get an expression for sine as:\n",
    "$$\\sin(x) = \\frac{e^{jx}-e^{-jx}}{2j}$$\n",
    "\n",
    "Rewriting for $x=\\omega t$\n",
    "$$\\cos(\\omega t) =\\frac{1}{2} e^{j\\omega t}+\\frac{1}{2} e^{-j\\omega t}$$\n",
    "$$\\sin(\\omega t) =\\frac{1}{2j}e^{j\\omega t}-\\frac{1}{2j}e^{-j\\omega t}$$\n",
    "\n",
    "With Euler's formula we see that the sum of exponential contains a positive frequency $\\omega$ and a negative frequency $-\\omega$. "
   ]
  },
  {
   "cell_type": "markdown",
   "metadata": {
    "deletable": false,
    "editable": false,
    "nbgrader": {
     "cell_type": "markdown",
     "checksum": "3c68d912c2113704eb8149684ebca5f3",
     "grade": false,
     "grade_id": "cell-af06fefa8e72d5f0",
     "locked": true,
     "schema_version": 3,
     "solution": false,
     "task": false
    }
   },
   "source": [
    "# Complex DFT\n",
    "\n",
    "The Complex Discrete Fourier Transform is defined as:\n",
    "\n",
    "$$X[k] = \\frac{1}{N}\\sum\\limits^{N-1}_{n=0}{x[n]e^{-j\\frac{2\\pi k n}{N}}} $$\n",
    "\n",
    "Where $X[k]$ has $N-1$ points.\n",
    "\n",
    "By using Euler's formula we can get a rectangular form for the Complex DFT:\n",
    "\n",
    "$$X[k] = \\frac{1}{N}\\sum\\limits^{N-1}_{n=0}{x[n]\\left[\\cos{\\left(\\frac{2\\pi k n}{N}\\right)} -j\\sin{\\left(\\frac{2\\pi k n}{N}\\right)} \\right]} $$"
   ]
  },
  {
   "cell_type": "markdown",
   "metadata": {
    "deletable": false,
    "editable": false,
    "nbgrader": {
     "cell_type": "markdown",
     "checksum": "edebf50df4e680cd2614b72fe2b5db65",
     "grade": false,
     "grade_id": "cell-0df581ccdc0e24ae",
     "locked": true,
     "schema_version": 3,
     "solution": false,
     "task": false
    }
   },
   "source": [
    "## Differences between Real DFT and Complex DFT\n",
    "1. Real DFT converts a real time domain signal, $x[n]$ into two real frequency domain signals $Re X[k]$ and $Im X[k]$. In Complex DFT, $x[n]$ and $X[k]$ are arrays of complex numbers.\n",
    "\n",
    "\n",
    "2. Real DFT uses only positive frequencies (k goes from 0 to N/2). Complex DFT uses positive and negative frequencies (k goes from 0 to N-1, positive frequencies go from 0 to N/2 and negative from N/2 to N-1).\n",
    "\n",
    "\n",
    "3. Real DFT adds $j$ to the sine wave allowing the frequency spectrum to be represented by complex numbers. To convert back to sine and cosine waves we drop the $j$ and sum terms. This is mathematically incorrect!\n",
    "\n",
    "\n",
    "4. Scaling factors of two is not needed in Complex DFT, since this is dealt by the positive and negative frequency nature of the transformation.\n",
    "\n",
    "\n",
    "5. Complex DFT doesn't require special handling of $Re X[0]$ and $Re X[N/2]$."
   ]
  },
  {
   "cell_type": "code",
   "execution_count": null,
   "metadata": {
    "deletable": false,
    "editable": false,
    "nbgrader": {
     "cell_type": "code",
     "checksum": "5bac4dfcaba2cf4901a096ce46b97065",
     "grade": false,
     "grade_id": "cell-3581aec1490bd4a5",
     "locked": true,
     "schema_version": 3,
     "solution": false,
     "task": false
    }
   },
   "outputs": [],
   "source": [
    "import numpy as np\n",
    "import matplotlib.pyplot as plt\n",
    "import pickle"
   ]
  },
  {
   "cell_type": "code",
   "execution_count": null,
   "metadata": {
    "deletable": false,
    "editable": false,
    "nbgrader": {
     "cell_type": "code",
     "checksum": "db995e1275cb8f76c020284c99afa794",
     "grade": false,
     "grade_id": "cell-20c6c91a11e65f6f",
     "locked": true,
     "schema_version": 3,
     "solution": false,
     "task": false
    }
   },
   "outputs": [],
   "source": [
    "file = {'x':'Signals/InputSignal_f32_1kHz_15kHz.dat'}\n",
    "\n",
    "x = np.loadtxt(file['x'])\n",
    "N,M = x.shape\n",
    "x = x.reshape(N*M, 1)\n",
    "\n",
    "plt.plot(x)\n",
    "plt.xlabel('samples')\n",
    "plt.ylabel('amplitude')\n",
    "plt.title('Signal')\n",
    "plt.grid('on')\n",
    "plt.show()"
   ]
  },
  {
   "cell_type": "markdown",
   "metadata": {
    "deletable": false,
    "editable": false,
    "nbgrader": {
     "cell_type": "markdown",
     "checksum": "3761cc130809af08a6ad5630148cdb10",
     "grade": false,
     "grade_id": "cell-af7df51b92d05ede",
     "locked": true,
     "schema_version": 3,
     "solution": false,
     "task": false
    }
   },
   "source": [
    "## Implementation of the Complex Fourier Transform\n",
    "In this part you will create a function called `complex_dft` which will perform the calculation of the Complex Fouier Transform described above, you have to take special care of your numpy arrays because they will hold complex values. The function `frequency_domain` is the same developed in the DFT notebook."
   ]
  },
  {
   "cell_type": "code",
   "execution_count": null,
   "metadata": {
    "deletable": false,
    "nbgrader": {
     "cell_type": "code",
     "checksum": "8d20e50dfdb410bd73784aabcedccd46",
     "grade": false,
     "grade_id": "cell-77285e9a80c75e5d",
     "locked": false,
     "schema_version": 3,
     "solution": true,
     "task": false
    }
   },
   "outputs": [],
   "source": [
    "def complex_dft(x):\n",
    "    \"\"\"\n",
    "    Function that calculates the Complex DFT of an input signal.\n",
    "    \n",
    "    Parameters: \n",
    "    signal (numpy array): Array of numbers representing the input signal.\n",
    "\n",
    "    Returns: \n",
    "    complex numpy array: complex DFT of input signal of type imaginary.\n",
    "    \"\"\"\n",
    "\n",
    "    N = x.shape[0]\n",
    "    \n",
    "    # YOUR CODE HERE\n",
    "    raise NotImplementedError()\n",
    "    return X\n",
    "\n",
    "  \n",
    "    \n",
    "def frequency_domain(x, style='fraction', **kwargs):\n",
    "    \"\"\" \n",
    "    Function that calculates the frequency domain independent variable.\n",
    "\n",
    "    Parameters: \n",
    "    x (numpy array): Array of numbers representing the input signal inthe Fourier domain\n",
    "    to  obtain the frequency independent variable.\n",
    "    style (string): String value that selects between frequency domain's \n",
    "    independent variable.\n",
    "        'samples' returns number of samples between 0 to N/2\n",
    "        'fraction' returns a fraction of the sampling rate between 0 to 0.5\n",
    "        'natural' returns the natural frequency between 0 and pi.\n",
    "        'analog' returns analog frequency between 0 and fsamp/2\n",
    "    fsamp (float): Float value representing the sampling frequency. \n",
    "        (Only used for 'analog' style).\n",
    "\n",
    "    Returns: \n",
    "    numpy array: Returns frequency domain's independent variable.\n",
    "\n",
    "        \"\"\"\n",
    "    N = x.shape[0]\n",
    "    t = np.arange(N)\n",
    "    \n",
    "    # YOUR CODE HERE\n",
    "    raise NotImplementedError()"
   ]
  },
  {
   "cell_type": "markdown",
   "metadata": {
    "deletable": false,
    "editable": false,
    "nbgrader": {
     "cell_type": "markdown",
     "checksum": "27dd9abfb3ede64415e1b94d92335bec",
     "grade": false,
     "grade_id": "cell-32c57379b74fb715",
     "locked": true,
     "schema_version": 3,
     "solution": false,
     "task": false
    }
   },
   "source": [
    "### Test your Implementation\n",
    "You can test your implementation and compare it with SciPy, if there is any mismatch try to correct your code."
   ]
  },
  {
   "cell_type": "code",
   "execution_count": null,
   "metadata": {
    "deletable": false,
    "editable": false,
    "nbgrader": {
     "cell_type": "code",
     "checksum": "bb149d4b439e7e90139c59a12a42b0a1",
     "grade": true,
     "grade_id": "cell-b9facb9962ab346e",
     "locked": true,
     "points": 35,
     "schema_version": 3,
     "solution": false,
     "task": false
    }
   },
   "outputs": [],
   "source": [
    "from scipy.fftpack import fft\n",
    "#SciPy Calculations\n",
    "y =fft(x.flatten())\n",
    "N = y.shape[0]\n",
    "rey = (np.real(y)).reshape(-1,1)/N #ScipPy does not normalize\n",
    "imy = (np.imag(y)).reshape(-1,1)/N #ScipPy does not normalize\n",
    "\n",
    "#Our Calculation\n",
    "X = complex_dft(x)\n",
    "f = frequency_domain(X, style='fraction')\n",
    "\n",
    "plt.rcParams['figure.figsize'] = (10,5)\n",
    "plt.suptitle(\"Comparison between Scipy and Our Implementation\", fontsize=14)\n",
    "\n",
    "plt.subplot(1,2,1)\n",
    "plt.plot(f, np.real(X), label='Our Implementation')\n",
    "plt.plot(f, rey, label='SciPy Implementation')\n",
    "plt.xlabel('Fraction Domain')\n",
    "plt.ylabel('Amplitude')\n",
    "plt.legend()\n",
    "plt.grid('on');\n",
    "\n",
    "plt.subplot(1,2,2)\n",
    "plt.plot(f, np.imag(X), label='Our Implementation')\n",
    "plt.plot(f, imy, label='SciPy Implementation')\n",
    "plt.xlabel('Fraction Domain')\n",
    "plt.ylabel('Amplitude')\n",
    "plt.legend()\n",
    "plt.grid('on')\n",
    "plt.show()\n",
    "\n",
    "assert np.isclose(np.real(X), rey).all()\n",
    "assert np.isclose(np.imag(X), imy).all()"
   ]
  },
  {
   "cell_type": "markdown",
   "metadata": {
    "deletable": false,
    "editable": false,
    "nbgrader": {
     "cell_type": "markdown",
     "checksum": "2a3008665a0154d30387769e3edd6c89",
     "grade": false,
     "grade_id": "cell-9664a257676d4d69",
     "locked": true,
     "schema_version": 3,
     "solution": false,
     "task": false
    }
   },
   "source": [
    "# Complex IDFT\n",
    "\n",
    "The Complex Inverse Discrete Fourier Transform is defined as:\n",
    "\n",
    "$$x[n] = \\sum\\limits^{N-1}_{k=0}{X[k]e^{j\\frac{2\\pi k n}{N}}} $$\n",
    "\n",
    "Where $x[n]$ has $N-1$ points.\n",
    "\n",
    "By using Euler's formula we can get a rectangular form for the Complex IDFT:\n",
    "\n",
    "$$x[n] = \\sum\\limits^{N-1}_{k=0}{\\left(Re X[k]+j ImX[k] \\right)e^{j\\frac{2\\pi k n}{N}}} $$\n",
    "$$ = \\sum\\limits^{N-1}_{k=0}{Re X[k] e^{j\\frac{2\\pi k n}{N}}} + \\sum\\limits^{N-1}_{k=0}{j Im X[k] e^{j\\frac{2\\pi k n}{N}}} $$\n",
    "\n",
    "with:\n",
    "$$e^{j\\frac{2\\pi k n}{N}} = \\left[\\cos{\\left(\\frac{2\\pi k n}{N}\\right)} +j\\sin{\\left(\\frac{2\\pi k n}{N}\\right)} \\right]$$\n",
    "\n",
    "therefore:\n",
    "$$x[n] = \\sum\\limits^{N-1}_{k=0}{Re X[k] \\left[\\cos{\\left(\\frac{2\\pi k n}{N}\\right)} +j\\sin{\\left(\\frac{2\\pi k n}{N}\\right)} \\right]} + \\sum\\limits^{N-1}_{k=0}{Im X[k] \\left[-\\sin{\\left(\\frac{2\\pi k n}{N}\\right)} +j\\cos{\\left(\\frac{2\\pi k n}{N}\\right)} \\right]} $$\n",
    "\n",
    "\n",
    "<br>\n",
    "In words, each value in the real part of the frequency domain contributes a real cosine wave and an imaginary sine wave to the time domain.  Likewise, each value  in  the  imaginary  part  of  the  frequency  domain  contributes  a  real  sine wave and an imaginary cosine wave.  The time domain is found by adding all these real and imaginary sinusoids.  The important concept is that each value in  the  frequency  domain  produces  both  a  real  sinusoid  and  an  imaginary sinusoid in the time domain."
   ]
  },
  {
   "cell_type": "markdown",
   "metadata": {
    "deletable": false,
    "editable": false,
    "nbgrader": {
     "cell_type": "markdown",
     "checksum": "6c9aacc6f6c4effb87af152654cd6b2b",
     "grade": false,
     "grade_id": "cell-0380a9e9abab9211",
     "locked": true,
     "schema_version": 3,
     "solution": false,
     "task": false
    }
   },
   "source": [
    "## Implement the Inverse Complex FourierTransform\n",
    "Now you will implement a function called `complex_idft` which performs the Inverse Fourier Transform on a frequency signal using the equation explained above."
   ]
  },
  {
   "cell_type": "code",
   "execution_count": null,
   "metadata": {
    "deletable": false,
    "nbgrader": {
     "cell_type": "code",
     "checksum": "909d9d4e35e7f05930390a293ef8675b",
     "grade": false,
     "grade_id": "cell-38ed70c17f67dd94",
     "locked": false,
     "schema_version": 3,
     "solution": true,
     "task": false
    }
   },
   "outputs": [],
   "source": [
    "def complex_idft(X):\n",
    "    \"\"\"\n",
    "    Function that calculates the Complex IDFT of an input signal.\n",
    "\n",
    "    Returns: \n",
    "    complex numpy array: complex IDFT of input signal of type imaginary.\n",
    "    \"\"\"\n",
    "    N = X.shape[0]\n",
    "    \n",
    "    # YOUR CODE HERE\n",
    "    raise NotImplementedError()\n",
    "    return x"
   ]
  },
  {
   "cell_type": "markdown",
   "metadata": {
    "deletable": false,
    "editable": false,
    "nbgrader": {
     "cell_type": "markdown",
     "checksum": "0a29c976214970d8dc420a9c6e3173fd",
     "grade": false,
     "grade_id": "cell-37e7b9e6364cbcd5",
     "locked": true,
     "schema_version": 3,
     "solution": false,
     "task": false
    }
   },
   "source": [
    "### Test your ComplexFourierTransform Class\n",
    "You can test your implementation and compare it with the original signal, if there is any mismatch try to correct your code. Try to understand both the real and imaginary signals that the Complex IDFT generates."
   ]
  },
  {
   "cell_type": "code",
   "execution_count": null,
   "metadata": {
    "deletable": false,
    "editable": false,
    "nbgrader": {
     "cell_type": "code",
     "checksum": "06b3bb98c366f32db9a04d60ff9308e9",
     "grade": true,
     "grade_id": "cell-1740829b34af16e9",
     "locked": true,
     "points": 35,
     "schema_version": 3,
     "solution": false,
     "task": false
    }
   },
   "outputs": [],
   "source": [
    "#Our Calculation\n",
    "X = complex_dft(x)\n",
    "x_idft = complex_idft(X)\n",
    "f = frequency_domain(X, style='fraction')\n",
    "\n",
    "plt.suptitle(\"Complex IDFT\", fontsize=14)\n",
    "\n",
    "plt.subplot(2,1,1)\n",
    "plt.plot(x, label='Original Signal')\n",
    "plt.plot(np.real(x_idft), label='Complex IDT -Real Part')\n",
    "plt.xlabel('Sample')\n",
    "plt.ylabel('Amplitude')\n",
    "plt.legend()\n",
    "plt.grid('on')\n",
    "\n",
    "plt.subplot(2,1,2)\n",
    "plt.plot(np.imag(x_idft), label='Complex IDT -Imaginary Part')\n",
    "plt.xlabel('Sample')\n",
    "plt.ylabel('Amplitude')\n",
    "plt.legend()\n",
    "plt.grid('on')\n",
    "\n",
    "plt.show()\n",
    "\n",
    "# Check if implementation reproduces original signal until certain threshold\n",
    "epsilon = 10**-13\n",
    "assert np.abs(np.sum(np.real(x_idft)-x))<=epsilon"
   ]
  },
  {
   "cell_type": "markdown",
   "metadata": {
    "deletable": false,
    "editable": false,
    "nbgrader": {
     "cell_type": "markdown",
     "checksum": "636bc5dfdbd13d5082cb96cf4ef603c3",
     "grade": false,
     "grade_id": "cell-42397509f4818618",
     "locked": true,
     "schema_version": 3,
     "solution": false,
     "task": false
    }
   },
   "source": [
    "## A Pure Real Signal\n",
    "Previously we developed our `mean` and `variance` functions, but in this case we will use the ones provided by NumPy to calculate both metrics."
   ]
  },
  {
   "cell_type": "code",
   "execution_count": null,
   "metadata": {
    "deletable": false,
    "nbgrader": {
     "cell_type": "code",
     "checksum": "150dc0488403bb30b9b7a8f08673cf84",
     "grade": false,
     "grade_id": "cell-c1829fa894d075f3",
     "locked": false,
     "schema_version": 3,
     "solution": true,
     "task": false
    }
   },
   "outputs": [],
   "source": [
    "X = complex_dft(x)\n",
    "x_idft = complex_idft(X)\n",
    "\n",
    "# Calculate the mean values of the real and imaginary parts of the Inverse Complex Fourier Transform\n",
    "# Name them mean_real_idft and mean_imag_idft respectively.\n",
    "# YOUR CODE HERE\n",
    "raise NotImplementedError()\n",
    "\n",
    "# Calculate the variance values of the real and imaginary parts of the Inverse Complex Fourier Transform\n",
    "# Name them var_real_idft and var_imag_idft respectively.\n",
    "# YOUR CODE HERE\n",
    "raise NotImplementedError()"
   ]
  },
  {
   "cell_type": "code",
   "execution_count": null,
   "metadata": {
    "deletable": false,
    "editable": false,
    "nbgrader": {
     "cell_type": "code",
     "checksum": "644cd207712467b4069c5f07b55e1ba4",
     "grade": true,
     "grade_id": "cell-75fd4f0c32db2ad5",
     "locked": true,
     "points": 30,
     "schema_version": 3,
     "solution": false,
     "task": false
    }
   },
   "outputs": [],
   "source": [
    "print('Mean of the real IDFT signal = {:.3f}'.format(mean_real_idft))\n",
    "print('Mean of the imaginary IDFT signal = {:.3f}'.format(mean_imag_idft))\n",
    "\n",
    "print('\\nVariance of the real IDFT signal = {:.3f}'.format(var_real_idft))\n",
    "print('Variance of the imaginary IDFT signal = {:.3f}'.format(var_imag_idft))\n",
    "\n",
    "\n",
    "with open('metrics.pkl', 'rb') as file:\n",
    "    metrics = pickle.load(file)\n",
    "    \n",
    "    \n",
    "assert np.isclose(mean_real_idft, metrics['mean_real_idft'], atol=0.01)\n",
    "assert np.isclose(mean_imag_idft, metrics['mean_imag_idft'], atol=0.01)\n",
    "assert np.isclose(var_real_idft, metrics['var_real_idft'], atol=0.001)\n",
    "assert np.isclose(var_imag_idft, metrics['var_imag_idft'], atol=0.001)"
   ]
  },
  {
   "cell_type": "markdown",
   "metadata": {
    "deletable": false,
    "editable": false,
    "nbgrader": {
     "cell_type": "markdown",
     "checksum": "f0933aa295fa4b7d49fa8c882184d420",
     "grade": false,
     "grade_id": "cell-79e2b15c0c8562b7",
     "locked": true,
     "schema_version": 3,
     "solution": false,
     "task": false
    }
   },
   "source": [
    "From the previous metrics you can see that the recovered signal only consist of a real part in the IDFT, so by using the mean and variance we can be assured to say that our signal is a *pure real signal*."
   ]
  },
  {
   "cell_type": "markdown",
   "metadata": {
    "deletable": false,
    "editable": false,
    "nbgrader": {
     "cell_type": "markdown",
     "checksum": "7d152d316d2848d88d5c5c1200da3fca",
     "grade": false,
     "grade_id": "cell-6a019f3d7fba86d6",
     "locked": true,
     "schema_version": 3,
     "solution": false,
     "task": false
    }
   },
   "source": [
    "#### References:\n",
    "\n",
    "* https://www.dspguide.com/ch31.htm"
   ]
  }
 ],
 "metadata": {
  "kernelspec": {
   "display_name": "Python 3 (ipykernel)",
   "language": "python",
   "name": "python3"
  },
  "language_info": {
   "codemirror_mode": {
    "name": "ipython",
    "version": 3
   },
   "file_extension": ".py",
   "mimetype": "text/x-python",
   "name": "python",
   "nbconvert_exporter": "python",
   "pygments_lexer": "ipython3",
   "version": "3.10.4"
  }
 },
 "nbformat": 4,
 "nbformat_minor": 2
}
