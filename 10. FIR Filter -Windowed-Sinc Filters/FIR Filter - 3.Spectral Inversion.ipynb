{
 "cells": [
  {
   "cell_type": "markdown",
   "metadata": {
    "deletable": false,
    "editable": false,
    "nbgrader": {
     "cell_type": "markdown",
     "checksum": "bc57d45d389dcaff05c212373bc63377",
     "grade": false,
     "grade_id": "cell-ff10039a2f80e20d",
     "locked": true,
     "schema_version": 3,
     "solution": false,
     "task": false
    }
   },
   "source": [
    "# High Pass Filter Using the Spectral Inversion Technique\n",
    "\n",
    "We can also create a high pass filter by using as reference a low pass filter and another technique called **Spectral Inversion**. For this notebook we will use the *Windowed-Sinc Filters* Notebook results, which are pickled in an serialized object called `save_data.pickle`.\n",
    "\n",
    "<font color=\"blue\">Note: In order to run this Jupyter Notebook you must create a file named `aux_functions.py` inside the folder containing this Notebook with the following functions `get_fourier`, `shifted_sinc_function`,  `hamming_window` and `blackman_window` which were developed previously.</font> "
   ]
  },
  {
   "cell_type": "code",
   "execution_count": null,
   "metadata": {
    "deletable": false,
    "editable": false,
    "nbgrader": {
     "cell_type": "code",
     "checksum": "ab6cdc6896efff58cb951189303c18fa",
     "grade": false,
     "grade_id": "cell-e24997d85b9702be",
     "locked": true,
     "schema_version": 3,
     "solution": false,
     "task": false
    }
   },
   "outputs": [],
   "source": [
    "import numpy as np\n",
    "import matplotlib.pyplot as plt\n",
    "\n",
    "import pickle\n",
    "\n",
    "from aux_functions import get_fourier\n",
    "from aux_plots import plot_frequency_response"
   ]
  },
  {
   "cell_type": "markdown",
   "metadata": {
    "deletable": false,
    "editable": false,
    "nbgrader": {
     "cell_type": "markdown",
     "checksum": "7fab53b588c863c80ce4f307cb1d58df",
     "grade": false,
     "grade_id": "cell-4fe821a4c69f65c3",
     "locked": true,
     "schema_version": 3,
     "solution": false,
     "task": false
    }
   },
   "source": [
    "## Load the data and the Low-Pass Filter Coefficients\n",
    "We load the low pass data from the *Windowed-Sinc Filters* Notebook"
   ]
  },
  {
   "cell_type": "code",
   "execution_count": null,
   "metadata": {
    "deletable": false,
    "editable": false,
    "nbgrader": {
     "cell_type": "code",
     "checksum": "8555a009b804e76778a898beb3249584",
     "grade": false,
     "grade_id": "cell-4f6f40a1e0bd6db8",
     "locked": true,
     "schema_version": 3,
     "solution": false,
     "task": false
    }
   },
   "outputs": [],
   "source": [
    "with open('save_data.pickle', 'rb') as f:\n",
    "    data = pickle.load(f)\n",
    "    \n",
    "ecg = np.array(data['ecg'])\n",
    "low_pass = np.array(data['low_pass'])\n",
    "low_pass = low_pass/np.sum(low_pass)\n",
    "fft_low_pass = np.array(data['fft_low_pass'])"
   ]
  },
  {
   "cell_type": "markdown",
   "metadata": {
    "deletable": false,
    "editable": false,
    "nbgrader": {
     "cell_type": "markdown",
     "checksum": "f2f419699cd06fab571646573a457286",
     "grade": false,
     "grade_id": "cell-8a4bad1ea5361047",
     "locked": true,
     "schema_version": 3,
     "solution": false,
     "task": false
    }
   },
   "source": [
    "## Create a High-Pass Filter\n",
    "To generate the high pass filter, we use the **Sprectral Inversion** methond, which consist of multiplying the low pass filter response $h_{lp}[n]$ with $-1$ and then add $1$ to the center value. Therefore the high pass filter response is given by:\n",
    "$$h_{hp}[n] = \\delta[n] -h_{lp}[n]$$\n",
    "\n",
    "Implement a high-pass filter function called `spectral_inversion` wich takes as input an array of low-pass filter coefficients `h_lp` and returns an array of high-pass filter coefficient using the equation described before."
   ]
  },
  {
   "cell_type": "code",
   "execution_count": null,
   "metadata": {
    "deletable": false,
    "nbgrader": {
     "cell_type": "code",
     "checksum": "28f457f0c8ee2432bb935f6bcc04a529",
     "grade": false,
     "grade_id": "cell-130459237248fe07",
     "locked": false,
     "schema_version": 3,
     "solution": true,
     "task": false
    }
   },
   "outputs": [],
   "source": [
    "def spectral_inversion(h_lp):\n",
    "    \"\"\"\n",
    "    Function that performs the spectral inversion of a low pass filter with\n",
    "    coefficients h_lp and returns the high pass coefficients h_hp.\n",
    "  \n",
    "    Parameters: \n",
    "    h_lp (array): Array of numbers representing the low pass filter coefficients.\n",
    "  \n",
    "    Returns: \n",
    "    numpy array: Array of numbers representing the high pass filter coefficients.\n",
    "    \"\"\"\n",
    "    # YOUR CODE HERE\n",
    "    raise NotImplementedError()"
   ]
  },
  {
   "cell_type": "code",
   "execution_count": null,
   "metadata": {
    "deletable": false,
    "nbgrader": {
     "cell_type": "code",
     "checksum": "37b6a1e8ea881191ace65a9a2b035ab3",
     "grade": false,
     "grade_id": "cell-c099bf3073b72d08",
     "locked": false,
     "schema_version": 3,
     "solution": true,
     "task": false
    }
   },
   "outputs": [],
   "source": [
    "# Use the spectral_inversion function on low pass filter to obtain a high pass filter.\n",
    "# The coefficients of the low pass filter are stored in the low_pass variable.\n",
    "# Store the result in a variable named high_pass.\n",
    "# YOUR CODE HERE\n",
    "raise NotImplementedError()"
   ]
  },
  {
   "cell_type": "code",
   "execution_count": null,
   "metadata": {
    "deletable": false,
    "editable": false,
    "nbgrader": {
     "cell_type": "code",
     "checksum": "77c8618a96f780a21c76499ec503397e",
     "grade": true,
     "grade_id": "cell-45aa94e1f79af4f8",
     "locked": true,
     "points": 50,
     "schema_version": 3,
     "solution": false,
     "task": false
    }
   },
   "outputs": [],
   "source": [
    "with open('high_pass_spectral.pkl', 'rb') as file:\n",
    "    high_pass_pkl = pickle.load(file)\n",
    "    \n",
    "\n",
    "assert np.allclose(high_pass_pkl, high_pass, atol=0.01)"
   ]
  },
  {
   "cell_type": "code",
   "execution_count": null,
   "metadata": {
    "deletable": false,
    "nbgrader": {
     "cell_type": "code",
     "checksum": "60126288b82ce86e69822e67dfbcee80",
     "grade": false,
     "grade_id": "cell-a9d238e0e76ed4b3",
     "locked": false,
     "schema_version": 3,
     "solution": true,
     "task": false
    }
   },
   "outputs": [],
   "source": [
    "# Find the Fourier Transform for the low pass filter and assign:\n",
    "# The magnitude to dft_low_pass_magnitude\n",
    "# The normalized frequency to dft_low_pass_freq\n",
    "# YOUR CODE HERE\n",
    "raise NotImplementedError()\n",
    "\n",
    "# Find the Fourier Transform for the high pass filter and assign:\n",
    "# The magnitude to dft_high_pass_magnitude\n",
    "# The normalized frequency to dft_high_pass_freq\n",
    "# YOUR CODE HERE\n",
    "raise NotImplementedError()"
   ]
  },
  {
   "cell_type": "code",
   "execution_count": null,
   "metadata": {
    "deletable": false,
    "editable": false,
    "nbgrader": {
     "cell_type": "code",
     "checksum": "0d3e3c32af559a2d16df12d446c94534",
     "grade": true,
     "grade_id": "cell-c0f2aa53ee1c1212",
     "locked": true,
     "points": 25,
     "schema_version": 3,
     "solution": false,
     "task": false
    }
   },
   "outputs": [],
   "source": [
    "with open('high_pass_spectral_dft.pkl', 'rb') as file:\n",
    "    dft_low_pass_magnitude_pkl, dft_low_pass_freq_pkl, \\\n",
    "    dft_high_pass_magnitude_pkl, dft_high_pass_freq_pkl = pickle.load(file)\n",
    "    \n",
    "    \n",
    "assert np.allclose(dft_low_pass_magnitude_pkl, dft_low_pass_magnitude, atol=0.01)\n",
    "assert np.allclose(dft_low_pass_freq_pkl, dft_low_pass_freq, atol=0.01)\n",
    "assert np.allclose(dft_high_pass_magnitude_pkl, dft_high_pass_magnitude, atol=0.01)\n",
    "assert np.allclose(dft_high_pass_freq_pkl, dft_high_pass_freq, atol=0.01)\n",
    "\n",
    "\n",
    "plt.rcParams[\"figure.figsize\"] = (15,10)\n",
    "\n",
    "plt.subplot(3,2,1)\n",
    "plt.plot(low_pass)\n",
    "#plt.stem(low_pass, markerfmt='.', use_line_collection=True)\n",
    "plt.title('Low Pass Filter')\n",
    "plt.grid('on')\n",
    "plt.xlabel('Samples')\n",
    "plt.ylabel('Amplitude')\n",
    "\n",
    "plt.subplot(3,2,2)\n",
    "plt.plot(high_pass)\n",
    "#plt.stem(high_pass, markerfmt='.', use_line_collection=True)\n",
    "plt.title('High Pass Filter')\n",
    "plt.grid('on')\n",
    "plt.xlabel('Samples')\n",
    "plt.ylabel('Amplitude')\n",
    "\n",
    "plt.subplot(3,2,3)\n",
    "dft_low_pass_magnitude_reshape = np.copy(dft_low_pass_magnitude)\n",
    "plot_frequency_response(dft_low_pass_magnitude_reshape.reshape(-1,1), \n",
    "                               dft_low_pass_freq, \n",
    "                               title='Low Pass Filter Response')\n",
    "\n",
    "plt.subplot(3,2,4)\n",
    "dft_high_pass_magnitude_reshape = np.copy(dft_high_pass_magnitude)\n",
    "plot_frequency_response(dft_high_pass_magnitude_reshape.reshape(-1,1), \n",
    "                               dft_high_pass_freq, \n",
    "                               title='High Pass Filter Response');\n",
    "\n",
    "\n",
    "plt.subplot(3,2,5)\n",
    "plt.plot(dft_low_pass_freq, dft_low_pass_magnitude)\n",
    "plt.title('Low Pass Filter Response')\n",
    "plt.grid('on')\n",
    "plt.xlabel('Normalized frequency')\n",
    "plt.ylabel('Amplitude')\n",
    "\n",
    "plt.subplot(3,2,6)\n",
    "plt.plot(dft_high_pass_freq, dft_high_pass_magnitude)\n",
    "plt.title('High Pass Filter Response')\n",
    "plt.grid('on')\n",
    "plt.xlabel('Normalized frequency')\n",
    "plt.ylabel('Amplitude')\n",
    "\n",
    "\n",
    "plt.subplots_adjust(hspace=0.5)"
   ]
  },
  {
   "cell_type": "markdown",
   "metadata": {
    "deletable": false,
    "editable": false,
    "nbgrader": {
     "cell_type": "markdown",
     "checksum": "123c3996cda4e9604bccf9bae141c2b7",
     "grade": false,
     "grade_id": "cell-a9426ae252d1596b",
     "locked": true,
     "schema_version": 3,
     "solution": false,
     "task": false
    }
   },
   "source": [
    "As you can see, the frequency response of the high pass filter is an upside down version of the frequency response of the low-pass filter."
   ]
  },
  {
   "cell_type": "code",
   "execution_count": null,
   "metadata": {
    "deletable": false,
    "nbgrader": {
     "cell_type": "code",
     "checksum": "ad0560c9e4c1a8d5b161296fd443ef52",
     "grade": false,
     "grade_id": "cell-9f533ba25c6cb86f",
     "locked": false,
     "schema_version": 3,
     "solution": true,
     "task": false
    }
   },
   "outputs": [],
   "source": [
    "# Filter the ECG signal with the low pass filter. For this, use the np.convolve function.\n",
    "# Set the mode parameter to 'same'\n",
    "# YOUR CODE HERE\n",
    "raise NotImplementedError()\n",
    "\n",
    "# Filter the ECG signal with the high pass filter. For this, use the np.convolve function.\n",
    "# Set the mode parameter to 'same'\n",
    "# YOUR CODE HERE\n",
    "raise NotImplementedError()"
   ]
  },
  {
   "cell_type": "code",
   "execution_count": null,
   "metadata": {
    "deletable": false,
    "editable": false,
    "nbgrader": {
     "cell_type": "code",
     "checksum": "1fe6a0fa2a4f1cbb115cc15deabfb9f8",
     "grade": true,
     "grade_id": "cell-3387f5c1477769e4",
     "locked": true,
     "points": 25,
     "schema_version": 3,
     "solution": false,
     "task": false
    }
   },
   "outputs": [],
   "source": [
    "with open('convolve_spectral.pkl', 'rb') as file:\n",
    "    low_pass_ecg_pkl, high_pass_ecg_pkl = pickle.load(file)\n",
    "    \n",
    "assert np.allclose(low_pass_ecg_pkl, low_pass_ecg, atol=0.01)\n",
    "assert np.allclose(high_pass_ecg_pkl, high_pass_ecg, atol=0.01)\n",
    "\n",
    "plt.rcParams[\"figure.figsize\"] = (15,10)\n",
    "\n",
    "plt.subplot(2,2,1)\n",
    "plt.plot(low_pass_ecg)\n",
    "plt.title('Low Pass ECG')\n",
    "plt.grid('on')\n",
    "plt.xlabel('Samples')\n",
    "plt.ylabel('Amplitude')\n",
    "\n",
    "plt.subplot(2,2,2)\n",
    "plt.plot(high_pass_ecg)\n",
    "plt.title('High Pass ECG')\n",
    "plt.grid('on')\n",
    "plt.xlabel('Samples')\n",
    "plt.ylabel('Amplitude')\n",
    "\n",
    "plt.subplot(2,1,2)\n",
    "plt.plot(ecg)\n",
    "plt.title('ECG Signal')\n",
    "plt.grid('on')\n",
    "plt.xlabel('Samples')\n",
    "plt.ylabel('Amplitude');"
   ]
  },
  {
   "cell_type": "markdown",
   "metadata": {
    "deletable": false,
    "editable": false,
    "nbgrader": {
     "cell_type": "markdown",
     "checksum": "99de98f04be979b5027ff0c1f2ea5fc5",
     "grade": false,
     "grade_id": "cell-1439f379f8865f56",
     "locked": true,
     "schema_version": 3,
     "solution": false,
     "task": false
    }
   },
   "source": [
    "## Why Does Spectral Inversion Work?\n",
    "\n",
    "Spectral inversion is based on the following idea. A low-pass filter generates a signal with the high frequencies removed. Hence, if you subtract this signal from the original one, you have exactly the high frequencies. This means that you can implement a high-pass filter in two steps. First, you compute\n",
    "\n",
    "$$x_\\mathrm{lpf}[n]=x[n]*h_\\mathrm{lpf}[n]$$\n",
    "\n",
    "where $x[n]$ is the original signal, $h_{lpf}[n]$ is the low-pass filter, and $x_{lpf}[n]$ is the low-pass-filtered signal. The asterisk represents convolution. Second, you compute\n",
    "\n",
    "$$x_\\mathrm{hpf}[n]=x[n]-x_\\mathrm{lpf}[n]$$\n",
    "\n",
    "where $x_{hpf}[n]$ is the high-pass-filtered signal.\n",
    "\n",
    "The alternative is to adapt the filter through spectral inversion. To show that spectral inversion has exactly the same result, first note that $x[n]=x[n]*\\delta[n]$, where $\\delta[n]$ is a simple impulse, as defined in Impulse Response. You can then write\n",
    "\n",
    "$$x_\\mathrm{hpf}[n]=x[n]-x_\\mathrm{lpf}[n]=x[n]*\\delta[n]-x[n]*h_\\mathrm{lpf}[n]=x[n]*(\\delta[n]-h_\\mathrm{lpf}[n])$$\n",
    "\n",
    "where the last step follows from the distributive property of convolution. This means that the required high-pass filter is\n",
    "\n",
    "$$h_\\mathrm{hpf}[n]=\\delta[n]-h_\\mathrm{lpf}[n]$$\n",
    "\n",
    "which is exactly the procedure that I’ve described before."
   ]
  },
  {
   "cell_type": "markdown",
   "metadata": {
    "deletable": false,
    "editable": false,
    "nbgrader": {
     "cell_type": "markdown",
     "checksum": "4f1067e6929ffa6720823ae513256c31",
     "grade": false,
     "grade_id": "cell-a0ddc3d4c887b7e4",
     "locked": true,
     "schema_version": 3,
     "solution": false,
     "task": false
    }
   },
   "source": [
    "#### Reference:\n",
    "* https://tomroelandts.com/articles/how-to-create-a-simple-high-pass-filter"
   ]
  }
 ],
 "metadata": {
  "kernelspec": {
   "display_name": "Python 3 (ipykernel)",
   "language": "python",
   "name": "python3"
  },
  "language_info": {
   "codemirror_mode": {
    "name": "ipython",
    "version": 3
   },
   "file_extension": ".py",
   "mimetype": "text/x-python",
   "name": "python",
   "nbconvert_exporter": "python",
   "pygments_lexer": "ipython3",
   "version": "3.10.4"
  }
 },
 "nbformat": 4,
 "nbformat_minor": 2
}
