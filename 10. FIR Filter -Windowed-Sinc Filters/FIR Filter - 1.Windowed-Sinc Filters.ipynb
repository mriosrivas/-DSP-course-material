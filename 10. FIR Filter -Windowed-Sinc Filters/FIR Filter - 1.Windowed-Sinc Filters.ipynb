{
 "cells": [
  {
   "cell_type": "markdown",
   "metadata": {
    "deletable": false,
    "editable": false,
    "nbgrader": {
     "cell_type": "markdown",
     "checksum": "15e593fe3a21f8d401b6530e6d9e5fa5",
     "grade": false,
     "grade_id": "cell-716e7f30ed885813",
     "locked": true,
     "schema_version": 3,
     "solution": false,
     "task": false
    }
   },
   "source": [
    "# Windowed-Sinc Filters\n",
    "\n",
    "Windowed-sinc filters are used to separate one band of frequencies from another. They are very stable, produce few surprises, and can be pushed to incredible performance levels. These exceptional frequency domain characteristics are obtained at the expense of poor performance in the time domain, including excessive ripple and overshoot in the step response. When carried out by standard convolution, windowed-sinc filters are easy to program, but slow to execute.\n",
    "\n",
    "The starting point for the windowed sinc filters is the window function, in this case a mathematical expression for the window function looks like this:\n",
    "\n",
    "$$ h[k]=\\frac{\\sin{(2\\pi f_{c}\\cdot x[k])}}{\\pi \\cdot x[k]}$$ \n",
    "\n",
    "We will later see that a shifted version of the window function has a better frequency response, and that is why we prefer this kind of function over the traditional window function\n",
    "\n",
    "$$ h[k]=\\frac{\\sin{(2\\pi f_{c} \\cdot (x[k]-M/2))}}{\\pi \\cdot(x[k]-M/2)}$$\n",
    "\n",
    "Where $M$ is the filter length and we use an heuristic relationship with the transition bandwidth $BW$ to calculate it\n",
    "\n",
    "$$M = \\frac{4}{BW}$$\n",
    "\n",
    "The **cutoff frequency** of the windowed-sinc filter is measured at the **one-half amplitude point**. Why use 0.5 instead of the standard 0.707 (-3dB) used in analog electronics and other digital filters? This is because the windowed-sinc's frequency response is symmetrical between the passband and the stopband. For instance, the **Hamming window** results in a passband ripple of 0.2%, and an identical stopband attenuation (i.e., ripple in the stopband) of 0.2%. Other filters do not show this symmetry, and therefore have no advantage in using the one-half amplitude point to mark the cutoff frequency. This symmetry makes the windowed-sinc ideal for **spectral inversion**.\n",
    "\n",
    "<img src=\"Images/filter.png\" alt=\"Filter Frequency Response\" width=\"500\"/>"
   ]
  },
  {
   "cell_type": "code",
   "execution_count": null,
   "metadata": {
    "deletable": false,
    "editable": false,
    "nbgrader": {
     "cell_type": "code",
     "checksum": "0845395476eb74a672c24c98842841a3",
     "grade": false,
     "grade_id": "cell-0bca6b9222f64413",
     "locked": true,
     "schema_version": 3,
     "solution": false,
     "task": false
    }
   },
   "outputs": [],
   "source": [
    "import numpy as np\n",
    "import matplotlib.pyplot as plt\n",
    "import pickle\n",
    "\n",
    "from aux_plots import plot_frequency_response"
   ]
  },
  {
   "cell_type": "markdown",
   "metadata": {
    "deletable": false,
    "editable": false,
    "nbgrader": {
     "cell_type": "markdown",
     "checksum": "d81ff803bb0a3f7239a77cb84521c2d4",
     "grade": false,
     "grade_id": "cell-d3b6912fb45b6a5e",
     "locked": true,
     "schema_version": 3,
     "solution": false,
     "task": false
    }
   },
   "source": [
    "## Implementing Auxiliary Functions\n",
    "In this part you will implement the following three auxiliary functions:\n",
    "1. `get_fourier` wich takes as input an array of numbers `x` and returns two values: the magnitude of the Fourier Transform of `x` and the normalized frequency of the Fourier Transform.\n",
    "<br>\n",
    "\n",
    "2. `sinc_function` which implements the window sinc function $H[k]$. This function takes as input the cut-off frequency for the low-pass filter `fc` and the transition bandwidth of the filter `Bw`. The $x$ values from the equation are regular samples from $0$ to $M$.\n",
    "<br>\n",
    "\n",
    "3. `shifted_sinc_function` which implements the shifted window sinc function $H[k]$. This function takes as input the cut-off frequency for the low-pass filter `fc` and the transition bandwidth of the filter `Bw`. The $x$ values from the equation are regular samples from $0$ to $M$."
   ]
  },
  {
   "cell_type": "code",
   "execution_count": null,
   "metadata": {
    "deletable": false,
    "nbgrader": {
     "cell_type": "code",
     "checksum": "59b8d9f8654db9c1dcd798cdd3c5428c",
     "grade": false,
     "grade_id": "cell-38df72918a5801e9",
     "locked": false,
     "schema_version": 3,
     "solution": true,
     "task": false
    }
   },
   "outputs": [],
   "source": [
    "def get_fourier(x):\n",
    "    \"\"\"\n",
    "    Function that performs the Fourier calculation of a signal x and returns \n",
    "    its magnitude and frequency range.\n",
    "    \n",
    "    Parameters:\n",
    "    x (numpy array): Signal to be transformed into Fourier domain.\n",
    "    \n",
    "    Returns:\n",
    "    mag (numpy array): Magnitude of the signal's Fourier transform.\n",
    "    freq (numpy array): Frequency domain of the signal's Fourier transform.\n",
    "    \"\"\"\n",
    "    # Implemenet the FFT using NumPy, you can look for np.fft.fft\n",
    "    # Remeber that the NumPy implementation of the FFT gives us the\n",
    "    # two sided spectrum, therefore our frequency range should be\n",
    "    # betwen 0 and 1. You can look for np.linspace for implementing \n",
    "    #the frequency range.\n",
    "    # YOUR CODE HERE\n",
    "    raise NotImplementedError()"
   ]
  },
  {
   "cell_type": "code",
   "execution_count": null,
   "metadata": {
    "deletable": false,
    "nbgrader": {
     "cell_type": "code",
     "checksum": "5ea99ccef8dad5b7d4b5fe171c9644f9",
     "grade": false,
     "grade_id": "cell-e54c4497f0293f4d",
     "locked": false,
     "schema_version": 3,
     "solution": true,
     "task": false
    }
   },
   "outputs": [],
   "source": [
    "def sinc_function(fc, BW):\n",
    "    \"\"\" \n",
    "    Function that calculates a sinc time response.\n",
    "  \n",
    "    Parameters: \n",
    "    BW (float): Transition bandwidth of the filter. The lenght of the filter is \n",
    "                given by M=4/BW.\n",
    "    fc (float): Cut-off frequency for the low-pass filter. Between 0 and 0.5.\n",
    "  \n",
    "    Returns: \n",
    "    numpy array: Returns sinc time domain response.\n",
    "    \"\"\"\n",
    "    # Remember that x is a value between 0 and M and your function returns\n",
    "    # the sinc calculation on every value of x.\n",
    "    # YOUR CODE HERE\n",
    "    raise NotImplementedError()"
   ]
  },
  {
   "cell_type": "code",
   "execution_count": null,
   "metadata": {
    "deletable": false,
    "nbgrader": {
     "cell_type": "code",
     "checksum": "1478c03f5dd3a0cdf667146b5ba46bd7",
     "grade": false,
     "grade_id": "cell-91a7a33b65e159eb",
     "locked": false,
     "schema_version": 3,
     "solution": true,
     "task": false
    }
   },
   "outputs": [],
   "source": [
    "def shifted_sinc_function(fc, BW):\n",
    "    \"\"\" \n",
    "    Function that calculates a sinc shifted time response. The shifted sinc function has\n",
    "    a shift value of M=4/BW.\n",
    "  \n",
    "    Parameters: \n",
    "    BW (float): Transition bandwidth of the filter. The lenght of the filter is \n",
    "                given by M=4/BW.\n",
    "    fc (float): Cut-off frequency for the low-pass filter. Between 0 and 0.5.\n",
    "  \n",
    "    Returns: \n",
    "    numpy array: Returns sinc shifted time domain response.\n",
    "    \"\"\"\n",
    "    # Remember that x is a value between 0 and M and your function returns\n",
    "    # the shifted sinc calculation on every value of x.\n",
    "    # YOUR CODE HERE\n",
    "    raise NotImplementedError()"
   ]
  },
  {
   "cell_type": "code",
   "execution_count": null,
   "metadata": {
    "deletable": false,
    "editable": false,
    "nbgrader": {
     "cell_type": "code",
     "checksum": "5c717ad370d305d63a180dbcd0d8dac2",
     "grade": true,
     "grade_id": "cell-1e28de4d958d9c45",
     "locked": true,
     "points": 20,
     "schema_version": 3,
     "solution": false,
     "task": false
    }
   },
   "outputs": [],
   "source": [
    "with open('test_sinc.pkl', 'rb') as file:\n",
    "    sinc_test_pkl, ssinc_test_pkl, fourier_test_pkl = pickle.load(file)\n",
    "    \n",
    "sinc_test = sinc_function(0.3, 0.04)\n",
    "ssinc_test = shifted_sinc_function(0.3, 0.04)\n",
    "fourier_test = get_fourier(sinc_test)\n",
    "\n",
    "assert np.allclose(sinc_test, sinc_test_pkl, atol=0.01)\n",
    "assert np.allclose(ssinc_test, ssinc_test_pkl, atol=0.01)\n",
    "assert np.allclose(fourier_test, fourier_test_pkl, atol=0.01)"
   ]
  },
  {
   "cell_type": "markdown",
   "metadata": {
    "deletable": false,
    "editable": false,
    "nbgrader": {
     "cell_type": "markdown",
     "checksum": "ca477dd74ab5092a64688b751ee4551e",
     "grade": false,
     "grade_id": "cell-d8f52d9697f98719",
     "locked": true,
     "schema_version": 3,
     "solution": false,
     "task": false
    }
   },
   "source": [
    "## Implementing a Low Pass Filter\n",
    "\n",
    "Now that we have our auxiliary funtions we can start developing our low pass filter. First we need to select two parameters:\n",
    "1. The cut-off frequency, $0\\leq f_c \\leq 0.5$\n",
    "2. The lenght of the filter kernel, $M=\\frac{4}{BW}$, where $BW$ is the transition bandwidth (say, 99% to 1% of the curve)."
   ]
  },
  {
   "cell_type": "code",
   "execution_count": null,
   "metadata": {
    "deletable": false,
    "nbgrader": {
     "cell_type": "code",
     "checksum": "f0bc2623c71597c601ddc42b5bec27ed",
     "grade": false,
     "grade_id": "cell-cd0c058065140e88",
     "locked": false,
     "schema_version": 3,
     "solution": true,
     "task": false
    }
   },
   "outputs": [],
   "source": [
    "# Set a variable fc to a normalized cut-off frequency of 0.20\n",
    "# YOUR CODE HERE\n",
    "raise NotImplementedError()\n",
    "\n",
    "# Set a variable BW with a normalized transition bandwidth of 0.04\n",
    "# YOUR CODE HERE\n",
    "raise NotImplementedError()\n",
    "\n",
    "# Find the lenght of the filter and assign it to a variable M\n",
    "# YOUR CODE HERE\n",
    "raise NotImplementedError()\n",
    "\n",
    "# Print the size of the filter\n",
    "print(\"Filter lenght is {}\".format(M))\n",
    "\n",
    "# Apply the sinc_function and assign the result to a variable named sinc.\n",
    "# Use the previous fc and BW values.\n",
    "# YOUR CODE HERE\n",
    "raise NotImplementedError()\n",
    "\n",
    "# Apply the shifted_sinc_function and assign the result to a variable named shifted_sinc.\n",
    "# Use the previous fc and BW values.\n",
    "# YOUR CODE HERE\n",
    "raise NotImplementedError()\n",
    "\n",
    "# Normalize your sinc variable and assign it to a normalized_sinc variable.\n",
    "# Normalization is the process of dividing an array by the total sum of the same array.\n",
    "# YOUR CODE HERE\n",
    "raise NotImplementedError()\n",
    "\n",
    "# Normalize your shifted_sinc variable and assign it to a normalized_shifted_sinc variable.\n",
    "# YOUR CODE HERE\n",
    "raise NotImplementedError()\n",
    "\n",
    "# Find the fourier transform of your sinc variable and assign your magnitude result to\n",
    "# fft_sinc_magnitude, and the normalized frequency to fft_sinc_f\n",
    "# YOUR CODE HERE\n",
    "raise NotImplementedError()\n",
    "\n",
    "# Find the fourier transform of your shifted_sinc variable and assign your magnitude result to\n",
    "# fft_shifted_sinc_magnitude, and the normalized frequency to fft_shifted_sinc_f\n",
    "# YOUR CODE HERE\n",
    "raise NotImplementedError()"
   ]
  },
  {
   "cell_type": "code",
   "execution_count": null,
   "metadata": {
    "deletable": false,
    "editable": false,
    "nbgrader": {
     "cell_type": "code",
     "checksum": "87de316567e0c39c48458e42223c3d38",
     "grade": true,
     "grade_id": "cell-11928a3bab6628eb",
     "locked": true,
     "points": 20,
     "schema_version": 3,
     "solution": false,
     "task": false
    }
   },
   "outputs": [],
   "source": [
    "with open('low_pass.pkl', 'rb') as file:\n",
    "    sinc_pkl, shifted_sinc_pkl, normalized_sinc_pkl, \\\n",
    "    normalized_shifted_sinc_pkl, fft_sinc_magnitude_pkl, \\\n",
    "    fft_sinc_f_pkl, fft_shifted_sinc_magnitude_pkl, fft_shifted_sinc_f_pkl = pickle.load(file)\n",
    "\n",
    "    \n",
    "assert np.allclose(sinc_pkl, sinc, atol=0.01)\n",
    "assert np.allclose(shifted_sinc_pkl, shifted_sinc, atol=0.01)\n",
    "assert np.allclose(normalized_sinc_pkl, normalized_sinc, atol=0.01)\n",
    "assert np.allclose(normalized_shifted_sinc_pkl, normalized_shifted_sinc, atol=0.01)\n",
    "assert np.allclose(fft_sinc_magnitude_pkl, fft_sinc_magnitude, atol=0.01)\n",
    "assert np.allclose(fft_sinc_f_pkl, fft_sinc_f, atol=0.01)\n",
    "assert np.allclose(fft_shifted_sinc_magnitude_pkl, fft_shifted_sinc_magnitude, atol=0.01)\n",
    "assert np.allclose(fft_shifted_sinc_f_pkl, fft_shifted_sinc_f, atol=0.01)\n",
    "\n",
    "\n",
    "plt.rcParams[\"figure.figsize\"] = (15,10)\n",
    "\n",
    "plt.subplot(2,2,1)\n",
    "plt.plot(normalized_sinc)\n",
    "#plt.stem(normalized_sinc, markerfmt='.', use_line_collection=True)\n",
    "plt.title('Sinc Function')\n",
    "plt.grid('on')\n",
    "\n",
    "plt.subplot(2,2,2)\n",
    "plt.plot(normalized_shifted_sinc)\n",
    "#plt.stem(normalized_shifted_sinc, markerfmt='.', use_line_collection=True)\n",
    "plt.title('Shited {}-Sinc Function'.format(M))\n",
    "plt.grid('on')\n",
    "\n",
    "plt.subplot(2,2,3)\n",
    "fft_sinc_magnitude_reshape = np.copy(fft_sinc_magnitude)\n",
    "\n",
    "plot_frequency_response(fft_sinc_magnitude_reshape.reshape(-1,1),\n",
    "                               fft_sinc_f, \n",
    "                               title='Sinc Frequency Response')\n",
    "\n",
    "plt.subplot(2,2,4)\n",
    "fft_shifted_sinc_magnitude_reshape = np.copy(fft_shifted_sinc_magnitude)\n",
    "\n",
    "plot_frequency_response(fft_shifted_sinc_magnitude_reshape.reshape(-1,1),\n",
    "                               fft_shifted_sinc_f, \n",
    "                               title='Shited {}-Sinc Frequency Response'.format(M));"
   ]
  },
  {
   "cell_type": "markdown",
   "metadata": {
    "deletable": false,
    "editable": false,
    "nbgrader": {
     "cell_type": "markdown",
     "checksum": "5e1c824f1d6c3450dea82506d87fbf56",
     "grade": false,
     "grade_id": "cell-4041a3934673de68",
     "locked": true,
     "schema_version": 3,
     "solution": false,
     "task": false
    }
   },
   "source": [
    "## Hamming and Blackman Windows\n",
    "After developing our low pass filter requirements with the sinc function, we need to define a window function that will complement our filter design. \n",
    "\n",
    "A window function is a mathematical function that is zero-valued outside of some chosen interval, normally symmetric around the middle of the interval, maximum near the middle, and usually tapering away from the middle. Mathematically, when another function or waveform/data-sequence is \"multiplied\" by a window function, the product is also zero-valued outside the interval: all that is left is the part where they overlap, the \"view through the window\".\n",
    "\n",
    "In this part, you will develop two window functions, namely the Hamming Window and the Blackman Window. These window functions will have the following prototypes:\n",
    "* `hamming_window` will get a `BW` parameter that defines the transition bandwidth of the filter and in consequence the length of the filter. The response of the filter is given by\n",
    "$$w[k] = 0.54 - 0.46 \\cdot\\cos{\\left(\\frac{ 2 \\pi \\cdot x[k]}{M}\\right)}$$\n",
    "\n",
    "* `blackman_window` also recives a parameter `BW` similar to the `hamming_window`. The esponse of the filter is given by\n",
    "$$w[k] = 0.42 - 0.50 \\cdot \\cos{\\left(\\frac{ 2 \\pi \\cdot x[k]}{M}\\right)} + 0.08 \\cdot \\cos{\\left(\\frac{ 4 \\pi \\cdot x[k]}{M}\\right)}$$"
   ]
  },
  {
   "cell_type": "code",
   "execution_count": null,
   "metadata": {
    "deletable": false,
    "nbgrader": {
     "cell_type": "code",
     "checksum": "55f0162d4fd25aad8d04db7ea210ecc7",
     "grade": false,
     "grade_id": "cell-1af306ffe177cc9d",
     "locked": false,
     "schema_version": 3,
     "solution": true,
     "task": false
    }
   },
   "outputs": [],
   "source": [
    "def hamming_window(BW):\n",
    "    \"\"\" \n",
    "    Function that calculates a Hamming window of a given transition bandwidth.\n",
    "  \n",
    "    Parameters: \n",
    "    BW (float): Transition bandwidth of the filter. The lenght of the filter is \n",
    "                given by M=4/BW.\n",
    "                \n",
    "    Returns: \n",
    "    numpy array: Returns Hamming window of a given M-kernel.\n",
    "    \"\"\"\n",
    "    # Implement the Hamming Window\n",
    "    # YOUR CODE HERE\n",
    "    raise NotImplementedError()\n",
    "\n",
    "def blackman_window(BW):\n",
    "    \"\"\" \n",
    "    Function that calculates a Blackman window of a given M-kernel.\n",
    "  \n",
    "    Parameters: \n",
    "    BW (float): Transition bandwidth of the filter. The lenght of the filter is \n",
    "                given by M=4/BW.\n",
    "    Returns: \n",
    "    numpy array: Returns Blackman window of a given M-kernel.\n",
    "    \"\"\"\n",
    "    # Implement the Blackman Window\n",
    "    # YOUR CODE HERE\n",
    "    raise NotImplementedError()"
   ]
  },
  {
   "cell_type": "code",
   "execution_count": null,
   "metadata": {
    "deletable": false,
    "editable": false,
    "nbgrader": {
     "cell_type": "code",
     "checksum": "792c0a4b61cf268466e6106cef6d6c5b",
     "grade": true,
     "grade_id": "cell-cc933149f815fbbf",
     "locked": true,
     "points": 20,
     "schema_version": 3,
     "solution": false,
     "task": false
    }
   },
   "outputs": [],
   "source": [
    "hamming = hamming_window(BW)\n",
    "blackman = blackman_window(BW)\n",
    "\n",
    "fft_hamming_magnitude, fft_hamming_f = get_fourier(hamming)\n",
    "fft_blackman_magnitude, fft_blackman_f = get_fourier(blackman)\n",
    "\n",
    "\n",
    "with open('hamming_blackman.pkl', 'rb') as file:\n",
    "    hamming_pkl, blackman_pkl, fft_hamming_magnitude_pkl, \\\n",
    "    fft_hamming_f_pkl, fft_blackman_magnitude_pkl, fft_blackman_f_pkl = pickle.load(file)\n",
    "    \n",
    "    \n",
    "assert np.allclose(hamming_pkl, hamming, atol=0.01)\n",
    "assert np.allclose(blackman_pkl, blackman, atol=0.01)\n",
    "assert np.allclose(fft_hamming_magnitude, fft_hamming_magnitude, atol=0.01)\n",
    "assert np.allclose(fft_hamming_f_pkl, fft_hamming_f, atol=0.01)\n",
    "assert np.allclose(fft_blackman_magnitude_pkl, fft_blackman_magnitude, atol=0.01)\n",
    "assert np.allclose(fft_blackman_f_pkl, fft_blackman_f, atol=0.01)\n",
    "\n",
    "\n",
    "plt.rcParams[\"figure.figsize\"] = (15,10)\n",
    "\n",
    "plt.subplot(2,2,1)\n",
    "plt.plot(hamming)\n",
    "#plt.stem(hamming, markerfmt='.', use_line_collection=True)\n",
    "plt.title('Hamming Window')\n",
    "plt.grid('on')\n",
    "\n",
    "plt.subplot(2,2,2)\n",
    "plt.plot(blackman)\n",
    "#plt.stem(blackman, markerfmt='.', use_line_collection=True)\n",
    "plt.title('Blackman Window')\n",
    "plt.grid('on')\n",
    "\n",
    "plt.subplot(2,2,3)\n",
    "plot_frequency_response(fft_hamming_magnitude.reshape(-1,1), \n",
    "                               fft_hamming_f, \n",
    "                               title='Hamming Window Frequency Response')\n",
    "\n",
    "plt.subplot(2,2,4)\n",
    "plot_frequency_response(fft_blackman_magnitude.reshape(-1,1), \n",
    "                               fft_blackman_f, \n",
    "                               title='Blackman Window Frequency Response')\n",
    "plt.show()"
   ]
  },
  {
   "cell_type": "markdown",
   "metadata": {
    "deletable": false,
    "editable": false,
    "nbgrader": {
     "cell_type": "markdown",
     "checksum": "86856c7e567367c2ac14ae97aa4f9f2d",
     "grade": false,
     "grade_id": "cell-6f69c03879c83609",
     "locked": true,
     "schema_version": 3,
     "solution": false,
     "task": false
    }
   },
   "source": [
    "## Merge Sinc and Window\n",
    "Now that we have our sinc and window functions, the process to generate the Low-Pass filter consist on multiplying both filters. This new filter would have a finite impulse response and a flat frequency response on the band pass region."
   ]
  },
  {
   "cell_type": "code",
   "execution_count": null,
   "metadata": {
    "deletable": false,
    "nbgrader": {
     "cell_type": "code",
     "checksum": "08db79711d69fd792c799edc91f34e48",
     "grade": false,
     "grade_id": "cell-70a96618c6f9ef44",
     "locked": false,
     "schema_version": 3,
     "solution": true,
     "task": false
    }
   },
   "outputs": [],
   "source": [
    "# Merge the normalized shifted sinc filter and the Hamming window. Assign the result to to h0.\n",
    "# YOUR CODE HERE\n",
    "raise NotImplementedError()\n",
    "\n",
    "# Merge the normalized shifted sinc filter and the Blackman window. Assign the result to to h1.\n",
    "# YOUR CODE HERE\n",
    "raise NotImplementedError()\n",
    "\n",
    "# Assign to H0 and f0 the Fourier Transform magnitude and normalized frequency of h0 respectively.\n",
    "# YOUR CODE HERE\n",
    "raise NotImplementedError()\n",
    "\n",
    "# Assign to H1 and f1 the Fourier Transform magnitude and normalized frequency of h1 respectively.\n",
    "# YOUR CODE HERE\n",
    "raise NotImplementedError()"
   ]
  },
  {
   "cell_type": "code",
   "execution_count": null,
   "metadata": {
    "deletable": false,
    "editable": false,
    "nbgrader": {
     "cell_type": "code",
     "checksum": "32d27c2a5b617d16b26aed263462e818",
     "grade": true,
     "grade_id": "cell-989eb1b009aba7a0",
     "locked": true,
     "points": 20,
     "schema_version": 3,
     "solution": false,
     "task": false
    }
   },
   "outputs": [],
   "source": [
    "with open('merge.pkl', 'rb') as file:\n",
    "    h0_pkl, h1_pkl, H0_pkl, f0_pkl, H1_pkl, f1_pkl = pickle.load(file)\n",
    "    \n",
    "    \n",
    "assert np.allclose(h0_pkl, h0, atol=0.01)\n",
    "assert np.allclose(h1_pkl, h1, atol=0.01)\n",
    "assert np.allclose(H0_pkl, H0, atol=0.01)\n",
    "assert np.allclose(f0_pkl, f0, atol=0.01)\n",
    "assert np.allclose(H1_pkl, H1, atol=0.01)\n",
    "assert np.allclose(f1_pkl, f1, atol=0.01)\n",
    "\n",
    "\n",
    "plt.rcParams[\"figure.figsize\"] = (15,10)\n",
    "\n",
    "plt.subplot(2,2,1)\n",
    "plt.plot(h0)\n",
    "#plt.stem(hamming_shifted_sinc, markerfmt='.', use_line_collection=True)\n",
    "plt.title('Shifted Sinc - Hamming Window')\n",
    "plt.grid('on')\n",
    "\n",
    "plt.subplot(2,2,2)\n",
    "plt.plot(h1)\n",
    "#plt.stem(blackman_shifted_sinc, markerfmt='.', use_line_collection=True)\n",
    "plt.title('Shifted Sinc - Blackman Window')\n",
    "plt.grid('on')\n",
    "\n",
    "plt.subplot(2,2,3)\n",
    "H0_reshape = np.copy(H0)\n",
    "plot_frequency_response(H0_reshape.reshape(-1,1), f0, title='Shifted Sinc - Hamming Window Frequency Response')\n",
    "\n",
    "plt.subplot(2,2,4)\n",
    "H1_reshape = np.copy(H1)\n",
    "plot_frequency_response(H1_reshape.reshape(-1,1), f1, title='Shifted Sinc - Blackman Window Frequency Response')\n",
    "\n",
    "plt.show()"
   ]
  },
  {
   "cell_type": "markdown",
   "metadata": {
    "deletable": false,
    "editable": false,
    "nbgrader": {
     "cell_type": "markdown",
     "checksum": "06c24a77d8f6a5546ffd936663e0c210",
     "grade": false,
     "grade_id": "cell-8a7a33029bd27dae",
     "locked": true,
     "schema_version": 3,
     "solution": false,
     "task": false
    }
   },
   "source": [
    "## Comparison between Hamming and Blackman windows\n",
    "The Hamming window has a **faster roll-off** than the Blackman, however the Blackman has a **better stopband attenuation**. To be exact, the stopband attenuation for the Blackman is greater than the Hamming. Although it cannot be seen in these graphs, the Blackman has a very small passband ripple compared to the the Hamming. In general, the **Blackman should be your first choice**; a slow roll-off is easier to handle than poor stopband attenuation. \n",
    "\n",
    "\n",
    "## Example of a filter design for an EEG signal\n",
    "An electroencephalogram, or EEG, is a measurement of the electrical activity of the brain. It can be detected as millivolt level signals appearing on electrodes attached to the surface of the head. Each nerve cell in the brain generates small electrical pulses. The EEG is the combined result of an enormous number of these electrical pulses being generated in a (hopefully) coordinated manner. Although the relationship between thought and this electrical coordination is very poorly understood, different frequencies in the EEG can be identified with specific mental states. If you close your eyes and relax, the predominant EEG pattern will be a slow oscillation between about 7 and 12 hertz. This waveform is called the alpha rhythm, and is associated with contentment and a decreased level of attention. Opening your eyes and looking around causes the EEG to change to the beta rhythm, occurring between about 17 and 20 hertz. Other frequencies and waveforms are seen in children, different depths of sleep, and various brain disorders such as epilepsy.\n",
    "\n",
    "In this example, we will assume that the EEG signal has been amplified by analog electronics, and then digitized at a sampling rate of 100 samples per second. We have a dataset of 640 samples. Our goal is to separate the alpha from the beta rhythms. To do this, we will design a digital low-pass filter with a cutoff frequency of 14 hertz, and a transition bandwidth of 4 hertz."
   ]
  },
  {
   "cell_type": "code",
   "execution_count": null,
   "metadata": {
    "deletable": false,
    "nbgrader": {
     "cell_type": "code",
     "checksum": "11bc0448d924cb67003b04e7e96ab7ba",
     "grade": false,
     "grade_id": "cell-2552a8ae4569f585",
     "locked": false,
     "schema_version": 3,
     "solution": true,
     "task": false
    }
   },
   "outputs": [],
   "source": [
    "# Load data\n",
    "ecg = np.loadtxt(fname = \"ecg.dat\").flatten()\n",
    "\n",
    "# Find the normalized cut-off frequency and assign it to fc.\n",
    "# Remember that the normalized frequency is the analog frequency \n",
    "# divided by the sampling frequency.\n",
    "# YOUR CODE HERE\n",
    "raise NotImplementedError()\n",
    "\n",
    "# Find the normalized transition bandwidth and assign it to BW.\n",
    "# YOUR CODE HERE\n",
    "raise NotImplementedError()\n",
    "\n",
    "print(\"Filter lenght is {}\".format(M))\n",
    "\n",
    "# Implement a Hamming windowed sinc filter with the fc an BW values specified.\n",
    "# Assing the result to a variable named h\n",
    "# YOUR CODE HERE\n",
    "raise NotImplementedError()\n",
    "\n",
    "# Convolve (Filter) your signal with your Hamming windowed sinc filter.\n",
    "# For this use np.convolve and mode 'same' and assign your result to filtered_ecg\n",
    "# YOUR CODE HERE\n",
    "raise NotImplementedError()"
   ]
  },
  {
   "cell_type": "code",
   "execution_count": null,
   "metadata": {
    "deletable": false,
    "editable": false,
    "nbgrader": {
     "cell_type": "code",
     "checksum": "c6742c7315f60a8588f5f65ec2bdbcc1",
     "grade": true,
     "grade_id": "cell-0f484951f06db19b",
     "locked": true,
     "points": 20,
     "schema_version": 3,
     "solution": false,
     "task": false
    }
   },
   "outputs": [],
   "source": [
    "with open('ecg.pkl', 'rb') as file:\n",
    "    h_pkl, filtered_ecg_pkl = pickle.load(file)\n",
    "    \n",
    "assert np.allclose(h_pkl, h, atol=0.01)\n",
    "assert np.allclose(filtered_ecg_pkl, filtered_ecg, atol=0.01)\n",
    "\n",
    "\n",
    "filter_magnitude, filter_f= get_fourier(h)\n",
    "normalized_fft_hamming_shifted_sinc = np.absolute(filter_magnitude)/np.sum(np.absolute(filter_magnitude))\n",
    "\n",
    "fft_ecg_magnitude, fft_ecg_f = get_fourier(ecg)\n",
    "normalized_fft_ecg = np.absolute(fft_ecg_magnitude)/np.sum(np.absolute(fft_ecg_magnitude))\n",
    "\n",
    "fft_filtered_ecg_magnitude, fft_filtered_ecg_f = get_fourier(filtered_ecg)\n",
    "normalized_fft_filtered_ecg = np.absolute(fft_filtered_ecg_magnitude)/np.sum(np.absolute(fft_filtered_ecg_magnitude))\n",
    "\n",
    "\n",
    "plt.rcParams[\"figure.figsize\"] = (15,10)\n",
    "\n",
    "plt.subplot(2,2,1)\n",
    "plt.plot(ecg)\n",
    "plt.title('ECG Signal')\n",
    "plt.grid('on')\n",
    "\n",
    "plt.subplot(2,2,2)\n",
    "plt.plot(filtered_ecg)\n",
    "plt.title('Filtered ECG Signal')\n",
    "plt.grid('on')\n",
    "\n",
    "\n",
    "plt.subplot(2,2,3)\n",
    "normalized_fft_ecg_reshape = normalized_fft_ecg + 1e-18\n",
    "plot_frequency_response(normalized_fft_ecg_reshape.reshape(-1,1), \n",
    "                               fft_ecg_f, \n",
    "                               title='Frequency Response ECG Signal')\n",
    "\n",
    "plt.subplot(2,2,4)\n",
    "normalized_fft_filtered_ecg_reshape = normalized_fft_filtered_ecg + 1e-18\n",
    "plot_frequency_response(normalized_fft_filtered_ecg_reshape.reshape(-1,1), \n",
    "                               fft_filtered_ecg_f, \n",
    "                               title='Frequency Response Filtered ECG Signal')"
   ]
  },
  {
   "cell_type": "markdown",
   "metadata": {
    "deletable": false,
    "editable": false,
    "nbgrader": {
     "cell_type": "markdown",
     "checksum": "1f9f9722185f2f501e70c538dd650d4a",
     "grade": false,
     "grade_id": "cell-149eaa3f87b3d6ec",
     "locked": true,
     "schema_version": 3,
     "solution": false,
     "task": false
    }
   },
   "source": [
    "## Saving our filter\n",
    "We will pickle our filter design for later user in the next Jupyter Notebook."
   ]
  },
  {
   "cell_type": "code",
   "execution_count": null,
   "metadata": {
    "deletable": false,
    "editable": false,
    "nbgrader": {
     "cell_type": "code",
     "checksum": "2ff2b5292c71513c501b97d603e41bcf",
     "grade": false,
     "grade_id": "cell-d74317ca64f73e07",
     "locked": true,
     "schema_version": 3,
     "solution": false,
     "task": false
    }
   },
   "outputs": [],
   "source": [
    "data = {'ecg':ecg, \n",
    "        'low_pass':h, \n",
    "        'fft_low_pass':normalized_fft_hamming_shifted_sinc}\n",
    "\n",
    "with open('save_data.pickle', 'wb') as file:\n",
    "    pickle.dump(data, file)"
   ]
  },
  {
   "cell_type": "markdown",
   "metadata": {
    "deletable": false,
    "editable": false,
    "nbgrader": {
     "cell_type": "markdown",
     "checksum": "d8ea2c09c0ba08886203befe1511f125",
     "grade": false,
     "grade_id": "cell-6f5bcec31310398c",
     "locked": true,
     "schema_version": 3,
     "solution": false,
     "task": false
    }
   },
   "source": [
    "#### Reference\n",
    "* http://www.dspguide.com/ch16.htm\n",
    "* https://numpy.org/doc/stable/reference/generated/numpy.convolve.html"
   ]
  }
 ],
 "metadata": {
  "kernelspec": {
   "display_name": "Python 3 (ipykernel)",
   "language": "python",
   "name": "python3"
  },
  "language_info": {
   "codemirror_mode": {
    "name": "ipython",
    "version": 3
   },
   "file_extension": ".py",
   "mimetype": "text/x-python",
   "name": "python",
   "nbconvert_exporter": "python",
   "pygments_lexer": "ipython3",
   "version": "3.10.4"
  }
 },
 "nbformat": 4,
 "nbformat_minor": 2
}
