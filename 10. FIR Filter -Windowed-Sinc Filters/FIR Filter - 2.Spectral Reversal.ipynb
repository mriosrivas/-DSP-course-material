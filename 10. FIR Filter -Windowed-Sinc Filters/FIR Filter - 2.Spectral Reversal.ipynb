{
 "cells": [
  {
   "cell_type": "markdown",
   "metadata": {
    "deletable": false,
    "editable": false,
    "nbgrader": {
     "cell_type": "markdown",
     "checksum": "0c8fc1afa851aa123f8d5206d80d8430",
     "grade": false,
     "grade_id": "cell-970a2401f1dca863",
     "locked": true,
     "schema_version": 3,
     "solution": false,
     "task": false
    }
   },
   "source": [
    "# High Pass Filter Using the Spectral Reversal Technique\n",
    "We can create a high pass filter by using as reference a low pass filter and a technique called **Spectral Reversal**. For this notebook we will use the *Windowed-Sinc Filters* Notebook results, which are pickled in an serialized object called `save_data.pickle`.\n",
    "\n",
    "<font color=\"blue\">Note: In order to run this Jupyter Notebook you must create a file named `aux_functions.py` inside the folder containing this Notebook with the following functions `get_fourier`, `shifted_sinc_function`,  `hamming_window` and `blackman_window` which were developed previously.</font> "
   ]
  },
  {
   "cell_type": "code",
   "execution_count": null,
   "metadata": {
    "deletable": false,
    "editable": false,
    "nbgrader": {
     "cell_type": "code",
     "checksum": "4af6a5f6fecbe8e8c0a7b41782b1fef8",
     "grade": false,
     "grade_id": "cell-9395d651f4a401ae",
     "locked": true,
     "schema_version": 3,
     "solution": false,
     "task": false
    }
   },
   "outputs": [],
   "source": [
    "import numpy as np\n",
    "import matplotlib.pyplot as plt\n",
    "\n",
    "import pickle\n",
    "\n",
    "from aux_functions import get_fourier\n",
    "from aux_plots import plot_frequency_response"
   ]
  },
  {
   "cell_type": "markdown",
   "metadata": {
    "deletable": false,
    "editable": false,
    "nbgrader": {
     "cell_type": "markdown",
     "checksum": "d9831ab2f97a14ff7df17290d92f4b55",
     "grade": false,
     "grade_id": "cell-996e01aec46c76a5",
     "locked": true,
     "schema_version": 3,
     "solution": false,
     "task": false
    }
   },
   "source": [
    "## Load the data and the Low-Pass Filter Coefficients\n",
    "First we load the ECG data that we used on the *Windowed-Sinc Filters* Notebook, and then we loaded the low pass filter stored in a piclke file."
   ]
  },
  {
   "cell_type": "code",
   "execution_count": null,
   "metadata": {
    "deletable": false,
    "editable": false,
    "nbgrader": {
     "cell_type": "code",
     "checksum": "d5dc8bfedf98ccbd0a4f993b8c1d2730",
     "grade": false,
     "grade_id": "cell-ee6610221cd8c905",
     "locked": true,
     "schema_version": 3,
     "solution": false,
     "task": false
    }
   },
   "outputs": [],
   "source": [
    "with open('save_data.pickle', 'rb') as f:\n",
    "    data = pickle.load(f)\n",
    "    \n",
    "ecg = np.array(data['ecg'])\n",
    "low_pass = np.array(data['low_pass'])\n",
    "low_pass = low_pass/np.sum(low_pass)\n",
    "fft_low_pass = np.array(data['fft_low_pass'])"
   ]
  },
  {
   "cell_type": "markdown",
   "metadata": {
    "deletable": false,
    "editable": false,
    "nbgrader": {
     "cell_type": "markdown",
     "checksum": "35c654477c26641c654583de893f0d77",
     "grade": false,
     "grade_id": "cell-28218071ae7765e7",
     "locked": true,
     "schema_version": 3,
     "solution": false,
     "task": false
    }
   },
   "source": [
    "## Create a High-Pass Filter\n",
    "To generate the high pass filter, we use the **Sprectral Reversal** methond, which consist of multiplying the low pass filter response $h_{lp}[n]$ with $(-1)^{n}$. \n",
    "\n",
    "Therefore, the high pass filter response is given by:\n",
    "$$h_{hp}[n] = h_{lp}[n](-1)^{n}$$\n",
    "\n",
    "Implement a high-pass filter function called `spectral_reversal` wich takes as input an array of low-pass filter coefficients `h_lp` and returns an array of high-pass filter coefficient using the equation described before."
   ]
  },
  {
   "cell_type": "code",
   "execution_count": null,
   "metadata": {
    "deletable": false,
    "nbgrader": {
     "cell_type": "code",
     "checksum": "4ce7c69047fb590011f7a92c9260653c",
     "grade": false,
     "grade_id": "cell-0f23ec469e28784b",
     "locked": false,
     "schema_version": 3,
     "solution": true,
     "task": false
    }
   },
   "outputs": [],
   "source": [
    "def spectral_reversal(h_lp):\n",
    "    \"\"\"\n",
    "    Function that performs the spectral reversal of a low pass filter with\n",
    "    coefficients h_lp and returns the high pass coefficients h_hp.\n",
    "  \n",
    "    Parameters: \n",
    "    h_lp (array): Array of numbers representing the low pass filter coefficients.\n",
    "  \n",
    "    Returns: \n",
    "    numpy array: Array of numbers representing the high pass filter coefficients.\n",
    "    \"\"\"\n",
    "    # YOUR CODE HERE\n",
    "    raise NotImplementedError()"
   ]
  },
  {
   "cell_type": "code",
   "execution_count": null,
   "metadata": {
    "deletable": false,
    "nbgrader": {
     "cell_type": "code",
     "checksum": "ed67e65b9c618207b96f6879f4640f50",
     "grade": false,
     "grade_id": "cell-58145ea77af49c41",
     "locked": false,
     "schema_version": 3,
     "solution": true,
     "task": false
    }
   },
   "outputs": [],
   "source": [
    "# Use the spectral_reversal function on low pass filter to obtain a high pass filter.\n",
    "# The coefficients of the low pass filter are stored in the low_pass variable.\n",
    "# Store the result in a variable named high_pass.\n",
    "# YOUR CODE HERE\n",
    "raise NotImplementedError()"
   ]
  },
  {
   "cell_type": "code",
   "execution_count": null,
   "metadata": {
    "deletable": false,
    "editable": false,
    "nbgrader": {
     "cell_type": "code",
     "checksum": "215340805d2b5de4abbaf3de8028820b",
     "grade": true,
     "grade_id": "cell-af4a3e31fe4775c1",
     "locked": true,
     "points": 50,
     "schema_version": 3,
     "solution": false,
     "task": false
    }
   },
   "outputs": [],
   "source": [
    "with open('high_pass.pkl', 'rb') as file:\n",
    "    high_pass_pkl = pickle.load(file)\n",
    "    \n",
    "\n",
    "assert np.allclose(high_pass_pkl, high_pass, atol=0.01)"
   ]
  },
  {
   "cell_type": "code",
   "execution_count": null,
   "metadata": {
    "deletable": false,
    "nbgrader": {
     "cell_type": "code",
     "checksum": "dc836645a7c2d3f19bb5726cd0b1ddd4",
     "grade": false,
     "grade_id": "cell-ce0b045e04257243",
     "locked": false,
     "schema_version": 3,
     "solution": true,
     "task": false
    }
   },
   "outputs": [],
   "source": [
    "# Find the Fourier Transform for the low pass filter and assign:\n",
    "# The magnitude to dft_low_pass_magnitude\n",
    "# The normalized frequency to dft_low_pass_freq\n",
    "# YOUR CODE HERE\n",
    "raise NotImplementedError()\n",
    "\n",
    "# Find the Fourier Transform for the high pass filter and assign:\n",
    "# The magnitude to dft_high_pass_magnitude\n",
    "# The normalized frequency to dft_high_pass_freq\n",
    "# YOUR CODE HERE\n",
    "raise NotImplementedError()"
   ]
  },
  {
   "cell_type": "code",
   "execution_count": null,
   "metadata": {
    "deletable": false,
    "editable": false,
    "nbgrader": {
     "cell_type": "code",
     "checksum": "49ec60d107080e84705b020bb2014185",
     "grade": true,
     "grade_id": "cell-988136e4e107b7a1",
     "locked": true,
     "points": 25,
     "schema_version": 3,
     "solution": false,
     "task": false
    }
   },
   "outputs": [],
   "source": [
    "with open('high_pass_dft.pkl', 'rb') as file:\n",
    "    dft_low_pass_magnitude_pkl, dft_low_pass_freq_pkl, \\\n",
    "    dft_high_pass_magnitude_pkl, dft_high_pass_freq_pkl = pickle.load(file)\n",
    "    \n",
    "    \n",
    "assert np.allclose(dft_low_pass_magnitude_pkl, dft_low_pass_magnitude, atol=0.01)\n",
    "assert np.allclose(dft_low_pass_freq_pkl, dft_low_pass_freq, atol=0.01)\n",
    "assert np.allclose(dft_high_pass_magnitude_pkl, dft_high_pass_magnitude, atol=0.01)\n",
    "assert np.allclose(dft_high_pass_freq_pkl, dft_high_pass_freq, atol=0.01)\n",
    "\n",
    "\n",
    "plt.rcParams[\"figure.figsize\"] = (15,10)\n",
    "\n",
    "plt.subplot(2,2,1)\n",
    "#plt.stem(low_pass, markerfmt='.', use_line_collection=True)\n",
    "plt.plot(low_pass)\n",
    "plt.title('Low Pass Filter')\n",
    "plt.grid('on')\n",
    "\n",
    "plt.subplot(2,2,2)\n",
    "#plt.stem(high_pass, markerfmt='.', use_line_collection=True)\n",
    "plt.plot(high_pass)\n",
    "plt.title('High Pass Filter')\n",
    "plt.grid('on')\n",
    "\n",
    "plt.subplot(2,2,3)\n",
    "dft_low_pass_magnitude_reshape = dft_low_pass_magnitude\n",
    "plot_frequency_response(dft_low_pass_magnitude_reshape.reshape(-1,1), \n",
    "                               dft_low_pass_freq, \n",
    "                               title='Low Pass Filter Response')\n",
    "\n",
    "plt.subplot(2,2,4)\n",
    "dft_high_pass_magnitude_reshape = dft_high_pass_magnitude\n",
    "plot_frequency_response(dft_high_pass_magnitude_reshape.reshape(-1,1), \n",
    "                               dft_high_pass_freq, \n",
    "                               title='High Pass Filter Response');"
   ]
  },
  {
   "cell_type": "markdown",
   "metadata": {
    "deletable": false,
    "editable": false,
    "nbgrader": {
     "cell_type": "markdown",
     "checksum": "dba8bb7b049fb2b458d64774825840e1",
     "grade": false,
     "grade_id": "cell-cb8ff2a136aa72cd",
     "locked": true,
     "schema_version": 3,
     "solution": false,
     "task": false
    }
   },
   "source": [
    "As you can see, the frequency response of the high pass filter is a shifted version of the low-pass filter. Specifically, it is shifted $\\pi$ rads or 0.5."
   ]
  },
  {
   "cell_type": "code",
   "execution_count": null,
   "metadata": {
    "deletable": false,
    "nbgrader": {
     "cell_type": "code",
     "checksum": "cf5e1cb5d9e47a64c459754b23f8d702",
     "grade": false,
     "grade_id": "cell-811fa3713096a4b3",
     "locked": false,
     "schema_version": 3,
     "solution": true,
     "task": false
    }
   },
   "outputs": [],
   "source": [
    "# Filter the ECG signal with the low pass filter. For this, use the np.convolve function.\n",
    "# Set the mode parameter to 'same'\n",
    "# YOUR CODE HERE\n",
    "raise NotImplementedError()\n",
    "\n",
    "# Filter the ECG signal with the high pass filter. For this, use the np.convolve function.\n",
    "# Set the mode parameter to 'same'\n",
    "# YOUR CODE HERE\n",
    "raise NotImplementedError()"
   ]
  },
  {
   "cell_type": "code",
   "execution_count": null,
   "metadata": {
    "deletable": false,
    "editable": false,
    "nbgrader": {
     "cell_type": "code",
     "checksum": "3f2a6f705f400748d61956097d713ace",
     "grade": true,
     "grade_id": "cell-fa0b2ae33f3b6b1d",
     "locked": true,
     "points": 25,
     "schema_version": 3,
     "solution": false,
     "task": false
    }
   },
   "outputs": [],
   "source": [
    "with open('convolve.pkl', 'rb') as file:\n",
    "    low_pass_ecg_pkl, high_pass_ecg_pkl = pickle.load(file)\n",
    "    \n",
    "assert np.allclose(low_pass_ecg_pkl, low_pass_ecg, atol=0.01)\n",
    "assert np.allclose(high_pass_ecg_pkl, high_pass_ecg, atol=0.01)\n",
    "\n",
    "plt.rcParams[\"figure.figsize\"] = (15,10)\n",
    "\n",
    "plt.subplot(2,2,1)\n",
    "plt.plot(low_pass_ecg)\n",
    "plt.title('Low Pass ECG')\n",
    "plt.grid('on')\n",
    "plt.xlabel('Samples')\n",
    "plt.ylabel('Amplitude')\n",
    "\n",
    "plt.subplot(2,2,2)\n",
    "plt.plot(high_pass_ecg)\n",
    "plt.title('High Pass ECG')\n",
    "plt.grid('on')\n",
    "plt.xlabel('Samples')\n",
    "plt.ylabel('Amplitude')\n",
    "\n",
    "plt.subplot(2,1,2)\n",
    "plt.plot(ecg)\n",
    "plt.title('ECG Signal')\n",
    "plt.grid('on')\n",
    "plt.xlabel('Samples')\n",
    "plt.ylabel('Amplitude')\n",
    "plt.show()"
   ]
  },
  {
   "cell_type": "markdown",
   "metadata": {
    "deletable": false,
    "editable": false,
    "nbgrader": {
     "cell_type": "markdown",
     "checksum": "1682dec45dcd5006cd18c9fb5b1b3001",
     "grade": false,
     "grade_id": "cell-87a635fb5b929841",
     "locked": true,
     "schema_version": 3,
     "solution": false,
     "task": false
    }
   },
   "source": [
    "## Why Does Spectral Reversal Work?\n",
    "\n",
    "The spectral reversal technique is based on the so-called shift theorem of the Fourier transform. Formulated for the discrete case, the shift theorem says that, for a Fourier transform pair $x[n]⟷X[k]$, a shift by $s$ samples in the frequency domain is equivalent with multiplying by a complex exponential in the time domain, as\n",
    "\n",
    "$$x[n]e^{j2πns/N}⟷X[k−s]$$\n",
    "\n",
    "In general, the result of doing this will be complex. This is not a problem, but let’s investigate in which circumstances the result is not complex. This is may be easier to see with the complex exponential rewritten using Euler’s Identity,\n",
    "\n",
    "$$e^{j2πns/N}=\\cos{(2πns/N)}+j\\sin{(2πns/N)}$$\n",
    "\n",
    "This expression is real if the sine term is zero, which is the case if the angle is zero or $\\pi$\n",
    "\n",
    "We get this result if we shift by $s=N/2$ samples, because then the angles become $2πns/N=nπ$. Of course, in that case the complete expression becomes $\\cos{(nπ)}$, which is exactly the sequence $1,−1,1,−1,…$."
   ]
  },
  {
   "cell_type": "markdown",
   "metadata": {
    "deletable": false,
    "editable": false,
    "nbgrader": {
     "cell_type": "markdown",
     "checksum": "da21834d7e2908ae5b4a9bcca0809481",
     "grade": false,
     "grade_id": "cell-5d133b3d504cc102",
     "locked": true,
     "schema_version": 3,
     "solution": false,
     "task": false
    }
   },
   "source": [
    "#### Reference:\n",
    "* https://tomroelandts.com/articles/spectral-reversal-to-create-a-high-pass-filter"
   ]
  }
 ],
 "metadata": {
  "kernelspec": {
   "display_name": "Python 3 (ipykernel)",
   "language": "python",
   "name": "python3"
  },
  "language_info": {
   "codemirror_mode": {
    "name": "ipython",
    "version": 3
   },
   "file_extension": ".py",
   "mimetype": "text/x-python",
   "name": "python",
   "nbconvert_exporter": "python",
   "pygments_lexer": "ipython3",
   "version": "3.9.7"
  }
 },
 "nbformat": 4,
 "nbformat_minor": 2
}
