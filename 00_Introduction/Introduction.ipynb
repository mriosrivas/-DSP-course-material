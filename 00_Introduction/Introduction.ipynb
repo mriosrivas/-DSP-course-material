{
 "cells": [
  {
   "cell_type": "markdown",
   "metadata": {
    "deletable": false,
    "editable": false,
    "nbgrader": {
     "cell_type": "markdown",
     "checksum": "09a0483c2f23f74f12c046a604b62aa9",
     "grade": false,
     "grade_id": "cell-420ab5b382d4e371",
     "locked": true,
     "schema_version": 3,
     "solution": false,
     "task": false
    }
   },
   "source": [
    "# Introduction\n",
    "This Jupyter Notebook will be a warm up for the course work, and it will teach you how to use the material during this semester.\n",
    "\n",
    "Usually there are two types of cells that you will encounter:\n",
    "1. Code based cells:\n",
    "    * Read only cell\n",
    "    * Complete assigment cell\n",
    "    * Auto test and grading cell\n",
    "\n",
    "\n",
    "2. Markdown text cells\n",
    "    * Read only cell\n",
    "    * Complete assigment cell"
   ]
  },
  {
   "cell_type": "markdown",
   "metadata": {
    "deletable": false,
    "editable": false,
    "nbgrader": {
     "cell_type": "markdown",
     "checksum": "ae771e5138e8a5d974949636ddf32abb",
     "grade": false,
     "grade_id": "cell-c946c9f4e2e53730",
     "locked": true,
     "schema_version": 3,
     "solution": false,
     "task": false
    }
   },
   "source": [
    "## 1.1 Code based cells: Read only cell\n",
    "An example of a read only code base cell is the following one, where different libraries are imported. Usually you will see that *NumPy*, *matplotlib* and *pickle* are among the libraries that we use throught the course."
   ]
  },
  {
   "cell_type": "code",
   "execution_count": 1,
   "metadata": {
    "deletable": false,
    "editable": false,
    "nbgrader": {
     "cell_type": "code",
     "checksum": "2265034b5e1a0bb87fe97496f0a7d615",
     "grade": false,
     "grade_id": "cell-59bc259b6f781f16",
     "locked": true,
     "schema_version": 3,
     "solution": false,
     "task": false
    }
   },
   "outputs": [],
   "source": [
    "import numpy as np\n",
    "import matplotlib.pyplot as plt\n",
    "import pickle"
   ]
  },
  {
   "cell_type": "markdown",
   "metadata": {
    "deletable": false,
    "editable": false,
    "nbgrader": {
     "cell_type": "markdown",
     "checksum": "ef6ad9972fb96b12224b8e85686f056f",
     "grade": false,
     "grade_id": "cell-2a37878e1a500195",
     "locked": true,
     "schema_version": 3,
     "solution": false,
     "task": false
    }
   },
   "source": [
    "## 1.2 Code based cells: Complete assigment cell\n",
    "This type of cells are for you to complete an assigment that later will be graded. Usually some extra information is provided for you to complete a task. The following is an example of this type of cell."
   ]
  },
  {
   "cell_type": "code",
   "execution_count": 6,
   "metadata": {
    "deletable": false,
    "nbgrader": {
     "cell_type": "code",
     "checksum": "0e208b5d3c7fba503bef9b1d363aa56d",
     "grade": false,
     "grade_id": "cell-91aa5ce7f0ca9763",
     "locked": false,
     "schema_version": 3,
     "solution": true,
     "task": false
    }
   },
   "outputs": [],
   "source": [
    "# Create a function named `distance` that calculates the euclidian distance between two vectors.\n",
    "\n",
    "def distance(vect1, vect2):\n",
    "    \"\"\"\n",
    "    Function that calculates the distance between vector vect1 and vect2.\n",
    "    Parameters: \n",
    "    vect1 (numpy array): Array of numbers representing a vector.\n",
    "    vect2 (numpy array): Array of numbers representing a vector.\n",
    "  \n",
    "    Returns: \n",
    "    distance (float): Returns distance betwee two vectors\n",
    "    \n",
    "    \"\"\"\n",
    "    # YOUR CODE HERE\n",
    "    distance = np.sqrt(np.sum(np.square(vect1 - vect2)))\n",
    "    return distance"
   ]
  },
  {
   "cell_type": "markdown",
   "metadata": {
    "deletable": false,
    "editable": false,
    "nbgrader": {
     "cell_type": "markdown",
     "checksum": "99bb23e17570cfea0f5ea75e15a40f64",
     "grade": false,
     "grade_id": "cell-62d13627fa26aa6b",
     "locked": true,
     "schema_version": 3,
     "solution": false,
     "task": false
    }
   },
   "source": [
    "## 1.3 Code based cells: Auto test and grading cell\n",
    "After you completed you solution, you can test and grade your code. For this, code based test and grading cells are used. The following cell shows how this cells work."
   ]
  },
  {
   "cell_type": "code",
   "execution_count": 7,
   "metadata": {
    "deletable": false,
    "editable": false,
    "nbgrader": {
     "cell_type": "code",
     "checksum": "b498946d8e2c0c5dace11c9620e94b4e",
     "grade": true,
     "grade_id": "cell-40438960591853ff",
     "locked": true,
     "points": 100,
     "schema_version": 3,
     "solution": false,
     "task": false
    }
   },
   "outputs": [],
   "source": [
    "vect1 = np.array([5, 5, 5])\n",
    "vect2 = np.array([4, 4, 4])\n",
    "\n",
    "# Test using calculation\n",
    "assert (distance(vect1, vect2) == np.sqrt(3))\n",
    "\n",
    "# Test using pickle\n",
    "with open('test.pkl', 'rb') as file:\n",
    "    dis_pkl = pickle.load(file)\n",
    "    \n",
    "assert np.allclose(distance(vect1, vect2), dis_pkl, atol=0.0001)"
   ]
  },
  {
   "cell_type": "markdown",
   "metadata": {
    "deletable": false,
    "editable": false,
    "nbgrader": {
     "cell_type": "markdown",
     "checksum": "993ae3742adebb24ba17e893e6d8076a",
     "grade": false,
     "grade_id": "cell-8d25a260cb75d054",
     "locked": true,
     "schema_version": 3,
     "solution": false,
     "task": false
    }
   },
   "source": [
    "## 2.1 Markdown text cells: Read only cell\n",
    "This is an example of a read only markdown cell. Almost all of the text you will see in these Notebooks uses read only cells."
   ]
  },
  {
   "cell_type": "markdown",
   "metadata": {
    "deletable": false,
    "editable": false,
    "nbgrader": {
     "cell_type": "markdown",
     "checksum": "5cdef42f1e29adbfa6a9d8b2b4c86008",
     "grade": false,
     "grade_id": "cell-3912a2ab1ad67570",
     "locked": true,
     "schema_version": 3,
     "solution": false,
     "task": false
    }
   },
   "source": [
    "## 2.2 Markdown text cells: Complete assigment cell\n",
    "This type of cell expects that you input some text information using markdown format. \n",
    "\n",
    "Answer in the following cell, what is your name?"
   ]
  },
  {
   "cell_type": "markdown",
   "metadata": {
    "deletable": false,
    "nbgrader": {
     "cell_type": "markdown",
     "checksum": "7321522d10d02ff23a5b37e829738826",
     "grade": true,
     "grade_id": "cell-af404929162a46a1",
     "locked": false,
     "points": 0,
     "schema_version": 3,
     "solution": true,
     "task": false
    }
   },
   "source": [
    "Manuel Rios"
   ]
  },
  {
   "cell_type": "markdown",
   "metadata": {
    "deletable": false,
    "editable": false,
    "nbgrader": {
     "cell_type": "markdown",
     "checksum": "2088f50ae0b22409d26c61092c8129a3",
     "grade": false,
     "grade_id": "cell-d307211bba93aa82",
     "locked": true,
     "schema_version": 3,
     "solution": false,
     "task": false
    }
   },
   "source": [
    "## 3. NumPy\n",
    "NumPy is the fundamental package for scientific computing in Python. It is a Python library that provides a multidimensional array object, various derived objects, and an assortment of routines for fast operations on arrays."
   ]
  },
  {
   "cell_type": "markdown",
   "metadata": {
    "deletable": false,
    "editable": false,
    "nbgrader": {
     "cell_type": "markdown",
     "checksum": "52bf3b07669b1ef8b3876fdc5d17e468",
     "grade": false,
     "grade_id": "cell-38c4a63a4eb8ca5c",
     "locked": true,
     "schema_version": 3,
     "solution": false,
     "task": false
    }
   },
   "source": [
    "## 3.1 Arrays"
   ]
  },
  {
   "cell_type": "code",
   "execution_count": null,
   "metadata": {
    "deletable": false,
    "nbgrader": {
     "cell_type": "code",
     "checksum": "60922e4768770dc4063993f8015c9a3e",
     "grade": false,
     "grade_id": "cell-4ab15d61d169d99f",
     "locked": false,
     "schema_version": 3,
     "solution": true,
     "task": false
    }
   },
   "outputs": [],
   "source": [
    "# Define two arrays\n",
    "# YOUR CODE HERE\n",
    "raise NotImplementedError()\n",
    "\n",
    "# Operations\n",
    "# Addition\n",
    "# YOUR CODE HERE\n",
    "raise NotImplementedError()\n",
    "\n",
    "# Subtraction\n",
    "# YOUR CODE HERE\n",
    "raise NotImplementedError()\n",
    "\n",
    "# Multiplication (element wise)\n",
    "# YOUR CODE HERE\n",
    "raise NotImplementedError()\n",
    "\n",
    "# Division (element wise)\n",
    "# YOUR CODE HERE\n",
    "raise NotImplementedError()"
   ]
  },
  {
   "cell_type": "markdown",
   "metadata": {
    "deletable": false,
    "editable": false,
    "nbgrader": {
     "cell_type": "markdown",
     "checksum": "72eb5d6a414e69da8dbe0db91b3d5667",
     "grade": false,
     "grade_id": "cell-05fb06229c29bced",
     "locked": true,
     "schema_version": 3,
     "solution": false,
     "task": false
    }
   },
   "source": [
    "## 3.2 Matrices"
   ]
  },
  {
   "cell_type": "code",
   "execution_count": null,
   "metadata": {
    "deletable": false,
    "nbgrader": {
     "cell_type": "code",
     "checksum": "e2221606e62543729288daafcc61486a",
     "grade": false,
     "grade_id": "cell-c6274821bbcc2d34",
     "locked": false,
     "schema_version": 3,
     "solution": true,
     "task": false
    }
   },
   "outputs": [],
   "source": [
    "# Create two matrices\n",
    "# YOUR CODE HERE\n",
    "raise NotImplementedError()\n",
    "\n",
    "# Multiply both matrices using the @ operator\n",
    "# YOUR CODE HERE\n",
    "raise NotImplementedError()\n",
    "\n",
    "# Multiply both matrices using the numpy\n",
    "# YOUR CODE HERE\n",
    "raise NotImplementedError()"
   ]
  },
  {
   "cell_type": "markdown",
   "metadata": {
    "deletable": false,
    "editable": false,
    "nbgrader": {
     "cell_type": "markdown",
     "checksum": "d8062acb354c9d08dbbd7312f2a4065c",
     "grade": false,
     "grade_id": "cell-4492fcd0673511bb",
     "locked": true,
     "schema_version": 3,
     "solution": false,
     "task": false
    }
   },
   "source": [
    "## 3.3 Shapes"
   ]
  },
  {
   "cell_type": "code",
   "execution_count": null,
   "metadata": {
    "deletable": false,
    "nbgrader": {
     "cell_type": "code",
     "checksum": "5157ead738ed47c73f13855bfab29d92",
     "grade": false,
     "grade_id": "cell-d24ae0e8eadb2299",
     "locked": false,
     "schema_version": 3,
     "solution": true,
     "task": false
    }
   },
   "outputs": [],
   "source": [
    "# YOUR CODE HERE\n",
    "raise NotImplementedError()"
   ]
  },
  {
   "cell_type": "markdown",
   "metadata": {
    "deletable": false,
    "editable": false,
    "nbgrader": {
     "cell_type": "markdown",
     "checksum": "914979a8fcf14ceec52d18231c1b4dd6",
     "grade": false,
     "grade_id": "cell-f125e1e67fd37e4e",
     "locked": true,
     "schema_version": 3,
     "solution": false,
     "task": false
    }
   },
   "source": [
    "## 3.4 Load data from a file"
   ]
  },
  {
   "cell_type": "code",
   "execution_count": null,
   "metadata": {
    "deletable": false,
    "nbgrader": {
     "cell_type": "code",
     "checksum": "58c68fb0c12c985023fcb417100aeb03",
     "grade": false,
     "grade_id": "cell-f78f4a5d379fa752",
     "locked": false,
     "schema_version": 3,
     "solution": true,
     "task": false
    }
   },
   "outputs": [],
   "source": [
    "# YOUR CODE HERE\n",
    "raise NotImplementedError()"
   ]
  },
  {
   "cell_type": "markdown",
   "metadata": {
    "deletable": false,
    "editable": false,
    "nbgrader": {
     "cell_type": "markdown",
     "checksum": "87785cee991c1771736ee2b5d76ed204",
     "grade": false,
     "grade_id": "cell-9ddb98a4a77f0f46",
     "locked": true,
     "schema_version": 3,
     "solution": false,
     "task": false
    }
   },
   "source": [
    "## 4. Matplotlib\n",
    "Matplotlib is a comprehensive library for creating static, animated, and interactive visualizations in Python."
   ]
  },
  {
   "cell_type": "code",
   "execution_count": null,
   "metadata": {
    "deletable": false,
    "nbgrader": {
     "cell_type": "code",
     "checksum": "b7bc9cdb1d3af168e1ebfbf1ad459f85",
     "grade": true,
     "grade_id": "cell-6e58671fe1441db6",
     "locked": false,
     "points": 0,
     "schema_version": 3,
     "solution": true,
     "task": false
    }
   },
   "outputs": [],
   "source": [
    "# YOUR CODE HERE\n",
    "raise NotImplementedError()"
   ]
  },
  {
   "cell_type": "markdown",
   "metadata": {
    "deletable": false,
    "editable": false,
    "nbgrader": {
     "cell_type": "markdown",
     "checksum": "9478419cbf71ba1433914965a577837a",
     "grade": false,
     "grade_id": "cell-95c13b710e385be8",
     "locked": true,
     "schema_version": 3,
     "solution": false,
     "task": false
    }
   },
   "source": [
    "## 5. Pandas\n",
    "Pandas is a fast, powerful, flexible and easy to use open source data analysis and manipulation tool, built on top of the Python programming language."
   ]
  },
  {
   "cell_type": "code",
   "execution_count": null,
   "metadata": {
    "deletable": false,
    "editable": false,
    "nbgrader": {
     "cell_type": "code",
     "checksum": "39c527aad90a5af62b0ca0cabb22e7fb",
     "grade": false,
     "grade_id": "cell-2c57359bae935e09",
     "locked": true,
     "schema_version": 3,
     "solution": false,
     "task": false
    }
   },
   "outputs": [],
   "source": [
    "import pandas as pd"
   ]
  },
  {
   "cell_type": "code",
   "execution_count": null,
   "metadata": {
    "deletable": false,
    "nbgrader": {
     "cell_type": "code",
     "checksum": "5a5b29e82e99cb332fb556d1b369d5a9",
     "grade": false,
     "grade_id": "cell-cfe37d25fb6e3dfd",
     "locked": false,
     "schema_version": 3,
     "solution": true,
     "task": false
    }
   },
   "outputs": [],
   "source": [
    "# Rad csv file\n",
    "# YOUR CODE HERE\n",
    "raise NotImplementedError()"
   ]
  },
  {
   "cell_type": "code",
   "execution_count": null,
   "metadata": {
    "deletable": false,
    "nbgrader": {
     "cell_type": "code",
     "checksum": "a4e16152ea8f05ccb49bf9c9543b54e8",
     "grade": false,
     "grade_id": "cell-810fb9df9481543c",
     "locked": false,
     "schema_version": 3,
     "solution": true,
     "task": false
    }
   },
   "outputs": [],
   "source": [
    "# List all column names\n",
    "# YOUR CODE HERE\n",
    "raise NotImplementedError()"
   ]
  },
  {
   "cell_type": "code",
   "execution_count": null,
   "metadata": {
    "deletable": false,
    "nbgrader": {
     "cell_type": "code",
     "checksum": "dcca157c44f40be641ab05077418c86f",
     "grade": false,
     "grade_id": "cell-f6071668179c0ec3",
     "locked": false,
     "schema_version": 3,
     "solution": true,
     "task": false
    }
   },
   "outputs": [],
   "source": [
    "# Create new data frame\n",
    "# YOUR CODE HERE\n",
    "raise NotImplementedError()"
   ]
  },
  {
   "cell_type": "code",
   "execution_count": null,
   "metadata": {
    "deletable": false,
    "nbgrader": {
     "cell_type": "code",
     "checksum": "ce8e560337a736d551dbe9468f295c9d",
     "grade": false,
     "grade_id": "cell-221e4d87c7a10caa",
     "locked": false,
     "schema_version": 3,
     "solution": true,
     "task": false
    }
   },
   "outputs": [],
   "source": [
    "# Find outlier\n",
    "# YOUR CODE HERE\n",
    "raise NotImplementedError()"
   ]
  },
  {
   "cell_type": "code",
   "execution_count": null,
   "metadata": {
    "deletable": false,
    "nbgrader": {
     "cell_type": "code",
     "checksum": "812011262278fad0d227355ee00845ad",
     "grade": false,
     "grade_id": "cell-453bc89e54d33ba6",
     "locked": false,
     "schema_version": 3,
     "solution": true,
     "task": false
    }
   },
   "outputs": [],
   "source": [
    "# Remove outlier\n",
    "# YOUR CODE HERE\n",
    "raise NotImplementedError()"
   ]
  },
  {
   "cell_type": "code",
   "execution_count": null,
   "metadata": {
    "deletable": false,
    "nbgrader": {
     "cell_type": "code",
     "checksum": "6537022e2ed524bff4b9a0a8882711d0",
     "grade": false,
     "grade_id": "cell-5862ecd7aad36e79",
     "locked": false,
     "schema_version": 3,
     "solution": true,
     "task": false
    }
   },
   "outputs": [],
   "source": [
    "# Plot histogram\n",
    "# YOUR CODE HERE\n",
    "raise NotImplementedError()"
   ]
  }
 ],
 "metadata": {
  "kernelspec": {
   "display_name": "Python 3 (ipykernel)",
   "language": "python",
   "name": "python3"
  },
  "language_info": {
   "codemirror_mode": {
    "name": "ipython",
    "version": 3
   },
   "file_extension": ".py",
   "mimetype": "text/x-python",
   "name": "python",
   "nbconvert_exporter": "python",
   "pygments_lexer": "ipython3",
   "version": "3.9.7"
  }
 },
 "nbformat": 4,
 "nbformat_minor": 2
}
