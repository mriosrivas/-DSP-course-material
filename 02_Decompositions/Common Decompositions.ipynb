{
 "cells": [
  {
   "cell_type": "markdown",
   "metadata": {
    "deletable": false,
    "editable": false,
    "nbgrader": {
     "cell_type": "markdown",
     "checksum": "40d61e6dd96a51d36dceb81a7dd997cd",
     "grade": false,
     "grade_id": "cell-17bebc55a5456282",
     "locked": true,
     "schema_version": 3,
     "solution": false,
     "task": false
    }
   },
   "source": [
    "# Common Decompositions\n",
    "The goal of this method is to replace a complicated problem with several easy ones. If the decomposition doesn't simplify the situation in some way, then nothing has been gained. In this notebook four types of decompositions are presented:\n",
    "\n",
    "1. Impulse Decomposition\n",
    "2. Step Decomposition\n",
    "3. Even/Odd Decomposition\n",
    "4. Interlaced Decomposition"
   ]
  },
  {
   "cell_type": "code",
   "execution_count": null,
   "metadata": {
    "deletable": false,
    "editable": false,
    "nbgrader": {
     "cell_type": "code",
     "checksum": "8828ab03d9ce587d207d14f62cc8abb7",
     "grade": false,
     "grade_id": "cell-8d652c3087b2d8f3",
     "locked": true,
     "schema_version": 3,
     "solution": false,
     "task": false
    }
   },
   "outputs": [],
   "source": [
    "import numpy as np\n",
    "import matplotlib.pyplot as plt\n",
    "import pickle"
   ]
  },
  {
   "cell_type": "code",
   "execution_count": null,
   "metadata": {
    "deletable": false,
    "editable": false,
    "nbgrader": {
     "cell_type": "code",
     "checksum": "1149d8713ec52ec81158a394ed63775f",
     "grade": false,
     "grade_id": "cell-ea4e9dd759e5cdae",
     "locked": true,
     "schema_version": 3,
     "solution": false,
     "task": false
    }
   },
   "outputs": [],
   "source": [
    "x = np.array([[4,2,-3,6,1,7,-4, 3]])\n",
    "\n",
    "plt.stem(x.reshape(-1,1))\n",
    "plt.grid('on')\n",
    "plt.title('Signal')\n",
    "plt.show()"
   ]
  },
  {
   "cell_type": "markdown",
   "metadata": {
    "deletable": false,
    "editable": false,
    "nbgrader": {
     "cell_type": "markdown",
     "checksum": "d8312dda70d060f99d0884746e6f4f16",
     "grade": false,
     "grade_id": "cell-5360351abd9620fc",
     "locked": true,
     "schema_version": 3,
     "solution": false,
     "task": false
    }
   },
   "source": [
    "## 1. Impulse Decomposition\n",
    "Impulse decomposition breaks an $N$ samples signal into $N$ component signals, each containing $N$ samples. Each of the component signals contains one point from the original signal, with the remainder of the values being zero. A single nonzero point in a string of zeros is called an impulse. Impulse decomposition is important because it **allows signals to be examined one sample at a time**. Similarly, systems are characterized by how they respond to impulses. By knowing how a system responds to an impulse, the system's output can be calculated for any given input. "
   ]
  },
  {
   "cell_type": "code",
   "execution_count": null,
   "metadata": {
    "deletable": false,
    "editable": false,
    "nbgrader": {
     "cell_type": "code",
     "checksum": "0e101fd72f23cfceb6fd561f036030b7",
     "grade": false,
     "grade_id": "cell-ed5c0f16a921f15b",
     "locked": true,
     "schema_version": 3,
     "solution": false,
     "task": false
    }
   },
   "outputs": [],
   "source": [
    "N = x.shape[1]\n",
    "x_impulse = np.zeros((N,N))"
   ]
  },
  {
   "cell_type": "code",
   "execution_count": null,
   "metadata": {
    "deletable": false,
    "nbgrader": {
     "cell_type": "code",
     "checksum": "d01274242a740f360a2205e3f2f13a9a",
     "grade": false,
     "grade_id": "cell-cf0195ec9e99e5f1",
     "locked": false,
     "schema_version": 3,
     "solution": true,
     "task": false
    }
   },
   "outputs": [],
   "source": [
    "# Create a matrix called x_impulse with main diagonal equal to x\n",
    "# YOUR CODE HERE\n",
    "raise NotImplementedError()\n",
    "print(x_impulse)"
   ]
  },
  {
   "cell_type": "code",
   "execution_count": null,
   "metadata": {
    "deletable": false,
    "editable": false,
    "nbgrader": {
     "cell_type": "code",
     "checksum": "562c34eb9b87b37c79be2b17bcbbd72c",
     "grade": true,
     "grade_id": "cell-cf0195ec9e99e5f2",
     "locked": true,
     "points": 10,
     "schema_version": 3,
     "solution": false,
     "task": false
    }
   },
   "outputs": [],
   "source": [
    "e = np.eye(N,N)\n",
    "np.fill_diagonal(e, x)\n",
    "\n",
    "assert np.isclose(x_impulse, e).all()"
   ]
  },
  {
   "cell_type": "code",
   "execution_count": null,
   "metadata": {
    "deletable": false,
    "editable": false,
    "nbgrader": {
     "cell_type": "code",
     "checksum": "61b4fb94da94762f59131bde49c9ec5a",
     "grade": false,
     "grade_id": "cell-2a66481671848747",
     "locked": true,
     "schema_version": 3,
     "solution": false,
     "task": false
    }
   },
   "outputs": [],
   "source": [
    "plt.rcParams['figure.figsize'] = (15,15)\n",
    "rows = 4\n",
    "cols = 2\n",
    "plt.subplots(rows,cols)\n",
    "\n",
    "y_max = np.max(x_impulse) + 1\n",
    "y_min = np.min(x_impulse) - 1\n",
    "\n",
    "for i in range(rows*cols):\n",
    "    plt.subplot(rows,cols,i+1)\n",
    "    plt.stem(x_impulse[i,:])\n",
    "    plt.ylim([y_min, y_max])\n",
    "    plt.title(f'Sample number = {i}')\n",
    "    plt.grid('on')"
   ]
  },
  {
   "cell_type": "markdown",
   "metadata": {
    "deletable": false,
    "editable": false,
    "nbgrader": {
     "cell_type": "markdown",
     "checksum": "c653f863bb996e7325193ddc664d3e74",
     "grade": false,
     "grade_id": "cell-9d4e59f261d38371",
     "locked": true,
     "schema_version": 3,
     "solution": false,
     "task": false
    }
   },
   "source": [
    "## 2. Step Decomposition\n",
    "Step decomposition also breaks an $N$ sample signal into $N$ component signals, each composed of $N$ samples. Each component signal is a step, that is, the first samples have a value of zero, while the last samples are some constant value. Consider the decomposition of an $N$ point signal, $x[n]$, into the components: $x_0[n], x_1[n], x_2[n], \\dots, x_{N-1}[n]$. The $k^{th}$ component signal, $x_k[n]$, is composed of zeros for points $0$ through $k - 1$, while the remaining points have a value of: $x[k] - x[k-1]$. "
   ]
  },
  {
   "cell_type": "code",
   "execution_count": null,
   "metadata": {
    "deletable": false,
    "editable": false,
    "nbgrader": {
     "cell_type": "code",
     "checksum": "4ab8280cb9930065fde877a9b5c451ba",
     "grade": false,
     "grade_id": "cell-27892897ab34a923",
     "locked": true,
     "schema_version": 3,
     "solution": false,
     "task": false
    }
   },
   "outputs": [],
   "source": [
    "x_step = np.zeros((N,N))"
   ]
  },
  {
   "cell_type": "code",
   "execution_count": null,
   "metadata": {
    "deletable": false,
    "nbgrader": {
     "cell_type": "code",
     "checksum": "babb6c07ebf07e3c8c48ba55bbac3d96",
     "grade": false,
     "grade_id": "cell-006bdb871cbb0f3a",
     "locked": false,
     "schema_version": 3,
     "solution": true,
     "task": false
    }
   },
   "outputs": [],
   "source": [
    "# Create a matrix called x_step with step decomposition. Note that main diagonal should be \n",
    "# equal to x[k]-x[k-1] but the upper matrix is non zero.\n",
    "# YOUR CODE HERE\n",
    "raise NotImplementedError()\n",
    "print(x_step)"
   ]
  },
  {
   "cell_type": "code",
   "execution_count": null,
   "metadata": {
    "deletable": false,
    "editable": false,
    "nbgrader": {
     "cell_type": "code",
     "checksum": "83064eb1382c18e22df9b6bacad3a625",
     "grade": true,
     "grade_id": "cell-30102cd7243477c1",
     "locked": true,
     "points": 10,
     "schema_version": 3,
     "solution": false,
     "task": false
    }
   },
   "outputs": [],
   "source": [
    "e = np.eye(N,N)\n",
    "np.fill_diagonal(e, x.flatten() - np.append(0, x.flatten()[:-1]))\n",
    "\n",
    "for i in range(N):\n",
    "    e[i, i+1:] = e[i][i]\n",
    "\n",
    "assert np.isclose(x_step, e).all()"
   ]
  },
  {
   "cell_type": "code",
   "execution_count": null,
   "metadata": {
    "deletable": false,
    "editable": false,
    "nbgrader": {
     "cell_type": "code",
     "checksum": "dfef3b69c2a501d9a4aa32a7bddfe498",
     "grade": false,
     "grade_id": "cell-5e25a712e61af95a",
     "locked": true,
     "schema_version": 3,
     "solution": false,
     "task": false
    }
   },
   "outputs": [],
   "source": [
    "plt.rcParams['figure.figsize'] = (15,15)\n",
    "rows = 4\n",
    "cols = 2\n",
    "plt.subplots(rows,cols)\n",
    "\n",
    "y_max = np.max(x_step) + 1\n",
    "y_min = np.min(x_step) - 1\n",
    "\n",
    "for i in range(rows*cols):\n",
    "    plt.subplot(rows,cols,i+1)\n",
    "    plt.stem(x_step[i,:])\n",
    "    plt.ylim([y_min, y_max])\n",
    "    plt.title(f'Sample number = {i}')\n",
    "    plt.grid('on')"
   ]
  },
  {
   "cell_type": "markdown",
   "metadata": {},
   "source": [
    "## 3. Even/Odd Decomposition\n",
    "The even/odd decomposition breaks a signal into two component signals, one having **even symmetry** and the other having **odd symmetry**. An N point signal is said to have even symmetry if it is a mirror image around point $N/2$. Odd symmetry occurs when the matching points have equal magnitudes but are opposite in sign.\n",
    "\n",
    "The following definitions assume that the signal is composed of an **even number of samples**, and that the indexes run from $0$ to $N-1$. The decomposition is calculated form the relations:\n",
    "\n",
    "$$x_E[n]=\\frac{x[n]+x[N-n]}{2}$$\n",
    "\n",
    "$$x_O[n]=\\frac{x[n]-x[N-n]}{2}$$"
   ]
  },
  {
   "cell_type": "code",
   "execution_count": null,
   "metadata": {
    "deletable": false,
    "nbgrader": {
     "cell_type": "code",
     "checksum": "991b1d6da46633a7c9d0c45fdb408a90",
     "grade": false,
     "grade_id": "cell-0c974a031dafa6d4",
     "locked": false,
     "schema_version": 3,
     "solution": true,
     "task": false
    }
   },
   "outputs": [],
   "source": [
    "def circular_flip(x):\n",
    "    \"\"\" \n",
    "    Function that flips an array x in a circular form.\n",
    "  \n",
    "    Parameters: \n",
    "    x (numpy array): Array of numbers representing the input signal to be transformed.\n",
    "  \n",
    "    Returns: \n",
    "    numpy array: Returns flipped values of an input x in the form [x[0], x[N-1], x[N-2] ... x[1]]\n",
    "    \"\"\"\n",
    "    # YOUR CODE HERE\n",
    "    raise NotImplementedError()"
   ]
  },
  {
   "cell_type": "code",
   "execution_count": null,
   "metadata": {
    "deletable": false,
    "nbgrader": {
     "cell_type": "code",
     "checksum": "8b1f088341bb2839d57c291ba836492f",
     "grade": false,
     "grade_id": "cell-71c283caab868251",
     "locked": false,
     "schema_version": 3,
     "solution": true,
     "task": false
    }
   },
   "outputs": [],
   "source": [
    "x = np.array([[0,1,2,3,4,5]])\n",
    "\n",
    "# calculate\n",
    "# x_N: circular flip of x\n",
    "# x_E: even symmetry of x\n",
    "# x_O: odd symmetry of x\n",
    "# YOUR CODE HERE\n",
    "raise NotImplementedError()"
   ]
  },
  {
   "cell_type": "code",
   "execution_count": null,
   "metadata": {
    "deletable": false,
    "editable": false,
    "nbgrader": {
     "cell_type": "code",
     "checksum": "c893ba835b3c468393028cada34a91eb",
     "grade": true,
     "grade_id": "cell-12d4faab9818b997",
     "locked": true,
     "points": 10,
     "schema_version": 3,
     "solution": false,
     "task": false
    }
   },
   "outputs": [],
   "source": [
    "assert np.equal(x_E + x_O, x).all()"
   ]
  },
  {
   "cell_type": "code",
   "execution_count": null,
   "metadata": {
    "deletable": false,
    "editable": false,
    "nbgrader": {
     "cell_type": "code",
     "checksum": "e95d48d1df341550bdaac0db71af9799",
     "grade": false,
     "grade_id": "cell-ffa4368bcaf3ee86",
     "locked": true,
     "schema_version": 3,
     "solution": false,
     "task": false
    }
   },
   "outputs": [],
   "source": [
    "plt.rcParams[\"figure.figsize\"] = (15,5)\n",
    "\n",
    "y_max = np.max([(x_E + x_O), x_E, x_O]) + 1\n",
    "y_min = np.min([(x_E + x_O), x_E, x_O]) - 1\n",
    "\n",
    "plt.subplot(1,3,1)\n",
    "plt.stem(x_E.reshape(-1))\n",
    "plt.ylim([y_min, y_max])\n",
    "plt.title('Even Decomposition of x')\n",
    "plt.grid('on')\n",
    "\n",
    "plt.subplot(1,3,2)\n",
    "plt.stem(x_O.reshape(-1))\n",
    "plt.ylim([y_min, y_max])\n",
    "plt.title('Odd Decomposition of x')\n",
    "plt.grid('on')\n",
    "\n",
    "plt.subplot(1,3,3)\n",
    "plt.stem((x_E + x_O).reshape(-1))\n",
    "plt.ylim([y_min, y_max])\n",
    "plt.title('Signal x')\n",
    "plt.grid('on')\n",
    "plt.show()"
   ]
  },
  {
   "cell_type": "markdown",
   "metadata": {
    "deletable": false,
    "editable": false,
    "nbgrader": {
     "cell_type": "markdown",
     "checksum": "145afe58d5f5fed2c00db89afaecb305",
     "grade": false,
     "grade_id": "cell-c75141223faf1a9b",
     "locked": true,
     "schema_version": 3,
     "solution": false,
     "task": false
    }
   },
   "source": [
    "For an **odd number of samples**, and that the indexes run from $0$ to $𝑁−1$. The decomposition is calculated as follows:"
   ]
  },
  {
   "cell_type": "code",
   "execution_count": null,
   "metadata": {
    "deletable": false,
    "editable": false,
    "nbgrader": {
     "cell_type": "code",
     "checksum": "198cc7d93af78a19abd25a70826aeb74",
     "grade": false,
     "grade_id": "cell-13f1bf23080af535",
     "locked": true,
     "schema_version": 3,
     "solution": false,
     "task": false
    }
   },
   "outputs": [],
   "source": [
    "x = np.array([[0,1,2,3,4,5,6]])\n",
    "x_N = np.flip(x) #Note that there is no circular flip\n",
    "\n",
    "x_E = (x + x_N)/2.0\n",
    "x_O = (x - x_N)/2.0"
   ]
  },
  {
   "cell_type": "code",
   "execution_count": null,
   "metadata": {
    "deletable": false,
    "editable": false,
    "nbgrader": {
     "cell_type": "code",
     "checksum": "81b0751883b6431585ed7e87182f87be",
     "grade": false,
     "grade_id": "cell-649da46800210abd",
     "locked": true,
     "schema_version": 3,
     "solution": false,
     "task": false
    }
   },
   "outputs": [],
   "source": [
    "plt.rcParams[\"figure.figsize\"] = (15,5)\n",
    "\n",
    "y_max = np.max([(x_E + x_O), x_E, x_O]) + 1\n",
    "y_min = np.min([(x_E + x_O), x_E, x_O]) - 1\n",
    "\n",
    "plt.subplot(1,3,1)\n",
    "plt.stem(x_E.reshape(-1))\n",
    "plt.ylim([y_min, y_max])\n",
    "plt.title('Even Decomposition of x')\n",
    "plt.grid('on')\n",
    "\n",
    "plt.subplot(1,3,2)\n",
    "plt.stem(x_O.reshape(-1))\n",
    "plt.ylim([y_min, y_max])\n",
    "plt.title('Odd Decomposition of x')\n",
    "plt.grid('on')\n",
    "\n",
    "plt.subplot(1,3,3)\n",
    "plt.stem((x_E + x_O).reshape(-1))\n",
    "plt.ylim([y_min, y_max])\n",
    "plt.title('Signal x')\n",
    "plt.grid('on')\n",
    "plt.show()"
   ]
  },
  {
   "cell_type": "markdown",
   "metadata": {
    "deletable": false,
    "editable": false,
    "nbgrader": {
     "cell_type": "markdown",
     "checksum": "2db9423aee3a8f5c7b7817ce15873629",
     "grade": false,
     "grade_id": "cell-a75cd6cfd5783f48",
     "locked": true,
     "schema_version": 3,
     "solution": false,
     "task": false
    }
   },
   "source": [
    "## 4. Interlaced Decomposition\n",
    "The interlaced decomposition breaks the signal into two component signals, the even sample signal and the odd sample signal (not to be confused with even and odd symmetry signals). To find the even sample signal, start with the original signal and set all of the odd numbered samples to zero. To find the odd sample signal, start with the original signal and set all of the even numbered samples to zero.\n",
    "\n",
    "At first glance, this decomposition might seem trivial and uninteresting. This is ironic, because the interlaced decomposition is the basis for an extremely important algorithm in DSP, the Fast Fourier Transform (FFT). The procedure for calculating the Fourier decomposition has been know for several hundred years. Unfortunately, it is frustratingly slow, often requiring minutes or hours to execute on present day computers. The FFT is a family of algorithms developed in the 1960s to reduce this computation time. The strategy is an exquisite example of DSP: **reduce the signal to elementary components by repeated use of the interlace transform**; **calculate the Fourier decomposition of the individual components**; **synthesized the results into the final answer**. The results are dramatic; it is common for the speed to be improved by a factor of hundreds or thousands."
   ]
  },
  {
   "cell_type": "code",
   "execution_count": null,
   "metadata": {
    "deletable": false,
    "nbgrader": {
     "cell_type": "code",
     "checksum": "446b4ac88948b8b512fa8b9eae95c09e",
     "grade": false,
     "grade_id": "cell-baf8b3b3dac6b0af",
     "locked": false,
     "schema_version": 3,
     "solution": true,
     "task": false
    }
   },
   "outputs": [],
   "source": [
    "x_E = np.zeros(x.shape)\n",
    "x_O = np.zeros(x.shape)\n",
    "\n",
    "# YOUR CODE HERE\n",
    "raise NotImplementedError()"
   ]
  },
  {
   "cell_type": "code",
   "execution_count": null,
   "metadata": {
    "deletable": false,
    "editable": false,
    "nbgrader": {
     "cell_type": "code",
     "checksum": "9c9970efc06f8d0603e9ee892a16bc9d",
     "grade": true,
     "grade_id": "cell-4f86fdc99d13bef9",
     "locked": true,
     "points": 10,
     "schema_version": 3,
     "solution": false,
     "task": false
    }
   },
   "outputs": [],
   "source": [
    "assert np.equal(x_E + x_O, x).all()"
   ]
  },
  {
   "cell_type": "code",
   "execution_count": null,
   "metadata": {
    "deletable": false,
    "editable": false,
    "nbgrader": {
     "cell_type": "code",
     "checksum": "41bec209e8df1a0dfbed7a0e393ac2fd",
     "grade": false,
     "grade_id": "cell-6f86a279379d52bb",
     "locked": true,
     "schema_version": 3,
     "solution": false,
     "task": false
    }
   },
   "outputs": [],
   "source": [
    "plt.rcParams[\"figure.figsize\"] = (15,5)\n",
    "\n",
    "y_max = np.max([(x_E + x_O), x_E, x_O]) + 1\n",
    "y_min = np.min([(x_E + x_O), x_E, x_O]) - 1\n",
    "\n",
    "plt.subplot(1,3,1)\n",
    "plt.stem(x_E.reshape(-1))\n",
    "plt.ylim([y_min, y_max])\n",
    "plt.title('Even Decomposition of x')\n",
    "plt.grid('on')\n",
    "\n",
    "plt.subplot(1,3,2)\n",
    "plt.stem(x_O.reshape(-1))\n",
    "plt.ylim([y_min, y_max])\n",
    "plt.title('Odd Decomposition of x')\n",
    "plt.grid('on')\n",
    "\n",
    "plt.subplot(1,3,3)\n",
    "plt.stem((x_E + x_O).reshape(-1))\n",
    "plt.ylim([y_min, y_max])\n",
    "plt.title('Signal x')\n",
    "plt.grid('on')\n",
    "plt.show()"
   ]
  },
  {
   "cell_type": "markdown",
   "metadata": {
    "deletable": false,
    "editable": false,
    "nbgrader": {
     "cell_type": "markdown",
     "checksum": "33d3bc25878e6ba59e2455d521e35b0a",
     "grade": false,
     "grade_id": "cell-5b30074c635cb4d1",
     "locked": true,
     "schema_version": 3,
     "solution": false,
     "task": false
    }
   },
   "source": [
    "## Exercise for Common Decompositions\n",
    "For a given input signal x calculate the:\n",
    "1. Impulse Decomposition\n",
    "2. Step Decomposition\n",
    "3. Even/Odd Decomposition\n",
    "4. Interlaced Decomposition\n",
    "\n",
    "by calling the functions `impulse`, `step`, `even_odd` and `interlaced`"
   ]
  },
  {
   "cell_type": "code",
   "execution_count": null,
   "metadata": {
    "deletable": false,
    "nbgrader": {
     "cell_type": "code",
     "checksum": "08b23a0b850efec9d38a326eb6b1100f",
     "grade": false,
     "grade_id": "cell-b31f0ccf29c11fd8",
     "locked": false,
     "schema_version": 3,
     "solution": true,
     "task": false
    }
   },
   "outputs": [],
   "source": [
    "def impulse(x):\n",
    "    \"\"\" \n",
    "    Function that calculates the impulse decomposition of a signal x.\n",
    "  \n",
    "    Parameters: \n",
    "    x (numpy array): Array of numbers representing the input signal to be decomposed.\n",
    "  \n",
    "    Returns: \n",
    "    numpy array: Returns a matrix of size x.shape[1] by x.shape[1] where each row represents \n",
    "    the impulse decomposition of the n-th sample.\n",
    "    \"\"\"\n",
    "    # YOUR CODE HERE\n",
    "    raise NotImplementedError()\n",
    "        \n",
    "    return impulse_decomposition\n",
    "\n",
    "\n",
    "def step(x):\n",
    "    \"\"\" \n",
    "    Function that calculates the step decomposition of a signal x.\n",
    "  \n",
    "    Parameters: \n",
    "    x (numpy array): Array of numbers representing the input signal to be decomposed.\n",
    "  \n",
    "    Returns: \n",
    "    numpy array: Returns a matrix of size x.shape[1] by x.shape[1] where each row represents \n",
    "    the step decomposition of the n-th sample.\n",
    "    \"\"\"\n",
    "    \n",
    "    # YOUR CODE HERE\n",
    "    raise NotImplementedError()\n",
    "    \n",
    "    return step_decomposition\n",
    "\n",
    "\n",
    "def even_odd(x):\n",
    "    \"\"\" \n",
    "    Function that calculates the even/odd decomposition of a signal x.\n",
    "  \n",
    "    Parameters: \n",
    "    x (numpy array): Array of numbers representing the input signal to be decomposed.\n",
    "  \n",
    "    Returns: \n",
    "    x_E (numpy array): Array representing the even decomposition of signal x \n",
    "    x_O (numpy array): Array representing the odd decomposition of signal x \n",
    "    \"\"\"\n",
    "    \n",
    "    # YOUR CODE HERE\n",
    "    raise NotImplementedError()\n",
    "    \n",
    "    return x_E, x_O\n",
    "\n",
    "\n",
    "def interlaced(x):\n",
    "    \"\"\" \n",
    "    Function that calculates the interlaced decomposition of a signal x.\n",
    "  \n",
    "    Parameters: \n",
    "    x (numpy array): Array of numbers representing the input signal to be decomposed.\n",
    "  \n",
    "    Returns: \n",
    "    x_E (numpy array): Array representing the even-interlaced decomposition of signal x \n",
    "    x_O (numpy array): Array representing the odd-interlaced decomposition of signal x \n",
    "    \"\"\"\n",
    "    \n",
    "    # YOUR CODE HERE\n",
    "    raise NotImplementedError()\n",
    "    \n",
    "    return x_E, x_O    "
   ]
  },
  {
   "cell_type": "markdown",
   "metadata": {
    "deletable": false,
    "editable": false,
    "nbgrader": {
     "cell_type": "markdown",
     "checksum": "2e8e1cccb58992577d9ea1c7cddea5c1",
     "grade": false,
     "grade_id": "cell-2e8f6ad6505efd87",
     "locked": true,
     "schema_version": 3,
     "solution": false,
     "task": false
    }
   },
   "source": [
    "## Test your functions\n",
    "To test your implementations two test cases are provided in the `solution_common_decompositions.pkl` pickle file."
   ]
  },
  {
   "cell_type": "code",
   "execution_count": null,
   "metadata": {
    "deletable": false,
    "editable": false,
    "nbgrader": {
     "cell_type": "code",
     "checksum": "9b0fbe2d4d286bb32c4a11ea2346ecd9",
     "grade": false,
     "grade_id": "cell-c29f0547acfbe899",
     "locked": true,
     "schema_version": 3,
     "solution": false,
     "task": false
    }
   },
   "outputs": [],
   "source": [
    "with open('solution_common_decompositions.pkl', 'rb') as file:\n",
    "    solution = pickle.load(file)"
   ]
  },
  {
   "cell_type": "markdown",
   "metadata": {
    "deletable": false,
    "editable": false,
    "nbgrader": {
     "cell_type": "markdown",
     "checksum": "3a9d4370448904bbe14392e35c80a453",
     "grade": false,
     "grade_id": "cell-0fe0f7aac16e5a4e",
     "locked": true,
     "schema_version": 3,
     "solution": false,
     "task": false
    }
   },
   "source": [
    "### Test even number of samples\n",
    "First you will test your implementation using an even number of samples with a random seed of 1. If everything works correctly you should pass all the assert statements."
   ]
  },
  {
   "cell_type": "code",
   "execution_count": null,
   "metadata": {
    "deletable": false,
    "editable": false,
    "nbgrader": {
     "cell_type": "code",
     "checksum": "6cae1e190fe51855f376106a9d359587",
     "grade": true,
     "grade_id": "cell-74667381509680c0",
     "locked": true,
     "points": 30,
     "schema_version": 3,
     "solution": false,
     "task": false
    }
   },
   "outputs": [],
   "source": [
    "np.random.seed(1)\n",
    "x1 = np.random.rand(1,200)\n",
    "\n",
    "x_impulse = impulse(x1)\n",
    "assert(np.array_equal(x_impulse, solution['X1']['x_impulse'])), 'error in impulse function'\n",
    "\n",
    "x_step = step(x1)\n",
    "assert(np.array_equal(x_step, solution['X1']['x_step'])), 'error in step function'\n",
    "\n",
    "x_E, x_O = even_odd(x1)\n",
    "assert(np.array_equal(x_E, solution['X1']['x_E'])), 'error in even/odd decomposition function'\n",
    "assert(np.array_equal(x_O, solution['X1']['x_O'])), 'error in even/odd decomposition function'\n",
    "\n",
    "x_iE, x_iO = interlaced(x1)\n",
    "assert(np.array_equal(x_iE, solution['X1']['x_iE'])), 'error in interlaced decomposition function'\n",
    "assert(np.array_equal(x_iO, solution['X1']['x_iO'])), 'error in interlaced decomposition function'"
   ]
  },
  {
   "cell_type": "markdown",
   "metadata": {
    "deletable": false,
    "editable": false,
    "nbgrader": {
     "cell_type": "markdown",
     "checksum": "cbafa71644044e9c094f03ac53f0153a",
     "grade": false,
     "grade_id": "cell-3db0b342d3701b38",
     "locked": true,
     "schema_version": 3,
     "solution": false,
     "task": false
    }
   },
   "source": [
    "### Test odd number of samples\n",
    "Secondly you will test your implementation using an odd number of samples with a random seed of 1. If everything works correctly you should pass all the assert statements."
   ]
  },
  {
   "cell_type": "code",
   "execution_count": null,
   "metadata": {
    "deletable": false,
    "editable": false,
    "nbgrader": {
     "cell_type": "code",
     "checksum": "236c66bf58698a115ba502be2e93047b",
     "grade": true,
     "grade_id": "cell-20aae994839b0ec0",
     "locked": true,
     "points": 30,
     "schema_version": 3,
     "solution": false,
     "task": false
    }
   },
   "outputs": [],
   "source": [
    "np.random.seed(1)\n",
    "x2 = np.random.rand(1,201)\n",
    "\n",
    "x_impulse = impulse(x2)\n",
    "assert(np.array_equal(x_impulse, solution['X2']['x_impulse'])), 'error in impulse function'\n",
    "\n",
    "x_step = step(x2)\n",
    "assert(np.array_equal(x_step, solution['X2']['x_step'])), 'error in step function'\n",
    "\n",
    "x_E, x_O = even_odd(x2)\n",
    "assert(np.array_equal(x_E, solution['X2']['x_E'])), 'error in even/odd decomposition function'\n",
    "assert(np.array_equal(x_O, solution['X2']['x_O'])), 'error in even/odd decomposition function'\n",
    "\n",
    "x_iE, x_iO = interlaced(x2)\n",
    "assert(np.array_equal(x_iE, solution['X2']['x_iE'])), 'error in interlaced decomposition function'\n",
    "assert(np.array_equal(x_iO, solution['X2']['x_iO'])), 'error in interlaced decomposition function'"
   ]
  },
  {
   "cell_type": "markdown",
   "metadata": {},
   "source": [
    "#### References:\n",
    "\n",
    "http://www.dspguide.com/ch5/7.htm"
   ]
  }
 ],
 "metadata": {
  "kernelspec": {
   "display_name": "Python 3 (ipykernel)",
   "language": "python",
   "name": "python3"
  },
  "language_info": {
   "codemirror_mode": {
    "name": "ipython",
    "version": 3
   },
   "file_extension": ".py",
   "mimetype": "text/x-python",
   "name": "python",
   "nbconvert_exporter": "python",
   "pygments_lexer": "ipython3",
   "version": "3.10.4"
  }
 },
 "nbformat": 4,
 "nbformat_minor": 2
}
