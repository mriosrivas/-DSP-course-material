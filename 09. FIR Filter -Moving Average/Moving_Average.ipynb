{
 "cells": [
  {
   "cell_type": "markdown",
   "metadata": {
    "deletable": false,
    "editable": false,
    "nbgrader": {
     "cell_type": "markdown",
     "checksum": "1da91b5581aed7349cc89c3c707054b4",
     "grade": false,
     "grade_id": "cell-63cbe99e79f31bbe",
     "locked": true,
     "schema_version": 3,
     "solution": false,
     "task": false
    }
   },
   "source": [
    "# The Moving Average Filter\n",
    "The moving average is the most common filter in DSP, mainly because it is the easiest digital filter to understand and use. In spite of its simplicity, the moving average filter is optimal for a common task: reducing random noise while retaining a sharp step response. This makes it the premier filter for time domain encoded signals. However, the moving average is the worst filter for frequency domain encoded signals, with little ability to separate one band of frequencies from another. Relatives of the moving average filter include the Gaussian, Blackman, and multiple-pass moving average. These have slightly better performance in the frequency domain, at the expense of increased computation time. \n",
    "\n",
    "## Implementation by Convolution\n",
    "The moving average can be computed using the following two equations:\n",
    "\n",
    "1. For an asymmetric implementation:\n",
    "$$y[i]=\\frac{1}{M} \\sum\\limits^{M-1}_{j=0}{x[i+j]}$$\n",
    "\n",
    "2. For a symmetric implementation:\n",
    "$$y[i]=\\frac{1}{M} \\sum\\limits^{M/2-1}_{j=-M/2}{x[i+j]}$$\n",
    "\n",
    "Now it is your turn to implement the moving average by convolution for both asymmetric and symmetric types. For this, you will create a function called `moving_average` that takes as input an array `x`, a value `M` for the number of points to use the moving average, and a `symmetry` key for selecting between symmetric (`sym`) and asymmetric (`asym`) implementations."
   ]
  },
  {
   "cell_type": "code",
   "execution_count": null,
   "metadata": {
    "deletable": false,
    "editable": false,
    "nbgrader": {
     "cell_type": "code",
     "checksum": "61cb78378e28833772cca99791212344",
     "grade": false,
     "grade_id": "cell-38393dde917033d1",
     "locked": true,
     "schema_version": 3,
     "solution": false,
     "task": false
    }
   },
   "outputs": [],
   "source": [
    "import matplotlib.pyplot as plt\n",
    "import numpy as np\n",
    "import pickle\n",
    "\n",
    "import re\n",
    "import datetime\n",
    "import time\n",
    "import requests\n",
    "import json"
   ]
  },
  {
   "cell_type": "code",
   "execution_count": null,
   "metadata": {
    "deletable": false,
    "nbgrader": {
     "cell_type": "code",
     "checksum": "120e18dbc1fe971d81eb604b56f0dd99",
     "grade": false,
     "grade_id": "cell-270ecdfc8cfa286e",
     "locked": false,
     "schema_version": 3,
     "solution": true,
     "task": false
    }
   },
   "outputs": [],
   "source": [
    "def moving_average(x, M = 5, symmetry = 'sym'):\n",
    "    \"\"\" \n",
    "    Function that calculates the moving average of a signal in a symmetric and asymmetric form.\n",
    "    Note: Be sure to run i from 0 to N. \n",
    "    Note: The limit of j depends on the type of symmetry.\n",
    "  \n",
    "    Parameters: \n",
    "    x (numpy array): Array of numbers representing the signal to be analyzed.\n",
    "    M (integer): Number of point for the moving average filter.\n",
    "    symmetry (string): String value for the type of symmetry being used, can be 'sym' or 'asym'.\n",
    "  \n",
    "    Returns: \n",
    "    numpy array: Returns filter response.\n",
    "  \n",
    "    \"\"\"\n",
    "    # YOUR CODE HERE\n",
    "    raise NotImplementedError()"
   ]
  },
  {
   "cell_type": "code",
   "execution_count": null,
   "metadata": {
    "deletable": false,
    "editable": false,
    "nbgrader": {
     "cell_type": "code",
     "checksum": "5aa159fcd3454467d4e2beeaa15ed582",
     "grade": true,
     "grade_id": "cell-2be6555e70747f40",
     "locked": true,
     "points": 20,
     "schema_version": 3,
     "solution": false,
     "task": false
    }
   },
   "outputs": [],
   "source": [
    "x = np.loadtxt(fname = \"waveforms.dat\").flatten()\n",
    "y_asym = moving_average(x, M=11, symmetry = 'asym')\n",
    "y_sym = moving_average(x, M=11, symmetry = 'sym')\n",
    "\n",
    "with open('ma.pkl', 'rb') as file:\n",
    "    y_asym_pkl, y_sym_pkl = pickle.load(file)\n",
    "\n",
    "assert np.allclose(y_asym, y_asym_pkl, atol=0.01)\n",
    "assert np.allclose(y_sym, y_sym_pkl, atol=0.01)\n",
    "\n",
    "plt.rcParams[\"figure.figsize\"] = (15,10)\n",
    "\n",
    "plt.subplot(2,2,1)\n",
    "plt.plot(x)\n",
    "plt.plot(y_asym)\n",
    "plt.title('Asymmetric Moving Average')\n",
    "plt.grid('on')\n",
    "\n",
    "\n",
    "plt.subplot(2,2,2)\n",
    "plt.plot(x)\n",
    "plt.plot(y_sym)\n",
    "plt.title('Symmetric Moving Average')\n",
    "plt.grid('on')"
   ]
  },
  {
   "cell_type": "markdown",
   "metadata": {
    "deletable": false,
    "editable": false,
    "nbgrader": {
     "cell_type": "markdown",
     "checksum": "c8dd9103bcd40674fb30d03583c17cb4",
     "grade": false,
     "grade_id": "cell-870db207eab96c1b",
     "locked": true,
     "schema_version": 3,
     "solution": false,
     "task": false
    }
   },
   "source": [
    "Now let's make a signal with additive gaussian noise to test how it works by removing noise from a signal:"
   ]
  },
  {
   "cell_type": "code",
   "execution_count": null,
   "metadata": {
    "deletable": false,
    "nbgrader": {
     "cell_type": "code",
     "checksum": "68dacb60c042395892d87be6fe9596c4",
     "grade": false,
     "grade_id": "cell-0f3c2bc8bcb7b0db",
     "locked": false,
     "schema_version": 3,
     "solution": true,
     "task": false
    }
   },
   "outputs": [],
   "source": [
    "# Create an array t with a range of values between 0 (inclusive) \n",
    "# and 35 (exclusive) use a step size of 0.01\n",
    "# YOUR CODE HERE\n",
    "raise NotImplementedError()\n",
    "\n",
    "# Create an array named signal with a sine function with amplitude of 1, and evaluate the t array\n",
    "# YOUR CODE HERE\n",
    "raise NotImplementedError()\n",
    "\n",
    "np.random.seed(42)\n",
    "# Create a random signal with a normal distribution of size of t\n",
    "# Assign a maximum amplitude of 0.10\n",
    "# Name this array noise\n",
    "# You can search for np.random.normal\n",
    "# YOUR CODE HERE\n",
    "raise NotImplementedError()\n",
    "\n",
    "# Add both signal an noise and name it noise_signal.\n",
    "# YOUR CODE HERE\n",
    "raise NotImplementedError()\n",
    "\n",
    "# Apply your moving_average function to the noise_signal with 5 points.\n",
    "# YOUR CODE HERE\n",
    "raise NotImplementedError()"
   ]
  },
  {
   "cell_type": "code",
   "execution_count": null,
   "metadata": {
    "deletable": false,
    "editable": false,
    "nbgrader": {
     "cell_type": "code",
     "checksum": "0599214064e136d67941554e04c8cbc7",
     "grade": true,
     "grade_id": "cell-674721576cf925f7",
     "locked": true,
     "points": 10,
     "schema_version": 3,
     "solution": false,
     "task": false
    }
   },
   "outputs": [],
   "source": [
    "with open('noise_remove.pkl', 'rb') as file:\n",
    "    t_pkl, signal_pkl, noise_pkl, noise_signal_pkl, noiseless_signal_pkl = pickle.load(file)\n",
    "    \n",
    "    \n",
    "assert np.allclose(t, t_pkl)\n",
    "assert np.allclose(signal, signal_pkl, atol=0.01)\n",
    "assert np.allclose(noise, noise_pkl, atol=0.01)\n",
    "assert np.allclose(noise_signal, noise_signal_pkl, atol=0.01)\n",
    "assert np.allclose(noiseless_signal, noiseless_signal_pkl, atol=0.01)\n",
    "\n",
    "\n",
    "plt.rcParams[\"figure.figsize\"] = (15,10)\n",
    "\n",
    "plt.subplot(4, 1, 1)\n",
    "plt.plot(noise_signal);\n",
    "plt.title(\"Signal with Noise\")\n",
    "plt.grid(True)\n",
    "\n",
    "plt.subplot(5, 2, 5)\n",
    "plt.hist(noise_signal, 50);\n",
    "plt.title(\"Spectral density of Noise Signal\")\n",
    "\n",
    "plt.subplot(5, 2, 6)\n",
    "plt.hist(noise, 50)\n",
    "plt.title(\"Spectral density of Noise\")\n",
    "\n",
    "plt.subplot(4, 1, 4)\n",
    "plt.plot(noiseless_signal)\n",
    "plt.title(\"Signal with Noise Removed\")\n",
    "plt.grid(True);"
   ]
  },
  {
   "cell_type": "markdown",
   "metadata": {
    "deletable": false,
    "editable": false,
    "nbgrader": {
     "cell_type": "markdown",
     "checksum": "bc82ceb62846e57ae58939eee3fb8d97",
     "grade": false,
     "grade_id": "cell-4a4d560482eefe2e",
     "locked": true,
     "schema_version": 3,
     "solution": false,
     "task": false
    }
   },
   "source": [
    "## Frequency Response\n",
    "\n",
    "The frequency response of the moving average filter can be calculated by the Fourier transform of the rectangular pulse and is given by:\n",
    "\n",
    "$$H[f]=\\frac{\\sin{(\\pi f M)}}{M\\sin{(\\pi f)}} $$\n",
    "\n",
    "The roll-off is very slow and the stopband attenuation is ghastly. Clearly, the moving average filter cannot separate one band of frequencies from another. Remember, good performance in the time domain results in poor performance in the frequency domain, and vice versa. In short, the moving average is an exceptionally good smoothing filter (the action in the time domain), but an exceptionally bad low-pass filter (the action in the frequency domain). \n",
    "\n",
    "In the following part you will need to implement a function called `frequency_response` that will take as input two arguments, one being an array of numbers representing the frequency of interest `f`, and the other an integer value `M` which represent the number of points for the moving average filter. With these parameters, the function will return $H[f]$ as described before."
   ]
  },
  {
   "cell_type": "code",
   "execution_count": null,
   "metadata": {
    "deletable": false,
    "nbgrader": {
     "cell_type": "code",
     "checksum": "e9e6f1ec16ff8bf6df549446b620cf2c",
     "grade": false,
     "grade_id": "cell-65bd87e85b0bcc9b",
     "locked": false,
     "schema_version": 3,
     "solution": true,
     "task": false
    }
   },
   "outputs": [],
   "source": [
    "def frequency_response(f, M):\n",
    "    \"\"\" \n",
    "    Function that returns the frequency response of a moving average filter.\n",
    "  \n",
    "    Parameters: \n",
    "    f (numpy array): Array of numbers representing the input frequency to analyze.\n",
    "    M (integer): Number of point for the moving average filter.\n",
    "  \n",
    "    Returns: \n",
    "    numpy array: Returns filter response.\n",
    "  \n",
    "    \"\"\"\n",
    "    # YOUR CODE HERE\n",
    "    raise NotImplementedError()"
   ]
  },
  {
   "cell_type": "code",
   "execution_count": null,
   "metadata": {
    "deletable": false,
    "editable": false,
    "nbgrader": {
     "cell_type": "code",
     "checksum": "90e72147885304887fc09785ab3f40c5",
     "grade": true,
     "grade_id": "cell-c434499ad4ea1314",
     "locked": true,
     "points": 10,
     "schema_version": 3,
     "solution": false,
     "task": false
    }
   },
   "outputs": [],
   "source": [
    "with open('freq_response.pkl', 'rb') as file:\n",
    "    H1_pkl, H2_pkl, H3_pkl = pickle.load(file)\n",
    "\n",
    "\n",
    "N = len(x)\n",
    "f = np.arange(0, 0.5, 0.5/N)\n",
    "m1 = 3\n",
    "m2 = 9\n",
    "m3 = 11\n",
    "\n",
    "plt.rcParams[\"figure.figsize\"] = (10,5)\n",
    "\n",
    "H1 = frequency_response(f, m1)\n",
    "H2 = frequency_response(f, m2)\n",
    "H3 = frequency_response(f, m3)\n",
    "plt.plot(f,H1, label='{}-point'.format(m1))\n",
    "plt.plot(f,H2, label='{}-point'.format(m2))\n",
    "plt.plot(f,H3, label='{}-point'.format(m3))\n",
    "plt.grid(True)\n",
    "plt.legend()\n",
    "\n",
    "\n",
    "assert np.allclose(H1, H1_pkl, atol=0.001)\n",
    "assert np.allclose(H2, H2_pkl, atol=0.001)\n",
    "assert np.allclose(H3, H3_pkl, atol=0.001)"
   ]
  },
  {
   "cell_type": "markdown",
   "metadata": {
    "deletable": false,
    "editable": false,
    "nbgrader": {
     "cell_type": "markdown",
     "checksum": "4ccf47e75becfbd88736c395ae6c8c23",
     "grade": false,
     "grade_id": "cell-84747ef6ed807453",
     "locked": true,
     "schema_version": 3,
     "solution": false,
     "task": false
    }
   },
   "source": [
    "## Multiple-pass Moving Average Filter\n",
    "Multiple-pass moving average filters involve passing the input signal through a moving average filter two or more times. Two passes are equivalent to using a triangular filter kernel (a rectangular filter kernel convolved with itself). After four or more passes, the equivalent filter kernel looks like a Gaussian (recall the [Central Limit Theorem](https://en.wikipedia.org/wiki/Central_limit_theorem) ).\n",
    "\n",
    "The code below is an example of convolving a step pulse with itself multiple times. Notice the effect of multiple convolutions."
   ]
  },
  {
   "cell_type": "code",
   "execution_count": null,
   "metadata": {
    "deletable": false,
    "editable": false,
    "nbgrader": {
     "cell_type": "code",
     "checksum": "75b8b52414f30913ef1bdc71b97dd9bf",
     "grade": false,
     "grade_id": "cell-fe6523bfd8805b4e",
     "locked": true,
     "schema_version": 3,
     "solution": false,
     "task": false
    }
   },
   "outputs": [],
   "source": [
    "plt.rcParams[\"figure.figsize\"] = (10,5)\n",
    "\n",
    "step = np.append(np.zeros(10),np.ones(5))\n",
    "step = np.append(step, np.zeros(10))\n",
    "\n",
    "triangular = np.convolve(step,step)\n",
    "gaussian = np.convolve(triangular,triangular)\n",
    "\n",
    "plt.plot(step, label='1 pass')\n",
    "plt.plot(triangular[12:-12]/np.max(triangular), label='2 pass')\n",
    "plt.plot(gaussian[3*12:-3*12]/np.max(gaussian), label='4 pass')\n",
    "\n",
    "plt.grid(True)\n",
    "plt.legend();"
   ]
  },
  {
   "cell_type": "markdown",
   "metadata": {
    "deletable": false,
    "editable": false,
    "nbgrader": {
     "cell_type": "markdown",
     "checksum": "5ae57540a28b4dbeb00da80eb4f928cc",
     "grade": false,
     "grade_id": "cell-267bf6ed7b6413b1",
     "locked": true,
     "schema_version": 3,
     "solution": false,
     "task": false
    }
   },
   "source": [
    "Implement a multiple-pass moving average filter to the input signal `noise_signal` with a 5 point symmetric moving average."
   ]
  },
  {
   "cell_type": "code",
   "execution_count": null,
   "metadata": {
    "deletable": false,
    "nbgrader": {
     "cell_type": "code",
     "checksum": "141ada2319b295d1dd9e7b37aa4a9d9c",
     "grade": false,
     "grade_id": "cell-0a2838fbf0ec8c15",
     "locked": false,
     "schema_version": 3,
     "solution": true,
     "task": false
    }
   },
   "outputs": [],
   "source": [
    "# Filter noise_signal with a 5-point symmetric moving average fiter.\n",
    "# Assign the result to one_pass variable\n",
    "# YOUR CODE HERE\n",
    "raise NotImplementedError()\n",
    "\n",
    "# Filter one_pass with a 5-point symmetric moving average fiter.\n",
    "# Assign the result to two_pass variable\n",
    "# YOUR CODE HERE\n",
    "raise NotImplementedError()\n",
    "\n",
    "# Filter two_pass with a 5-point symmetric moving average fiter.\n",
    "# Assign the result to three_pass variable\n",
    "# YOUR CODE HERE\n",
    "raise NotImplementedError()\n",
    "\n",
    "# Filter three_pass with a 5-point symmetric moving average fiter.\n",
    "# Assign the result to four_pass variable\n",
    "# YOUR CODE HERE\n",
    "raise NotImplementedError()\n"
   ]
  },
  {
   "cell_type": "code",
   "execution_count": null,
   "metadata": {
    "deletable": false,
    "editable": false,
    "nbgrader": {
     "cell_type": "code",
     "checksum": "87365c5ade885333c7820382fe84c5c2",
     "grade": true,
     "grade_id": "cell-0a2838fbf0ec8c14",
     "locked": true,
     "points": 10,
     "schema_version": 3,
     "solution": false,
     "task": false
    }
   },
   "outputs": [],
   "source": [
    "with open('filter_passes.pkl','rb') as file:\n",
    "    one_pass_pkl, two_pass_pkl, three_pass_pkl, four_pass_pkl = pickle.load(file)\n",
    "    \n",
    "    \n",
    "assert np.allclose(one_pass_pkl, one_pass, atol=0.01)\n",
    "assert np.allclose(two_pass_pkl, two_pass, atol=0.01)\n",
    "assert np.allclose(three_pass_pkl, three_pass, atol=0.01)\n",
    "assert np.allclose(four_pass_pkl, four_pass, atol=0.01)\n",
    "\n",
    "plt.plot(one_pass, label='1 pass')\n",
    "plt.plot(two_pass, label='2 pass')\n",
    "plt.plot(four_pass, label='4 pass')\n",
    "\n",
    "plt.grid(True)\n",
    "plt.legend()\n",
    "plt.show()"
   ]
  },
  {
   "cell_type": "markdown",
   "metadata": {
    "deletable": false,
    "editable": false,
    "nbgrader": {
     "cell_type": "markdown",
     "checksum": "df07da9143c992e100d615cf16b91574",
     "grade": false,
     "grade_id": "cell-05e911ea562f88b9",
     "locked": true,
     "schema_version": 3,
     "solution": false,
     "task": false
    }
   },
   "source": [
    "## Recursive Moving Filter\n",
    "A faster implementation of the moving average filter is done by using recursion. To show this method we can imagine passing an input signal, $x[ ]$, through a seven point moving average filter to form an output signal, $y[ ]$. Now look at how two adjacent output points, $y[25]$ and $y[26]$, are calculated:\n",
    "\n",
    "\n",
    "$$y[25] = x[22] + x[23] +x[24] + x[25] + x[26] + x[27] + x[28]$$\n",
    "\n",
    "$$y[26] = x[23] +x[24] + x[25] + x[26] + x[27] + x[28] + x[29]$$\n",
    "\n",
    "By looking at $y[25]$ and $y[26]$ we can write:\n",
    "\n",
    "$$ y[26] = y[25] + x[29] - x[22]$$\n",
    "\n",
    "We can even generalize as follows:\n",
    "\n",
    "$$y[i] = y[i-1] + x[i+p] - x[i-q]$$\n",
    "\n",
    "$$\\textrm{with} \\quad p = \\frac{(M-1)}{2}  \\quad \\textrm{and}  \\quad q = p + 1$$\n"
   ]
  },
  {
   "cell_type": "markdown",
   "metadata": {
    "deletable": false,
    "editable": false,
    "nbgrader": {
     "cell_type": "markdown",
     "checksum": "2c8a841423304a532a6653228c2b0d5b",
     "grade": false,
     "grade_id": "cell-0bcf3abade3b791b",
     "locked": true,
     "schema_version": 3,
     "solution": false,
     "task": false
    }
   },
   "source": [
    "Implement a recursive moving average function called `recursive_moving_average` for an input signal `x` and a variable number of points `M`. Notice that this function can only be implemented in a symmetric form."
   ]
  },
  {
   "cell_type": "code",
   "execution_count": null,
   "metadata": {
    "deletable": false,
    "nbgrader": {
     "cell_type": "code",
     "checksum": "9b525997d60487a578dc2db0202894d5",
     "grade": false,
     "grade_id": "cell-0040526025407d07",
     "locked": false,
     "schema_version": 3,
     "solution": true,
     "task": false
    }
   },
   "outputs": [],
   "source": [
    "def recursive_moving_average(x, M = 5):\n",
    "    \"\"\" \n",
    "    Function that calculates the recursive moving average of a signal in a symmetric form.\n",
    "  \n",
    "    Parameters: \n",
    "    x (numpy array): Array of numbers representing the signal to be analyzed.\n",
    "    M (integer): Number of point for the moving average filter.\n",
    "  \n",
    "    Returns: \n",
    "    numpy array: Returns filter response.\n",
    "  \n",
    "    \"\"\"\n",
    "    # YOUR CODE HERE\n",
    "    raise NotImplementedError()"
   ]
  },
  {
   "cell_type": "code",
   "execution_count": null,
   "metadata": {
    "deletable": false,
    "editable": false,
    "nbgrader": {
     "cell_type": "code",
     "checksum": "ddf72d2ef13e89527b573357d00828f0",
     "grade": true,
     "grade_id": "cell-42e647468a612032",
     "locked": true,
     "points": 20,
     "schema_version": 3,
     "solution": false,
     "task": false
    }
   },
   "outputs": [],
   "source": [
    "with open('denoise.pkl', 'rb') as file:\n",
    "    denoise_pkl = pickle.load(file)\n",
    "    \n",
    "denoise = recursive_moving_average(noise_signal, M=5)\n",
    "\n",
    "assert np.allclose(denoise_pkl, denoise, atol=0.01)"
   ]
  },
  {
   "cell_type": "markdown",
   "metadata": {
    "deletable": false,
    "editable": false,
    "nbgrader": {
     "cell_type": "markdown",
     "checksum": "acef5520e67b0d08795ce479d8928947",
     "grade": false,
     "grade_id": "cell-522b0d2f614c9928",
     "locked": true,
     "schema_version": 3,
     "solution": false,
     "task": false
    }
   },
   "source": [
    "## Comparison between Moving Average and Recursive Moving Average\n",
    "The following example shows a comparison between both models and the error between them. As it can be seen, the error is a systematically one, and a further study can be developed. "
   ]
  },
  {
   "cell_type": "code",
   "execution_count": null,
   "metadata": {
    "deletable": false,
    "nbgrader": {
     "cell_type": "code",
     "checksum": "b2dd5094b1cc46ad4f666a6f7682c0dd",
     "grade": false,
     "grade_id": "cell-091531495058194b",
     "locked": false,
     "schema_version": 3,
     "solution": true,
     "task": false
    }
   },
   "outputs": [],
   "source": [
    "x = np.loadtxt(fname = \"waveforms.dat\").flatten()\n",
    "\n",
    "# Compare a moving average filter and a recursive moving average filter of 11 points.\n",
    "# Assign to y1 the moving average implementation\n",
    "# Assign to y2 the recursive moving average implementation\n",
    "# Use as input the signal x\n",
    "# YOUR CODE HERE\n",
    "raise NotImplementedError()\n",
    "\n",
    "# Find the absolute error between y1 and y2\n",
    "# YOUR CODE HERE\n",
    "raise NotImplementedError()"
   ]
  },
  {
   "cell_type": "code",
   "execution_count": null,
   "metadata": {
    "deletable": false,
    "editable": false,
    "nbgrader": {
     "cell_type": "code",
     "checksum": "3eac18d0b1faf297bd3755726ae612bd",
     "grade": true,
     "grade_id": "cell-091531495058194a",
     "locked": true,
     "points": 10,
     "schema_version": 3,
     "solution": false,
     "task": false
    }
   },
   "outputs": [],
   "source": [
    "with open('compare.pkl', 'rb') as file:\n",
    "    y1_pkl, y2_pkl, error_pkl = pickle.load(file)\n",
    "    \n",
    "    \n",
    "assert np.allclose(y1_pkl, y1, atol=0.01)\n",
    "assert np.allclose(y2_pkl, y2, atol=0.01)\n",
    "assert np.allclose(error_pkl, error, atol=0.01)\n",
    "\n",
    "plt.plot(y1, label = 'Moving Average')\n",
    "plt.plot(y2, label = 'Recursive Moving Average')\n",
    "plt.plot(error, label = 'Error')\n",
    "plt.legend()\n",
    "plt.grid(True)\n",
    "plt.show()"
   ]
  },
  {
   "cell_type": "markdown",
   "metadata": {
    "deletable": false,
    "editable": false,
    "nbgrader": {
     "cell_type": "markdown",
     "checksum": "1c31cc06b3302ba7db36a3f5e2da871d",
     "grade": false,
     "grade_id": "cell-9c0438e1b0c916bd",
     "locked": true,
     "schema_version": 3,
     "solution": false,
     "task": false
    }
   },
   "source": [
    "# Crypto Market Example\n",
    "In this example we will use the `moving_average` function developed at the beggining of this Jupyter Notebook to analize the Crypto market. Moving averages are extremely popular technical indicators to analyze trends. However, they are best used in conjunction with other indicators. \n",
    "\n",
    "Moving Average analysis can help to determine if the current market is a bullish or bearish, it can also serve to define selling o buying opportunities. You can read more about it [here](https://bitsgap.com/blog/best-indicators-for-the-crypto-market-moving-average)."
   ]
  },
  {
   "cell_type": "code",
   "execution_count": null,
   "metadata": {
    "deletable": false,
    "editable": false,
    "nbgrader": {
     "cell_type": "code",
     "checksum": "3fa3c93ff32d4989a6bb51ed1606e4bc",
     "grade": false,
     "grade_id": "cell-76ba58d0dabfc7f0",
     "locked": true,
     "schema_version": 3,
     "solution": false,
     "task": false
    }
   },
   "outputs": [],
   "source": [
    "def get_unix_time(data):\n",
    "    \"\"\"\n",
    "    Auxiliary function to convert date in to unix time.\n",
    "    \n",
    "    Parameters: \n",
    "    data (string): Date format is 'YYYY-MM-DD HH:MM', for example '2020-02-25 17:20'\n",
    "    \n",
    "    Returns: \n",
    "    float: Returns a float number representing a UNIX timestamp .\n",
    "    \n",
    "    \"\"\"\n",
    "    date =  re.split(r'-| |:', data)    \n",
    "    timestamp =  datetime.datetime(int(date[0]), int(date[1]), \n",
    "                                   int(date[2]), int(date[3]), int(date[4]))\n",
    "    return time.mktime(timestamp.timetuple())"
   ]
  },
  {
   "cell_type": "code",
   "execution_count": null,
   "metadata": {
    "deletable": false,
    "nbgrader": {
     "cell_type": "code",
     "checksum": "1f829c581b742cf8669508691730261d",
     "grade": false,
     "grade_id": "cell-6eafc21d2e562326",
     "locked": false,
     "schema_version": 3,
     "solution": true,
     "task": false
    }
   },
   "outputs": [],
   "source": [
    "# Set initial date to 00:00 of january 1st, 2018 and return it as a unix time\n",
    "# Use a variable named initial_time for this task.\n",
    "# YOUR CODE HERE\n",
    "raise NotImplementedError()\n",
    "\n",
    "# Set final date to 00:00 of july 11th, 2022 and return it as a unix time\n",
    "# Use a variable named final_time for this task.\n",
    "# YOUR CODE HERE\n",
    "raise NotImplementedError()\n",
    "\n",
    "# Assign to a variable named cryto a string 'bitcoin'\n",
    "# YOUR CODE HERE\n",
    "raise NotImplementedError()\n",
    "\n",
    "# Assign to a variable named fiat a string 'usd'\n",
    "# YOUR CODE HERE\n",
    "raise NotImplementedError()"
   ]
  },
  {
   "cell_type": "code",
   "execution_count": null,
   "metadata": {
    "deletable": false,
    "editable": false,
    "nbgrader": {
     "cell_type": "code",
     "checksum": "6fb436fa42dd3014260f0ce7ae1ec6b0",
     "grade": true,
     "grade_id": "cell-76f3aed26f2385cc",
     "locked": true,
     "points": 10,
     "schema_version": 3,
     "solution": false,
     "task": false
    }
   },
   "outputs": [],
   "source": [
    "url = f'https://api.coingecko.com/api/v3/coins/\\\n",
    "{crypto}/market_chart/range?vs_currency={fiat}&from={initial_time}&to={final_time}'\n",
    "\n",
    "assert url=='https://api.coingecko.com/api/v3/coins/bitcoin/market_chart/range?vs_currency=usd&from=1514786400.0&to=1657519200.0'"
   ]
  },
  {
   "cell_type": "code",
   "execution_count": null,
   "metadata": {
    "deletable": false,
    "nbgrader": {
     "cell_type": "code",
     "checksum": "8386c7cff7fa52ff35f21a966fd54d64",
     "grade": false,
     "grade_id": "cell-76f3aed26f2385cd",
     "locked": false,
     "schema_version": 3,
     "solution": true,
     "task": false
    }
   },
   "outputs": [],
   "source": [
    "response = requests.get(url)\n",
    "result = np.array(response.json()['prices'])\n",
    "\n",
    "# Create a variable named moving_average_50 and assign the symmetric 50 point moving average.\n",
    "# Use the moving_average function developed before.\n",
    "# Notice that we are interested in the current values for the moving average, so it will be \n",
    "# a good idea to calculate the moving average by flipping our data. (Just don't for get to\n",
    "# return it to it's normal form when plotting)\n",
    "# YOUR CODE HERE\n",
    "raise NotImplementedError()\n",
    "\n",
    "# Create a variable named moving_average_100 and assign the symmetric 100 point moving average.\n",
    "# Use the moving_average function developed before.\n",
    "# Notice that we are interested in the current values for the moving average, so it will be \n",
    "# a good idea to calculate the moving average by flipping our data. (Just don't for get to\n",
    "# return it to it's normal form when plotting)\n",
    "# YOUR CODE HERE\n",
    "raise NotImplementedError()\n",
    "\n",
    "# Create a variable named moving_average_200 and assign the symmetric 200 point moving average.\n",
    "# Use the moving_average function developed before.\n",
    "# Notice that we are interested in the current values for the moving average, so it will be \n",
    "# a good idea to calculate the moving average by flipping our data. (Just don't for get to\n",
    "# return it to it's normal form when plotting)\n",
    "# YOUR CODE HERE\n",
    "raise NotImplementedError()"
   ]
  },
  {
   "cell_type": "code",
   "execution_count": null,
   "metadata": {
    "deletable": false,
    "editable": false,
    "nbgrader": {
     "cell_type": "code",
     "checksum": "f3718e59a1030a94c41f172f9c8b726c",
     "grade": true,
     "grade_id": "cell-79eb530555644799",
     "locked": true,
     "points": 10,
     "schema_version": 3,
     "solution": false,
     "task": false
    }
   },
   "outputs": [],
   "source": [
    "with open('moving_average_bitcoin.pkl', 'rb') as file:\n",
    "    moving_average_50_pkl, moving_average_100_pkl, moving_average_200_pkl = pickle.load(file)\n",
    "    \n",
    "    \n",
    "assert np.allclose(moving_average_50_pkl, moving_average_50, atol=0.10)\n",
    "assert np.allclose(moving_average_100_pkl, moving_average_100, atol=0.10)\n",
    "assert np.allclose(moving_average_200_pkl, moving_average_200, atol=0.10)\n",
    "\n",
    "\n",
    "plt.plot(result[:,1])\n",
    "plt.plot(np.flip(moving_average_50), label='50-day MA')\n",
    "plt.plot(np.flip(moving_average_100), label='100-day MA')\n",
    "plt.plot(np.flip(moving_average_200), label='200-day MA')\n",
    "plt.title(f'{crypto.capitalize()} price from {datetime.datetime.fromtimestamp(initial_time)} \\\n",
    "to {datetime.datetime.fromtimestamp(final_time)}')\n",
    "plt.legend()\n",
    "plt.grid(True)\n",
    "plt.show()"
   ]
  },
  {
   "cell_type": "markdown",
   "metadata": {
    "deletable": false,
    "editable": false,
    "nbgrader": {
     "cell_type": "markdown",
     "checksum": "91cc8366a37dabd958a0af2672c7ba4a",
     "grade": false,
     "grade_id": "cell-27648770e1a65166",
     "locked": true,
     "schema_version": 3,
     "solution": false,
     "task": false
    }
   },
   "source": [
    "#### Reference\n",
    "* http://www.dspguide.com/ch15.htm\n",
    "* https://www.bitcoinmarketjournal.com/moving-averages-bitcoin/"
   ]
  }
 ],
 "metadata": {
  "kernelspec": {
   "display_name": "Python 3 (ipykernel)",
   "language": "python",
   "name": "python3"
  },
  "language_info": {
   "codemirror_mode": {
    "name": "ipython",
    "version": 3
   },
   "file_extension": ".py",
   "mimetype": "text/x-python",
   "name": "python",
   "nbconvert_exporter": "python",
   "pygments_lexer": "ipython3",
   "version": "3.10.4"
  }
 },
 "nbformat": 4,
 "nbformat_minor": 2
}
