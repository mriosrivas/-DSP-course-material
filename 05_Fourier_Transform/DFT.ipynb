{
 "cells": [
  {
   "cell_type": "markdown",
   "metadata": {
    "deletable": false,
    "editable": false,
    "nbgrader": {
     "cell_type": "markdown",
     "checksum": "f6f9dc99a099cecca7fcda4d82532550",
     "grade": false,
     "grade_id": "cell-3ca348d6a711ee7c",
     "locked": true,
     "schema_version": 3,
     "solution": false,
     "task": false
    }
   },
   "source": [
    "# Discrete Fourier Transform\n",
    "Fourier analysis is a family of mathematical techniques, all based on decomposing signals into sinusoids. The Discrete Fourier Transform (DFT) is the family member used with digitized signals. In this notebook we focus on the real DFT, a version of the discrete Fourier transform that uses real numbers to represent the input and output signals. \n",
    "\n",
    "The Discrete Fourier Transform, DFT, changes an N point input signal into two point output signals. The input signal contains the signal being decomposed, while the two output signals contain the amplitudes of the component sine and cosine waves. The input signal is said to be in the time domain and the output signal in the frequency domain.\n",
    "\n",
    "The frequency domain contains exactly the same information as the time domain, just in a different form. If you know one domain, you can calculate the other. Given the time domain signal, the process of calculating the frequency domain is called **decomposition**, **analysis**, the **forward DFT**, or simply, the **DFT**. If you know the frequency domain, calculation of the time domain is called **synthesis**, or the **inverse DFT**. \n",
    "\n",
    "The number of samples in the time domain is usually represented by the variable $N$. While $N$ can be any positive integer, a power of two is usually chosen, i.e., 128, 256, 512, 1024, etc. There are two reasons for this. First, digital data storage uses binary addressing, making powers of two a natural signal length. Second, the most efficient algorithm for calculating the DFT, the Fast Fourier Transform (FFT), usually operates with $N$ that is a power of two. Typically, $N$ is selected between 32 and 4096. In most cases, the samples run from $0$ to $N-1$, rather than $1$ to $N$. \n",
    "\n",
    "Time domain signals usually uses lower cases notation and frequency domain signals uses upper case notation, therefore a signal $x[n]$ said to be in the time domain and $X[n]$ is in the frequency domain. The frequency domain signal $X[n]$ consists of two parts, each of $N/2 +1$ samples. These are called the **Real** part of $X[ ]$ , written as: $\\mathbf{Re}X[n]$, and the **Imaginary** part of $X[ ]$, written as: $\\mathbf{Im}X[ ]$. The values in $\\mathbf{Re}X[ ]$ are the amplitudes of the cosine waves, while the values in $\\mathbf{Im}X[ ]$ are the amplitudes of the sine waves. Just as the time domain runs from $x[n]$ to $x[N-1]$, the frequency domain signals run from $\\mathbf{Re}X[0]$ to $\\mathbf{Re}X[N/2]$, and from $\\mathbf{Im}X[0]$ to $\\mathbf{Im}X[N/2]$."
   ]
  },
  {
   "cell_type": "markdown",
   "metadata": {
    "deletable": false,
    "editable": false,
    "nbgrader": {
     "cell_type": "markdown",
     "checksum": "3e656a5fb6aad09c006fdec36c2bdbde",
     "grade": false,
     "grade_id": "cell-d3043d27884f9f77",
     "locked": true,
     "schema_version": 3,
     "solution": false,
     "task": false
    }
   },
   "source": [
    "## Calculating the DFT\n",
    "The analysis equation for calculating the DFT can be performed as follows\n",
    "\n",
    "$$\\mathbf{Re}X[k] = \\sum^{N-1}_{i=0}x[i]\\cos{(2\\pi ki/N)}$$\n",
    "$$\\mathbf{Im}X[k] = -\\sum^{N-1}_{i=0}x[i]\\sin{(2\\pi ki/N)}$$\n",
    "\n",
    "In these equations, $x[i]$ is the time domain signal being analyzed, and $\\mathbf{Re}X[k]$ and $\\mathbf{Im}X[k]$ are the frequency domain signals being calculated. The index $i$ runs from $0$ to $N-1$, while the index $k$ runs from $0$ to $N/2$."
   ]
  },
  {
   "cell_type": "code",
   "execution_count": null,
   "metadata": {
    "deletable": false,
    "editable": false,
    "nbgrader": {
     "cell_type": "code",
     "checksum": "14ecf0f11ccd07fec7f65efda3a01c1f",
     "grade": false,
     "grade_id": "cell-2eec47d4dbc86389",
     "locked": true,
     "schema_version": 3,
     "solution": false,
     "task": false
    }
   },
   "outputs": [],
   "source": [
    "import numpy as np\n",
    "import matplotlib.pyplot as plt\n",
    "import pickle"
   ]
  },
  {
   "cell_type": "code",
   "execution_count": null,
   "metadata": {
    "deletable": false,
    "editable": false,
    "nbgrader": {
     "cell_type": "code",
     "checksum": "642c37c3bebd530fea13f6c67cdd705b",
     "grade": false,
     "grade_id": "cell-729e4d2138cd5f85",
     "locked": true,
     "schema_version": 3,
     "solution": false,
     "task": false
    }
   },
   "outputs": [],
   "source": [
    "plt.rcParams['figure.figsize'] = (10,5)\n",
    "\n",
    "file = {'x':'Signals/InputSignal_f32_1kHz_15kHz.dat'}\n",
    "\n",
    "x = np.loadtxt(file['x'])\n",
    "N,M = x.shape\n",
    "x = x.reshape(N*M, 1)\n",
    "\n",
    "plt.plot(x)\n",
    "plt.xlabel('samples')\n",
    "plt.ylabel('amplitude')\n",
    "plt.title('Time domain signal')\n",
    "plt.grid('on')\n",
    "plt.show()"
   ]
  },
  {
   "cell_type": "markdown",
   "metadata": {
    "deletable": false,
    "editable": false,
    "nbgrader": {
     "cell_type": "markdown",
     "checksum": "7bfd738071c062061be390ba465605a2",
     "grade": false,
     "grade_id": "cell-00b810ba0af7c3a4",
     "locked": true,
     "schema_version": 3,
     "solution": false,
     "task": false
    }
   },
   "source": [
    "###  Function implementation of the DFT \n",
    "Implement the DFT algorithm using the analysis equation described before."
   ]
  },
  {
   "cell_type": "code",
   "execution_count": null,
   "metadata": {
    "deletable": false,
    "nbgrader": {
     "cell_type": "code",
     "checksum": "2c8fc0a72206272bf5efde21983f5af4",
     "grade": false,
     "grade_id": "cell-c093677b6f0579c9",
     "locked": false,
     "schema_version": 3,
     "solution": true,
     "task": false
    }
   },
   "outputs": [],
   "source": [
    "def dft(x):\n",
    "    \"\"\" \n",
    "    Function that calculates the DFT of an input signal x.\n",
    "  \n",
    "    Parameters: \n",
    "    x (numpy array): Array of numbers representing the input signal to be transformed.\n",
    "  \n",
    "    Returns: \n",
    "    rex (numpy array): Real DFT part of input signal x\n",
    "    imx (numpy array): Imaginary DFT part of input signal x\n",
    "  \n",
    "    \"\"\"\n",
    "    \n",
    "    N = len(x)\n",
    "    M = int(N/2) + 1\n",
    "    rex = np.zeros((M,1))\n",
    "    imx = np.zeros((M,1))\n",
    "    \n",
    "    # YOUR CODE HERE\n",
    "    raise NotImplementedError()\n",
    "    \n",
    "    return rex, imx    "
   ]
  },
  {
   "cell_type": "code",
   "execution_count": null,
   "metadata": {
    "deletable": false,
    "editable": false,
    "nbgrader": {
     "cell_type": "code",
     "checksum": "7651baf29e39022b19290cb4794e33a1",
     "grade": true,
     "grade_id": "cell-53c6cd5f2d98d617",
     "locked": true,
     "points": 10,
     "schema_version": 3,
     "solution": false,
     "task": false
    }
   },
   "outputs": [],
   "source": [
    "rex, imx = dft(x)\n",
    "\n",
    "re_fft, imag_fft = np.real(np.fft.fft2(x)), np.imag(np.fft.fft2(x))\n",
    "\n",
    "\n",
    "plt.subplot(1,2,1)\n",
    "plt.plot(rex, label='deployed')\n",
    "plt.plot(re_fft[:int(len(re_fft)/2)+1], label='reference')\n",
    "plt.title('Real Part')\n",
    "plt.xlabel('samples')\n",
    "plt.ylabel('amplitude')\n",
    "plt.grid('on')\n",
    "plt.legend()\n",
    "\n",
    "plt.subplot(1,2,2)\n",
    "plt.plot(imx, label='deployed')\n",
    "plt.plot(imag_fft[:int(len(re_fft)/2)+1], label='reference')\n",
    "plt.title('Imaginary Part')\n",
    "plt.xlabel('samples')\n",
    "plt.ylabel('amplitude')\n",
    "plt.grid('on')\n",
    "plt.legend()\n",
    "\n",
    "plt.show()\n",
    "\n",
    "\n",
    "\n",
    "assert np.isclose(rex, re_fft[:int(len(re_fft)/2)+1]).all()"
   ]
  },
  {
   "cell_type": "markdown",
   "metadata": {
    "deletable": false,
    "editable": false,
    "nbgrader": {
     "cell_type": "markdown",
     "checksum": "3c912b7947b9d2396d08eb9b220d4e89",
     "grade": false,
     "grade_id": "cell-b6ae83c21ffbaeb9",
     "locked": true,
     "schema_version": 3,
     "solution": false,
     "task": false
    }
   },
   "source": [
    "### Polar Notation\n",
    "\n",
    "As it has been described so far, the frequency domain is a group of amplitudes of cosine and sine waves (with slight scaling modifications). This is called rectangular notation. Alternatively, the frequency domain can be expressed in polar form. In this notation, $\\mathbf{Re}X[]$ & $\\mathbf{Im}X[]$ are replaced with two other arrays, called the Magnitude of $X[ ]$ , written in equations as: $\\mathbf{Mag} X[ ]$, and the Phase of $X[ ]$, written as: $\\mathbf{Phase} X[ ]$.\n",
    "\n",
    "The following equations show how to convert from rectangular to polar notation:\n",
    "\n",
    "$$\\mathbf{Mag}X[k] = \\left( \\mathbf{Re}X[k]^2 + \\mathbf{Im}X[k]^2 \\right)^{1/2}$$\n",
    "\n",
    "$$\\mathbf{Phase}X[k] = \\arctan\\frac{\\mathbf{Im}X[k]}{\\mathbf{Re}X[k]}$$\n",
    "\n",
    "\n",
    "The following equations show how to convert from polar to rectangular notation:\n",
    "\n",
    "$$\\mathbf{Re}X[k] = \\mathbf{Mag}X[k]\\cos{(\\mathbf{Phase}X[k])}$$\n",
    "\n",
    "$$\\mathbf{Im}X[k] = \\mathbf{Mag}X[k]\\sin{(\\mathbf{Phase}X[k])}$$"
   ]
  },
  {
   "cell_type": "markdown",
   "metadata": {
    "deletable": false,
    "editable": false,
    "nbgrader": {
     "cell_type": "markdown",
     "checksum": "71f27b44e2f7b86054418fe9d85c255f",
     "grade": false,
     "grade_id": "cell-3ee28ee17183dbd3",
     "locked": true,
     "schema_version": 3,
     "solution": false,
     "task": false
    }
   },
   "source": [
    "###  Function implementation of polar notation\n",
    "Implement the polar notation for the DFT algorithm using the equations for $\\mathbf{Mag}X[k]$ and $\\mathbf{Phase}X[k]$."
   ]
  },
  {
   "cell_type": "code",
   "execution_count": null,
   "metadata": {
    "deletable": false,
    "nbgrader": {
     "cell_type": "code",
     "checksum": "4cd7ceb63c6c456ac13651454ac84399",
     "grade": false,
     "grade_id": "cell-09ee9b4768012478",
     "locked": false,
     "schema_version": 3,
     "solution": true,
     "task": false
    }
   },
   "outputs": [],
   "source": [
    "def dft_magnitude(rex, imx):\n",
    "    \"\"\" \n",
    "    Function that calculates the magnitude of an real and imaginary signal x.\n",
    "  \n",
    "    Parameters: \n",
    "    rex (numpy array): Array of numbers representing the real part of the DFT signal.\n",
    "    imx (numpy array): Array of numbers representing the imaginary part of the DFT signal.\n",
    "  \n",
    "    Returns: \n",
    "    numpy array: Returns magnitude of the real and imaginary signal.\n",
    "  \n",
    "    \"\"\"\n",
    "    # YOUR CODE HERE\n",
    "    raise NotImplementedError()\n",
    "        \n",
    "    \n",
    "def dft_phase(rex, imx):\n",
    "    \"\"\" \n",
    "    Function that calculates the phase of an real and imaginary signal x.\n",
    "  \n",
    "    Parameters: \n",
    "    rex (numpy array): Array of numbers representing the real part of the DFT signal.\n",
    "    imx (numpy array): Array of numbers representing the imaginary part of the DFT signal.\n",
    "  \n",
    "    Returns: \n",
    "    numpy array: Returns phase of the real and imaginary signal.\n",
    "  \n",
    "    \"\"\"\n",
    "    # YOUR CODE HERE\n",
    "    raise NotImplementedError()"
   ]
  },
  {
   "cell_type": "code",
   "execution_count": null,
   "metadata": {
    "deletable": false,
    "editable": false,
    "nbgrader": {
     "cell_type": "code",
     "checksum": "34ea3d9423905272a5349a8f4bbc5634",
     "grade": true,
     "grade_id": "cell-94db53bda8f75b90",
     "locked": true,
     "points": 10,
     "schema_version": 3,
     "solution": false,
     "task": false
    }
   },
   "outputs": [],
   "source": [
    "magx = dft_magnitude(rex, imx)\n",
    "phasex = dft_phase(rex, imx)\n",
    "\n",
    "mag_fft = np.abs(np.fft.fft2(x))\n",
    "phase_fft = np.arctan(np.imag(np.fft.fft2(x))/np.real(np.fft.fft2(x)))\n",
    "M = int(len(mag_fft)/2)+1\n",
    "\n",
    "plt.subplot(1,2,1)\n",
    "plt.plot(magx, label='deployed')\n",
    "plt.plot(magx[:M], label='reference')\n",
    "plt.title('Magnitude Response')\n",
    "plt.xlabel('samples')\n",
    "plt.ylabel('amplitude')\n",
    "plt.grid('on')\n",
    "plt.legend()\n",
    "\n",
    "plt.subplot(1,2,2)\n",
    "plt.plot(phasex, label='deployed')\n",
    "plt.plot(phase_fft[:M], label='reference')\n",
    "plt.title('Phase Response')\n",
    "plt.xlabel('samples')\n",
    "plt.ylabel('rads')\n",
    "plt.grid('on')\n",
    "plt.legend()\n",
    "\n",
    "plt.show()\n",
    "\n",
    "\n",
    "assert np.isclose(magx, mag_fft[:M]).all()\n",
    "\n",
    "assert np.isclose(phasex, phase_fft[:M]).all()"
   ]
  },
  {
   "cell_type": "markdown",
   "metadata": {
    "deletable": false,
    "editable": false,
    "nbgrader": {
     "cell_type": "markdown",
     "checksum": "4d3a1615d42365f3931fb1d293d803d9",
     "grade": false,
     "grade_id": "cell-0ae002b23a0ece1a",
     "locked": true,
     "schema_version": 3,
     "solution": false,
     "task": false
    }
   },
   "source": [
    "### Polar Drawbacks\n",
    "\n",
    "#### 1: Radians vs. Degrees\n",
    "It is possible to express the phase in either degrees or radians. When expressed in degrees, the values in the phase signal are between -180 and 180. Using radians, each of the values will be between $-\\pi$ and $\\pi$.\n",
    "\n",
    "#### 2: Divide by zero error\n",
    "When converting from rectangular to polar notation, it is very common to find frequencies where the real part is zero and the imaginary part is some nonzero value. This simply means that the phase is exactly 90 or -90 degrees. To avoid this problem, the real part must be tested for being zero before the division. If it is zero, the imaginary part must be tested for being positive or negative, to determine whether to set the phase to $\\pi /2$ or $-\\pi /2$, respectively. Lastly, the division just needs to be bypassed.\n",
    "\n",
    "#### 3: Incorrect arctan\n",
    "This error occurs whenever the real part is negative. This problem can be corrected by testing the real and imaginary parts after the phase has been calculated. If both the real and imaginary parts are negative, subtract 180 (or $\\pi$ radians) from the calculated phase. If the real part is negative and the imaginary part is positive, add 180 (or $\\pi$ radians).\n",
    "\n",
    "#### 4: Phase of very small magnitudes\n",
    "If the magnitude is negligibly small, the phase doesn't have any meaning, and can assume unusual values.\n",
    "![Phase of a small magnitude signal](Images/nuisance4.gif)\n",
    "\n",
    "#### 5: $2\\pi$ ambiguity of the phase\n",
    "Every time a point looks as if it is going to dip below $-\\pi$, it snaps back to $\\pi$. This is a result of the periodic nature of sinusoids. For example, a phase shift of $\\theta$, is exactly the same as a phase shift of $\\theta + 2\\pi$, $\\theta + 4\\pi$, $\\theta + 6\\pi$, etc. Any sinusoid is unchanged when you add an integer multiple of $2\\pi$ to the phase. The apparent discontinuities in the signal are a result of the computer algorithm picking its favorite choice from an infinite number of equivalent possibilities. The smallest possible value is always chosen, keeping the phase between $-\\pi$ and $\\pi$. Sometimes is good to solve this issue by implementing a technique called **unwrapping the phase** which extends the phase above $\\pi$ or below $-\\pi$. The idea behind this algorithm is as follows: a multiple of $2\\pi$ is added or subtracted from each value of the phase based on a minimization of the difference between adjacent samples.\n",
    "\n",
    "#### 6: The magnitude is always positive ($\\pi$ ambiguity of the phase)\n",
    "The following figure shows a frequency domain signal in rectangular and polar form. The real part is smooth and quite easy to understand, while the imaginary part is entirely zero. In comparison, the polar signals contain abrupt discontinuities and sharp corners. This is because the magnitude must always be positive, by *definition*. Whenever the real part dips below zero, the magnitude remains positive by changing the phase by $\\pi$ (or $-\\pi$, which is the same thing).\n",
    "\n",
    "![Rectangular and polar form of a signal](Images/nuisance6.gif)\n",
    "\n",
    "One solution is to allow the magnitude to have negative values while the phase would be entirely zero. We will use the term **unwrapped magnitude** to indicate a \"magnitude\" that is allowed to have negative values. \n",
    "\n",
    "#### 7: Spikes between $\\pi$ and $-\\pi$\n",
    "Since $\\pi$ and $-\\pi$ represent exactly the same phase shift, round-off noise can cause adjacent points in the phase to rapidly switch between the two values. As shown in the previous figure (d), this can produce sharp breaks and spikes in an otherwise smooth curve. Don't be fooled, the phase isn't really this discontinuous."
   ]
  },
  {
   "cell_type": "markdown",
   "metadata": {
    "deletable": false,
    "editable": false,
    "nbgrader": {
     "cell_type": "markdown",
     "checksum": "7eeeeb134c3b0b0c4610547517683dc2",
     "grade": false,
     "grade_id": "cell-bc9987222ac4252e",
     "locked": true,
     "schema_version": 3,
     "solution": false,
     "task": false
    }
   },
   "source": [
    "###  Correcting polar drawbacks\n",
    "Now that you have seen the different drawbacks that might occur during the polar implementation of the DFT, it is your time to implement some auxiliary functions to solve these issues.  \n",
    "\n",
    "First you will implement the function `arctan_correct` which fixes the drawback number 3."
   ]
  },
  {
   "cell_type": "code",
   "execution_count": null,
   "metadata": {
    "deletable": false,
    "nbgrader": {
     "cell_type": "code",
     "checksum": "e08051cf89ffdcff59f23ba8f12151d4",
     "grade": false,
     "grade_id": "cell-a385860083b2117f",
     "locked": false,
     "schema_version": 3,
     "solution": true,
     "task": false
    }
   },
   "outputs": [],
   "source": [
    "def arctan_correct(rex, imx, phase):\n",
    "    \"\"\" \n",
    "    Function that corrects the arctan calculation. If both the real and \n",
    "    imaginary parts are negative, subtract 180 (or 𝜋 radians) from the\n",
    "    calculated phase. If the real part is negative and the imaginary part\n",
    "    is positive, add 180 (or 𝜋 radians)\n",
    "  \n",
    "    Parameters: \n",
    "    rex (numpy array): Array of numbers representing the real part of the DFT signal.\n",
    "    imx (numpy array): Array of numbers representing the imaginary part of the DFT signal.\n",
    "    phase (numpy array): Array of numbers representing the phase of the DFT signal.\n",
    "  \n",
    "    Returns: \n",
    "    numpy array: Returns corrected arctan calculation of phase.\n",
    "  \n",
    "    \"\"\"\n",
    "    \n",
    "    N = rex.shape[0]\n",
    "    output = np.copy(phase)\n",
    "    \n",
    "    # YOUR CODE HERE\n",
    "    raise NotImplementedError()\n",
    "    return output"
   ]
  },
  {
   "cell_type": "markdown",
   "metadata": {
    "deletable": false,
    "editable": false,
    "nbgrader": {
     "cell_type": "markdown",
     "checksum": "d517ef224f12e8a8899f846d434752f9",
     "grade": false,
     "grade_id": "cell-21561044c2834f76",
     "locked": true,
     "schema_version": 3,
     "solution": false,
     "task": false
    }
   },
   "source": [
    "Here you can test your `arctan_correct` function implementation, don't worry about the division by zero warning, you will fix this soon. Try to understand what is happening."
   ]
  },
  {
   "cell_type": "code",
   "execution_count": null,
   "metadata": {
    "deletable": false,
    "editable": false,
    "nbgrader": {
     "cell_type": "code",
     "checksum": "bc4d009604e51b1ac6c8b175022780aa",
     "grade": true,
     "grade_id": "cell-a5f24a564056f1c8",
     "locked": true,
     "points": 20,
     "schema_version": 3,
     "solution": false,
     "task": false
    }
   },
   "outputs": [],
   "source": [
    "rex, imx = dft(x)\n",
    "output = arctan_correct(rex, imx, np.arctan(imx/rex))\n",
    "\n",
    "angle = np.angle(np.fft.fft2(x))\n",
    "M = int(len(angle)/2)+1\n",
    "\n",
    "plt.plot(output, label='Corrected Arctan');\n",
    "plt.plot(dft_phase(rex, imx), label='Non Corrected Arctan');\n",
    "plt.plot(angle[:M], label='Expected Output')\n",
    "plt.title('Phase')\n",
    "\n",
    "plt.xlabel('samples')\n",
    "plt.ylabel('rads')\n",
    "\n",
    "plt.grid()\n",
    "plt.legend()\n",
    "plt.show()\n",
    "\n",
    "assert np.isclose(output, angle[:M]).all()"
   ]
  },
  {
   "cell_type": "markdown",
   "metadata": {
    "deletable": false,
    "editable": false,
    "nbgrader": {
     "cell_type": "markdown",
     "checksum": "ceb8b2ff1d6cf837622111761d0213a4",
     "grade": false,
     "grade_id": "cell-95d0ac7c034ac60f",
     "locked": true,
     "schema_version": 3,
     "solution": false,
     "task": false
    }
   },
   "source": [
    "Now you will develop the `unwrap` function which solves drawback number 5."
   ]
  },
  {
   "cell_type": "code",
   "execution_count": null,
   "metadata": {
    "deletable": false,
    "nbgrader": {
     "cell_type": "code",
     "checksum": "171b260c866c1857416964d41712b21b",
     "grade": false,
     "grade_id": "cell-70be51a71b3d757a",
     "locked": false,
     "schema_version": 3,
     "solution": true,
     "task": false
    }
   },
   "outputs": [],
   "source": [
    "def unwrap(phase):\n",
    "    \"\"\" \n",
    "    Function that ensures that all appropriate multiples of 2𝜋 have been included.\n",
    "  \n",
    "    Parameters: \n",
    "    phase (numpy array): Array of numbers representing the phase of the DFT signal.\n",
    "  \n",
    "    Returns: \n",
    "    numpy array: Returns unwrapped phase.\n",
    "  \n",
    "    \"\"\"\n",
    "    \n",
    "    N = phase.shape[0]\n",
    "    uwphase = np.zeros(phase.shape)\n",
    "    \n",
    "    # YOUR CODE HERE\n",
    "    raise NotImplementedError()\n",
    "    return uwphase"
   ]
  },
  {
   "cell_type": "markdown",
   "metadata": {
    "deletable": false,
    "editable": false,
    "nbgrader": {
     "cell_type": "markdown",
     "checksum": "473721898495d3fcdda91bb7e060a663",
     "grade": false,
     "grade_id": "cell-7239fa422694167d",
     "locked": true,
     "schema_version": 3,
     "solution": false,
     "task": false
    }
   },
   "source": [
    "Here you can test your `unwrap` function implementation. Can you understand what is happening now?"
   ]
  },
  {
   "cell_type": "code",
   "execution_count": null,
   "metadata": {
    "deletable": false,
    "editable": false,
    "nbgrader": {
     "cell_type": "code",
     "checksum": "1fd13615230800d0b0038c80bd003c2e",
     "grade": true,
     "grade_id": "cell-4bfb4e554bd3759b",
     "locked": true,
     "points": 20,
     "schema_version": 3,
     "solution": false,
     "task": false
    }
   },
   "outputs": [],
   "source": [
    "file = {'h':'Signals/filter_response.dat'}\n",
    "\n",
    "h = np.loadtxt(file['h'])\n",
    "\n",
    "N = h.shape[0]\n",
    "h = h.reshape(N, 1)\n",
    "\n",
    "h_unwrapped = unwrap(h)\n",
    "h_numpy_unwrapped = np.unwrap(h, axis=0)\n",
    "\n",
    "plt.plot(h, label='Wrapped')\n",
    "plt.plot(h_unwrapped, label='Unwrapped')\n",
    "plt.plot(h_numpy_unwrapped, label='Expected')\n",
    "plt.title('Phase')\n",
    "plt.xlabel('samples')\n",
    "plt.ylabel('rads')\n",
    "\n",
    "plt.grid()\n",
    "plt.legend()\n",
    "plt.plot()\n",
    "\n",
    "assert np.isclose(h_unwrapped, h_numpy_unwrapped).all()"
   ]
  },
  {
   "cell_type": "markdown",
   "metadata": {
    "deletable": false,
    "editable": false,
    "nbgrader": {
     "cell_type": "markdown",
     "checksum": "0dc94fb448bda9580eba47b914733d90",
     "grade": false,
     "grade_id": "cell-6891f74279396460",
     "locked": true,
     "schema_version": 3,
     "solution": false,
     "task": false
    }
   },
   "source": [
    "Lastly you will again implement your `dft_phase` function, but now you will have to take into account the following drawbacks: \n",
    "* division by zero\n",
    "* incorrect arctan calculation \n",
    "* phase ambiguity"
   ]
  },
  {
   "cell_type": "code",
   "execution_count": null,
   "metadata": {
    "deletable": false,
    "nbgrader": {
     "cell_type": "code",
     "checksum": "c74165c4aa2bc935474370f596c9b4f6",
     "grade": false,
     "grade_id": "cell-13ca653743d9b0f6",
     "locked": false,
     "schema_version": 3,
     "solution": true,
     "task": false
    }
   },
   "outputs": [],
   "source": [
    "def dft_phase(rex, imx, correct_arctan=True, correct_unwrap=True):\n",
    "    \"\"\" \n",
    "    Function that calculates the phase of an real and imaginary signal x. \n",
    "    Solving the different drawbacks that might occur.\n",
    "  \n",
    "    Parameters: \n",
    "    rex (numpy array): Array of numbers representing the real part of the DFT signal.\n",
    "    imx (numpy array): Array of numbers representing the imaginary part of the DFT signal.\n",
    "    correct_arctan (boolean): If True arctan correction is performed.\n",
    "    correct_unwrap (boolean): If True phase abiguity correction is performed.\n",
    "  \n",
    "    Returns: \n",
    "    numpy array: Returns phase of the real and imaginary signal.\n",
    "  \n",
    "    \"\"\"\n",
    "    N = rex.shape[0]\n",
    "    \n",
    "    #SOLVE Drawback 2: Divide by zero error\n",
    "    # YOUR CODE HERE\n",
    "    raise NotImplementedError()\n",
    "    \n",
    "    #SOLVE Drawback 3: Incorrect arctan\n",
    "    # YOUR CODE HERE\n",
    "    raise NotImplementedError()\n",
    "                    \n",
    "    #SOLVE Drawback 5: 2𝜋 ambiguity of the phase \n",
    "    # YOUR CODE HERE\n",
    "    raise NotImplementedError()\n",
    "    \n",
    "    return uwphase"
   ]
  },
  {
   "cell_type": "markdown",
   "metadata": {
    "deletable": false,
    "editable": false,
    "nbgrader": {
     "cell_type": "markdown",
     "checksum": "12a6f5cc8c3cc22b4b32d20131cb762e",
     "grade": false,
     "grade_id": "cell-b6f2850b58067d21",
     "locked": true,
     "schema_version": 3,
     "solution": false,
     "task": false
    }
   },
   "source": [
    "Finally you will test your `dft_phase` implementation and plot it's results."
   ]
  },
  {
   "cell_type": "code",
   "execution_count": null,
   "metadata": {
    "deletable": false,
    "editable": false,
    "nbgrader": {
     "cell_type": "code",
     "checksum": "86d6cdff63818ada3e582950389b2c12",
     "grade": true,
     "grade_id": "cell-6a6bfd691722d35c",
     "locked": true,
     "points": 30,
     "schema_version": 3,
     "solution": false,
     "task": false
    }
   },
   "outputs": [],
   "source": [
    "magx = dft_magnitude(rex, imx)\n",
    "phasex = dft_phase(rex, imx, correct_arctan=True, correct_unwrap=True)\n",
    "\n",
    "magx_numpy = np.absolute(np.fft.fft2(x))\n",
    "phasex_numpy = np.angle(np.fft.fft2(x))\n",
    "\n",
    "M = int(len(magx_numpy)/2)+1\n",
    "\n",
    "plt.subplot(1,2,1)\n",
    "plt.plot(magx, label='Magnitude Implemented')\n",
    "plt.plot(magx_numpy[:M], label='Numpy Implementation')\n",
    "plt.title('Magnitude')\n",
    "plt.xlabel('samples')\n",
    "plt.ylabel('amplitude')\n",
    "plt.legend()\n",
    "plt.grid()\n",
    "\n",
    "plt.subplot(1,2,2)\n",
    "plt.plot(phasex, label='Correctd Phase')\n",
    "plt.plot(phasex_numpy[:M], label='Numpy Implementation')\n",
    "plt.title('Phase')\n",
    "plt.xlabel('samples')\n",
    "plt.ylabel('rads')\n",
    "plt.grid()\n",
    "\n",
    "\n",
    "plt.show()\n",
    "\n",
    "assert np.isclose(magx, magx_numpy[:M]).all()\n",
    "assert np.isclose(phasex, phasex_numpy[:M]).all()"
   ]
  },
  {
   "cell_type": "markdown",
   "metadata": {
    "deletable": false,
    "editable": false,
    "nbgrader": {
     "cell_type": "markdown",
     "checksum": "5d8fe4ae32fc0b2fa9d6ebf9faa777b2",
     "grade": false,
     "grade_id": "cell-d62b7743e89035a4",
     "locked": true,
     "schema_version": 3,
     "solution": false,
     "task": false
    }
   },
   "source": [
    "### Comparison of our results with Scipy\n",
    "In this part we will compare our previous results with the Fourier Transform implementation of SciPy. SciPy provides many user-friendly and efficient numerical routines, such as routines for numerical integration, interpolation, optimization, linear algebra, and statistics."
   ]
  },
  {
   "cell_type": "code",
   "execution_count": null,
   "metadata": {
    "deletable": false,
    "editable": false,
    "nbgrader": {
     "cell_type": "code",
     "checksum": "b451b0114aabe62e4c1ee3cc31914c3b",
     "grade": false,
     "grade_id": "cell-4045aeda17626ef5",
     "locked": true,
     "schema_version": 3,
     "solution": false,
     "task": false
    }
   },
   "outputs": [],
   "source": [
    "from scipy.fftpack import fft\n",
    "\n",
    "#SciPy Calculations\n",
    "y =fft(x.flatten())\n",
    "mag = np.absolute(y)\n",
    "phase = np.arctan2(np.imag(y),np.real(y)) #We use -imag to be consisten with our definition\n",
    "\n",
    "#Our Implementation\n",
    "rex, imx = dft(x)\n",
    "magx = dft_magnitude(rex, imx)\n",
    "phasex = dft_phase(rex, imx)\n",
    "\n",
    "plt.subplot(1,2,1)\n",
    "plt.plot(mag[0:160], '.-', color = 'orange', label='SciPy Implementation');\n",
    "plt.plot(magx, label='Our Implementation')\n",
    "plt.xlabel('samples')\n",
    "plt.ylabel('amplitude')\n",
    "plt.grid()\n",
    "plt.legend()\n",
    "\n",
    "plt.subplot(1,2,2)\n",
    "plt.plot(phase[0:160], '.-', color = 'orange', label='SciPy Implementation');\n",
    "plt.plot(phasex, label='Our Implementation')\n",
    "plt.xlabel('samples')\n",
    "plt.ylabel('rads')\n",
    "plt.grid()\n",
    "plt.legend()\n",
    "\n",
    "plt.show()"
   ]
  },
  {
   "cell_type": "markdown",
   "metadata": {
    "deletable": false,
    "editable": false,
    "nbgrader": {
     "cell_type": "markdown",
     "checksum": "9de847c7613f7560b2d9499f8bf1c632",
     "grade": false,
     "grade_id": "cell-9fb7e9f041121ca8",
     "locked": true,
     "schema_version": 3,
     "solution": false,
     "task": false
    }
   },
   "source": [
    "### The Frequency Domain's Independent Variable\n",
    "The horizontal axis of the frequency domain can be referred to in four different ways, all of which are common in DSP. We can label our horizontal axis as follows:\n",
    "1. The number of samples from $0$ to $N/2$\n",
    "2. A fraction of the sampling rate between $0$ to $0.5$\n",
    "3. The natural frequency $\\omega$\n",
    "4. The analog frequencies used in a particular application\n",
    "\n",
    "In this part you will develop a function called `frequency_domain` which takes as input a signal in the Fourier domain and returns one of the four frecuency domains described earlier."
   ]
  },
  {
   "cell_type": "code",
   "execution_count": null,
   "metadata": {
    "deletable": false,
    "nbgrader": {
     "cell_type": "code",
     "checksum": "d529e33011e75bfd195f6a195f17ba1b",
     "grade": false,
     "grade_id": "cell-5645d2c64055a67e",
     "locked": false,
     "schema_version": 3,
     "solution": true,
     "task": false
    }
   },
   "outputs": [],
   "source": [
    "def frequency_domain(x, style='fraction', **kwargs):\n",
    "    \"\"\" \n",
    "    Function that calculates the frequency domain independent variable.\n",
    "\n",
    "    Parameters: \n",
    "    x (numpy array): Array of numbers representing the input signal inthe Fourier domain\n",
    "    to  obtain the frequency independent variable.\n",
    "    style (string): String value that selects between frequency domain's \n",
    "    independent variable.\n",
    "        'samples' returns number of samples between 0 to N/2\n",
    "        'fraction' returns a fraction of the sampling rate between 0 to 0.5\n",
    "        'natural' returns the natural frequency between 0 and pi.\n",
    "        'analog' returns analog frequency between 0 and fsamp/2\n",
    "    fsamp (float): Float value representing the sampling frequency. \n",
    "        (Only used for 'analog' style).\n",
    "\n",
    "    Returns: \n",
    "    numpy array: Returns frequency domain's independent variable.\n",
    "\n",
    "        \"\"\"\n",
    "    N = x.shape[0]\n",
    "    t = np.arange(N)\n",
    "    \n",
    "    # YOUR CODE HERE\n",
    "    raise NotImplementedError()"
   ]
  },
  {
   "cell_type": "code",
   "execution_count": null,
   "metadata": {
    "deletable": false,
    "editable": false,
    "nbgrader": {
     "cell_type": "code",
     "checksum": "0dbd1bbc0f10eba14808afe4d83c944a",
     "grade": true,
     "grade_id": "cell-1479118e32281f51",
     "locked": true,
     "points": 10,
     "schema_version": 3,
     "solution": false,
     "task": false
    }
   },
   "outputs": [],
   "source": [
    "fraction_domain = frequency_domain(magx, style='fraction')\n",
    "natural_domain = frequency_domain(magx, style='natural')\n",
    "analog_domain = frequency_domain(magx, style='analog', fsamp=44000)\n",
    "\n",
    "plt.suptitle(\"DFT Magnitude\", fontsize=14)\n",
    "plt.subplot(2,2,1)\n",
    "plt.plot(magx)\n",
    "plt.xlabel('Sample Domain')\n",
    "plt.ylabel('Amplitude')\n",
    "plt.grid()\n",
    "\n",
    "plt.subplot(2,2,2)\n",
    "plt.plot(fraction_domain, magx)\n",
    "plt.xlabel('Fraction Domain')\n",
    "plt.ylabel('Amplitude')\n",
    "plt.grid()\n",
    "\n",
    "plt.subplot(2,2,3)\n",
    "plt.plot(natural_domain, magx)\n",
    "plt.xlabel('Natural Domain')\n",
    "plt.ylabel('Amplitude')\n",
    "plt.grid()\n",
    "\n",
    "plt.subplot(2,2,4)\n",
    "plt.plot(analog_domain, magx)\n",
    "plt.xlabel('Analog Domain')\n",
    "plt.ylabel('Amplitude')\n",
    "plt.grid()\n",
    "plt.subplots_adjust(hspace = 0.5)\n",
    "plt.show()\n",
    "\n",
    "\n",
    "with open('domains.pkl', 'rb') as file:\n",
    "    domains = pickle.load(file)\n",
    "       \n",
    "fraction_domain_pkl = domains['fraction']\n",
    "natural_domain_pkl = domains['natural']\n",
    "analog_domain_pkl = domains['analog']\n",
    "\n",
    "assert np.isclose(fraction_domain, fraction_domain_pkl).all()\n",
    "assert np.isclose(natural_domain, natural_domain_pkl).all()\n",
    "assert np.isclose(analog_domain, analog_domain_pkl).all()"
   ]
  },
  {
   "cell_type": "markdown",
   "metadata": {
    "deletable": false,
    "editable": false,
    "nbgrader": {
     "cell_type": "markdown",
     "checksum": "45681ad866f48f70d55ff2ca394d5757",
     "grade": false,
     "grade_id": "cell-e855917793b91560",
     "locked": true,
     "schema_version": 3,
     "solution": false,
     "task": false
    }
   },
   "source": [
    "#### References:\n",
    "\n",
    "* https://www.dspguide.com/ch8.htm\n",
    "* https://numpy.org/doc/stable/reference/routines.fft.html\n",
    "* https://docs.scipy.org/doc/scipy/reference/fft.html"
   ]
  },
  {
   "cell_type": "code",
   "execution_count": null,
   "metadata": {},
   "outputs": [],
   "source": []
  }
 ],
 "metadata": {
  "kernelspec": {
   "display_name": "Python 3 (ipykernel)",
   "language": "python",
   "name": "python3"
  },
  "language_info": {
   "codemirror_mode": {
    "name": "ipython",
    "version": 3
   },
   "file_extension": ".py",
   "mimetype": "text/x-python",
   "name": "python",
   "nbconvert_exporter": "python",
   "pygments_lexer": "ipython3",
   "version": "3.10.4"
  }
 },
 "nbformat": 4,
 "nbformat_minor": 2
}
