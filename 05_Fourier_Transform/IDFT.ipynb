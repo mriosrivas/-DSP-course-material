{
 "cells": [
  {
   "cell_type": "markdown",
   "metadata": {
    "deletable": false,
    "editable": false,
    "nbgrader": {
     "cell_type": "markdown",
     "checksum": "040e7f888f36f712be91732af2bd43f0",
     "grade": false,
     "grade_id": "cell-8d6674a04b25f8eb",
     "locked": true,
     "schema_version": 3,
     "solution": false,
     "task": false
    }
   },
   "source": [
    "# Inverse Discrete Fourier Transform\n",
    "\n",
    "\n",
    "\n",
    "\n",
    "Any $N$ point signal, $x[i]$, can be created by adding $N/2 + 1$ cosine waves and $N/2 + 1$ sine waves. The amplitudes of the cosine and sine waves are held in the arrays $ImX[k]$ and $ReX[k]$, respectively. The synthesis equation multiplies these amplitudes by the basis functions to create a set of scaled sine and cosine waves. Adding the scaled sine and cosine waves produces the time domain signal, $x[i]$.\n",
    "\n",
    "We can write the synthesis equation as:\n",
    "\n",
    "$$x[i] = \\displaystyle\\sum_{k=0}^{N/2}{Re\\bar{X}[k]\\cos{(\\frac{2\\pi ki}{N}})} + \n",
    "\\displaystyle\\sum_{k=0}^{N/2}{Im\\bar{X}[k]\\sin{(\\frac{2\\pi ki}{N}})}$$\n",
    "\n",
    "The arrays are called $Im\\bar{X}[k]$ and $Re\\bar{X}[k]$, rather than $ImX[k]$ and $ReX[k]$. This is because the amplitudes needed for synthesis are slightly different from the frequency domain of a signal. This is the scaling factor due to the use of an orthogonal basis decomposition. Although the conversion is only a simple normalization, it is a common bug in computer programs. Look out for it! In equation form, the conversion between the two is given by:\n",
    "\n",
    "$$Re\\bar{X}[k]= \\frac{ReX[k]}{N/2}$$\n",
    "\n",
    "$$Im\\bar{X}[k]= -\\frac{ImX[k]}{N/2}$$\n",
    "\n",
    "except for two special cases:\n",
    "$$Re\\bar{X}[0]= \\frac{ReX[0]}{N}$$\n",
    "\n",
    "$$Re\\bar{X}[N/2]= \\frac{ReX[N/2]}{N}$$\n",
    "\n",
    "Remember that $N$ is the size of the time domain signal $x[k]$."
   ]
  },
  {
   "cell_type": "code",
   "execution_count": null,
   "metadata": {
    "deletable": false,
    "editable": false,
    "nbgrader": {
     "cell_type": "code",
     "checksum": "68c06ee07429a931ebc536a72f76ab33",
     "grade": false,
     "grade_id": "cell-f13f2ef4f3f1fb64",
     "locked": true,
     "schema_version": 3,
     "solution": false,
     "task": false
    }
   },
   "outputs": [],
   "source": [
    "import numpy as np\n",
    "import matplotlib.pyplot as plt\n",
    "\n",
    "import pickle"
   ]
  },
  {
   "cell_type": "markdown",
   "metadata": {
    "deletable": false,
    "editable": false,
    "nbgrader": {
     "cell_type": "markdown",
     "checksum": "5e3fcde26c090dc0e68f1fa9217d9995",
     "grade": false,
     "grade_id": "cell-bb07ccf38d5cc85d",
     "locked": true,
     "schema_version": 3,
     "solution": false,
     "task": false
    }
   },
   "source": [
    "### Why the use of Scaling Factors?\n",
    "To understand the use of scaling factors we can think of the frequency domain representation of a signal as a spectral density. Spectral density describes how much signal (amplitude) is present per unit of bandwidth. To convert the sinusoidal amplitudes into a spectral density, divide each amplitude by the bandwidth represented by each amplitude. To determine the bandwidth you can look at the following DFT decomposition and see that we divided each decomposition into *frequency bins*"
   ]
  },
  {
   "cell_type": "code",
   "execution_count": null,
   "metadata": {
    "deletable": false,
    "editable": false,
    "nbgrader": {
     "cell_type": "code",
     "checksum": "442395b8f1ffb746b58ee720a1c6d0d3",
     "grade": false,
     "grade_id": "cell-9f5aba4bfb1934c8",
     "locked": true,
     "schema_version": 3,
     "solution": false,
     "task": false
    }
   },
   "outputs": [],
   "source": [
    "# Example of a frequency decomposition of a signal\n",
    "t = np.arange(0,17)\n",
    "dft_decomposition = np.array([5, 6, 7, 8, 7.5, 6.5, 7, 8, 7.5, 6, 5, 6, 7, 8, 7.5, 6.5, 6])\n",
    "\n",
    "plt.stem(dft_decomposition)\n",
    "plt.title('Fourier Decomposition')\n",
    "plt.xlabel('frequency')\n",
    "plt.ylabel('amplitude')\n",
    "plt.xlim(-0.01,16.01)\n",
    "plt.xticks(t);\n",
    "plt.bar(t,dft_decomposition.flatten(),width=0.95, color='green', alpha=0.25, edgecolor='white');"
   ]
  },
  {
   "cell_type": "markdown",
   "metadata": {
    "deletable": false,
    "editable": false,
    "nbgrader": {
     "cell_type": "markdown",
     "checksum": "955b8ca54c7af5b76d57814ef01616f9",
     "grade": false,
     "grade_id": "cell-c5416f1427ee221b",
     "locked": true,
     "schema_version": 3,
     "solution": false,
     "task": false
    }
   },
   "source": [
    "Each frequency bin has a *width*, and in the case of samples 1 to 15 they are of *double length* than for samples 0 and 16. The length of each bin can be calculated as $2/N$ for samples 1 to 15, and $1/N$ for samples 0 and 16. (Remember that $N$ is the size of the time domain signal.) So this accounts for the scaling factor between the sinusoidal amplitudes and frequency domain, as well as the additional factor of two needed for the first and last samples.  \n",
    "\n",
    "Why the negation of the imaginary part? This is done solely to make the real DFT consistent with our definition of DFT and later with its big brother, the complex DFT.\n",
    "\n",
    "When dealing only with the real DFT, many authors do not include this negation. For that matter, many authors do not even include he $2/N$ scaling factor. Be prepared to find both of these missing in some discussions. They are included here for a tremendously important reason: The most efficient way to calculate the DFT is through the Fast Fourier Transform (FFT) algorithm. The FFT generates a frequency domain defined according to our previous equations. If you start messing with these normalization factors, your programs containing the FFT are not going to work as expected. "
   ]
  },
  {
   "cell_type": "markdown",
   "metadata": {
    "deletable": false,
    "editable": false,
    "nbgrader": {
     "cell_type": "markdown",
     "checksum": "c0613d97679a17a45ba67f8c718b992a",
     "grade": false,
     "grade_id": "cell-3d0e70804e61bf68",
     "locked": true,
     "schema_version": 3,
     "solution": false,
     "task": false
    }
   },
   "source": [
    "In this Jupyter Notebook we will implement a function called `idft` which calculates the Inverse Fourier Transform of a frequency domain signal (given both real and imaginary parts.)\n",
    "\n",
    "In this Notebook you will need to add the following fuctions to a file called `fourier.py`:\n",
    "* `dft`\n",
    "* `dft_magnitude`\n",
    "* `arctan_correct`\n",
    "* `unwrap`\n",
    "* `dft_phase`\n",
    "* `frequency_domain`\n",
    "\n",
    "These function were developed in the previous excersises and will help us in this Jupyter Notebookk."
   ]
  },
  {
   "cell_type": "code",
   "execution_count": null,
   "metadata": {
    "deletable": false,
    "editable": false,
    "nbgrader": {
     "cell_type": "code",
     "checksum": "69fa8003ffe0dddd64ab205dfc7995a0",
     "grade": false,
     "grade_id": "cell-c61ee747462f3d20",
     "locked": true,
     "schema_version": 3,
     "solution": false,
     "task": false
    }
   },
   "outputs": [],
   "source": [
    "from fourier import dft, dft_magnitude, dft_phase, frequency_domain"
   ]
  },
  {
   "cell_type": "code",
   "execution_count": null,
   "metadata": {
    "deletable": false,
    "editable": false,
    "nbgrader": {
     "cell_type": "code",
     "checksum": "14662d9ab3fbeaf36a0f8ac086ee94cf",
     "grade": false,
     "grade_id": "cell-237dbcceebbead7b",
     "locked": true,
     "schema_version": 3,
     "solution": false,
     "task": false
    }
   },
   "outputs": [],
   "source": [
    "file = {'x':'Signals/InputSignal_f32_1kHz_15kHz.dat', 'h':'Signals/Impulse_response.dat'}\n",
    "\n",
    "x = np.loadtxt(file['x'])\n",
    "N,M = x.shape\n",
    "x = x.reshape(N*M, 1)\n",
    "\n",
    "h = np.loadtxt(file['h'])\n",
    "N = h.shape[0]\n",
    "h = h.reshape(N, 1)"
   ]
  },
  {
   "cell_type": "code",
   "execution_count": null,
   "metadata": {
    "deletable": false,
    "nbgrader": {
     "cell_type": "code",
     "checksum": "489b6930f1c1d143343a9ec0b07d2cce",
     "grade": false,
     "grade_id": "cell-ab88b057123e4de6",
     "locked": false,
     "schema_version": 3,
     "solution": true,
     "task": false
    }
   },
   "outputs": [],
   "source": [
    "# Calculate the Fourier transform of x and assign it to X_rex, X_imag\n",
    "# Calculate the Fourier transform of h and assign it to H_rex, H_imag\n",
    "# YOUR CODE HERE\n",
    "raise NotImplementedError()\n",
    "\n",
    "# Calculate the magnitude of the Fourier transform of x and assign it to X_mag\n",
    "# Calculate the magnitude of the Fourier transform of h and assign it to H_mag\n",
    "# YOUR CODE HERE\n",
    "raise NotImplementedError()\n",
    "\n",
    "# Calculate the phase of the Fourier transform of x and assign it to X_phase\n",
    "# Calculate the phase of the Fourier transform of h and assign it to H_phase\n",
    "# YOUR CODE HERE\n",
    "raise NotImplementedError()\n",
    "\n",
    "# Calculate the frequency domain of the Fourier transform of x and assign it to X_domain\n",
    "# Calculate the frequency domain of the Fourier transform of h and assign it to H_domain\n",
    "# YOUR CODE HERE\n",
    "raise NotImplementedError()"
   ]
  },
  {
   "cell_type": "code",
   "execution_count": null,
   "metadata": {
    "deletable": false,
    "editable": false,
    "nbgrader": {
     "cell_type": "code",
     "checksum": "154e67bef4243adbdc9b7258f02ef42f",
     "grade": false,
     "grade_id": "cell-1449daec079be3ee",
     "locked": true,
     "schema_version": 3,
     "solution": false,
     "task": false
    }
   },
   "outputs": [],
   "source": [
    "plt.rcParams[\"figure.figsize\"] = (15,8)\n",
    "\n",
    "plt.suptitle(\"DFT Magnitude and Phase\", fontsize=14)\n",
    "\n",
    "plt.subplot(2,3,1)\n",
    "plt.plot(x)\n",
    "plt.grid()\n",
    "plt.xlabel('samples')\n",
    "plt.ylabel('amplitude')\n",
    "\n",
    "plt.subplot(2,3,2)\n",
    "plt.plot(X_domain, X_mag)\n",
    "plt.grid()\n",
    "plt.xlabel('normalized frequency')\n",
    "plt.ylabel('amplitude')\n",
    "\n",
    "plt.subplot(2,3,3)\n",
    "plt.plot(X_domain, X_phase)\n",
    "plt.grid()\n",
    "plt.xlabel('normalized frequency')\n",
    "plt.ylabel('rads')\n",
    "\n",
    "plt.subplot(2,3,4)\n",
    "plt.plot(h)\n",
    "plt.grid()\n",
    "plt.xlabel('samples')\n",
    "plt.ylabel('amplitude')\n",
    "\n",
    "plt.subplot(2,3,5)\n",
    "plt.plot(H_domain, H_mag)\n",
    "plt.grid()\n",
    "plt.xlabel('normalized frequency')\n",
    "plt.ylabel('amplitude')\n",
    "\n",
    "plt.subplot(2,3,6)\n",
    "plt.plot(H_domain, H_phase)\n",
    "plt.grid()\n",
    "plt.xlabel('normalized frequency')\n",
    "plt.ylabel('rads')\n",
    "\n",
    "plt.subplots_adjust(hspace = 0.5)\n",
    "plt.show()"
   ]
  },
  {
   "cell_type": "code",
   "execution_count": null,
   "metadata": {
    "deletable": false,
    "editable": false,
    "nbgrader": {
     "cell_type": "code",
     "checksum": "74c8217516e77b08b4deb2269af98583",
     "grade": true,
     "grade_id": "cell-1fb92a76c64650cd",
     "locked": true,
     "points": 20,
     "schema_version": 3,
     "solution": false,
     "task": false
    }
   },
   "outputs": [],
   "source": [
    "with open('x_dft.pkl', 'rb') as file:\n",
    "    X = pickle.load(file)\n",
    "\n",
    "with open('h_dft.pkl', 'rb') as file:\n",
    "    H = pickle.load(file)    \n",
    "\n",
    "\n",
    "X_rex_pkl, X_imag_pkl = X['dft']\n",
    "X_mag_pkl = X['mag']\n",
    "X_phase_pkl = X['phase']\n",
    "X_domain_pkl = X['domain']\n",
    "\n",
    "assert np.isclose(X_rex, X_rex_pkl).all()\n",
    "assert np.isclose(X_imag, X_imag_pkl).all()\n",
    "assert np.isclose(X_phase, X_phase_pkl).all()\n",
    "assert np.isclose(X_domain, X_domain_pkl).all()\n",
    "\n",
    "H_rex_pkl, H_imag_pkl = H['dft']\n",
    "H_mag_pkl = H['mag']\n",
    "H_phase_pkl = H['phase']\n",
    "H_domain_pkl = H['domain']\n",
    "\n",
    "assert np.isclose(H_rex, H_rex_pkl).all()\n",
    "assert np.isclose(H_imag, H_imag_pkl).all()\n",
    "assert np.isclose(H_phase, H_phase_pkl).all()\n",
    "assert np.isclose(H_domain, H_domain_pkl).all()"
   ]
  },
  {
   "cell_type": "markdown",
   "metadata": {
    "deletable": false,
    "editable": false,
    "nbgrader": {
     "cell_type": "markdown",
     "checksum": "01eb7ff8663dfce3bb791771247c3148",
     "grade": false,
     "grade_id": "cell-78bd60bda206946b",
     "locked": true,
     "schema_version": 3,
     "solution": false,
     "task": false
    }
   },
   "source": [
    "## Inverse Discrete Fourier Transform Implementation\n",
    "In this part you will create two functions:\n",
    "\n",
    "* `normalize` which calculates the normalized real and imagnary components that will be used by the `idft` function.\n",
    "* `idft` which implements the synthesis equation described at the beginning of this notebook."
   ]
  },
  {
   "cell_type": "code",
   "execution_count": null,
   "metadata": {
    "deletable": false,
    "nbgrader": {
     "cell_type": "code",
     "checksum": "8d4f735ad92321170208377aff94e230",
     "grade": false,
     "grade_id": "cell-03380afc1fa8a0df",
     "locked": false,
     "schema_version": 3,
     "solution": true,
     "task": false
    }
   },
   "outputs": [],
   "source": [
    "def normalize(x, part):\n",
    "    \"\"\" \n",
    "    Function that calculates the normalized values of given input signal x.\n",
    "\n",
    "    Parameters: \n",
    "    x (numpy array): Array of numbers representing the input signal to be normalized. \n",
    "    part (string): If 'real', a normalized real part is returned. If 'imag', a \n",
    "                    normalized imaginary part is returned.\n",
    "\n",
    "    Returns: \n",
    "    numpy array: Normalized input signal x.\n",
    "\n",
    "    \"\"\"\n",
    "    \n",
    "    M = x.shape[0]\n",
    "    N = 2*(M-1)\n",
    "        \n",
    "    # YOUR CODE HERE\n",
    "    raise NotImplementedError()\n",
    "\n",
    "\n",
    "def idft(real, imag): \n",
    "    \"\"\" \n",
    "    Function that calculates the IDFT of a signal.\n",
    "\n",
    "    Attributes: \n",
    "    real(numpy array): Array of numbers representing the normalized real dft part of a signal.\n",
    "    imag(numpy array): Array of numbers representing the normalized imaginary dft part of a signal.\n",
    "\n",
    "    Returns: \n",
    "    numpy array: Synthetized IDFT signal, which consist of the normalized sum of cosine \n",
    "                and sine waveforms.\n",
    "\n",
    "    \"\"\"\n",
    "    M = real.shape[0]\n",
    "    N = 2*(M-1)\n",
    "    \n",
    "    real_acc = np.zeros(N)\n",
    "    imag_acc = np.zeros(N)\n",
    "\n",
    "    # YOUR CODE HERE\n",
    "    raise NotImplementedError()"
   ]
  },
  {
   "cell_type": "markdown",
   "metadata": {
    "deletable": false,
    "editable": false,
    "nbgrader": {
     "cell_type": "markdown",
     "checksum": "42e1534e2b375615c6f64d0a9968061f",
     "grade": false,
     "grade_id": "cell-83781dbec59b884f",
     "locked": true,
     "schema_version": 3,
     "solution": false,
     "task": false
    }
   },
   "source": [
    "### Test your Inverse Implementation\n",
    "You can run this test and check if your synthetized signal is the same as the output. If not, try to correct your mistakes. Remember that your `idft` function expect normalized values."
   ]
  },
  {
   "cell_type": "code",
   "execution_count": null,
   "metadata": {
    "deletable": false,
    "editable": false,
    "nbgrader": {
     "cell_type": "code",
     "checksum": "ac77d13cedd5c82a2496767f5bfa963a",
     "grade": true,
     "grade_id": "cell-18addafaa7ea1e56",
     "locked": true,
     "points": 20,
     "schema_version": 3,
     "solution": false,
     "task": false
    }
   },
   "outputs": [],
   "source": [
    "# Developed calculations\n",
    "signal = x\n",
    "real, imag = dft(signal)\n",
    "\n",
    "norm_real = normalize(real, 'real')\n",
    "norm_imag = normalize(imag, 'imag')\n",
    "\n",
    "synth = idft(norm_real, norm_imag)\n",
    "\n",
    "\n",
    "# Reference calculations\n",
    "signal_fft = np.fft.fft2(x)\n",
    "\n",
    "real_fft = np.real(signal_fft)\n",
    "imag_fft = np.imag(signal_fft)\n",
    "\n",
    "N = int(len(signal_fft)/2) + 1\n",
    "\n",
    "assert np.isclose(real, real_fft[:N]).all()\n",
    "assert np.isclose(imag, imag_fft[:N]).all()\n",
    "\n",
    "# Plotting\n",
    "plt.rcParams[\"figure.figsize\"] = (10,5)\n",
    "\n",
    "plt.suptitle(\"Comparison Between Original and Synthetized Signal\", fontsize=14)\n",
    "\n",
    "plt.subplot(1,2,1)\n",
    "plt.plot(signal)\n",
    "plt.xlabel('samples')\n",
    "plt.ylabel('amplitude')\n",
    "plt.title('Original Signal')\n",
    "plt.grid()\n",
    "\n",
    "plt.subplot(1,2,2)\n",
    "plt.plot(synth, color='orange')\n",
    "plt.xlabel('samples')\n",
    "plt.ylabel('amplitude')\n",
    "plt.title('Synthetized Signal')\n",
    "\n",
    "plt.grid()\n",
    "plt.subplots_adjust(hspace = 0.5)\n",
    "plt.show()"
   ]
  },
  {
   "cell_type": "code",
   "execution_count": null,
   "metadata": {
    "deletable": false,
    "editable": false,
    "nbgrader": {
     "cell_type": "code",
     "checksum": "20672b441468f5df8d113522c424adfd",
     "grade": true,
     "grade_id": "cell-93a36d53bf12f98c",
     "locked": true,
     "points": 20,
     "schema_version": 3,
     "solution": false,
     "task": false
    }
   },
   "outputs": [],
   "source": [
    "# Developed calculations\n",
    "signal = h\n",
    "real, imag = dft(signal)\n",
    "\n",
    "norm_real = normalize(real, 'real')\n",
    "norm_imag = normalize(imag, 'imag')\n",
    "\n",
    "synth = idft(norm_real, norm_imag)\n",
    "\n",
    "\n",
    "# Reference calculations\n",
    "signal_fft = np.fft.fft2(h)\n",
    "\n",
    "real_fft = np.real(signal_fft)\n",
    "imag_fft = np.imag(signal_fft)\n",
    "\n",
    "N = int(len(signal_fft)/2) + 1\n",
    "\n",
    "assert np.isclose(real, real_fft[:N]).all()\n",
    "assert np.isclose(imag, imag_fft[:N]).all()\n",
    "\n",
    "# Plotting\n",
    "plt.rcParams[\"figure.figsize\"] = (10,5)\n",
    "\n",
    "plt.suptitle(\"Comparison Between Original and Synthetized Signal\", fontsize=14)\n",
    "\n",
    "plt.subplot(1,2,1)\n",
    "plt.plot(signal)\n",
    "plt.xlabel('samples')\n",
    "plt.ylabel('amplitude')\n",
    "plt.title('Original Signal')\n",
    "plt.grid()\n",
    "\n",
    "plt.subplot(1,2,2)\n",
    "plt.plot(synth, color='orange')\n",
    "plt.xlabel('samples')\n",
    "plt.ylabel('amplitude')\n",
    "plt.title('Synthetized Signal')\n",
    "\n",
    "plt.grid()\n",
    "plt.subplots_adjust(hspace = 0.5)\n",
    "plt.show()"
   ]
  },
  {
   "cell_type": "markdown",
   "metadata": {},
   "source": [
    "## Signal Through a Filter\n",
    "In this part, we will see how the Inverse Fourier Transform of a product of two signals in the frequency domain can lead to the same results as applying the convolution of those two signals in the time domain. To do so, **both signals must be of same size**, so you have to pad zeros to the smallest signal before doing any transformation. So before doing any calculation, create a function called `zero_padding` that tests both signals and zero pads the smallest signal."
   ]
  },
  {
   "cell_type": "code",
   "execution_count": null,
   "metadata": {
    "deletable": false,
    "nbgrader": {
     "cell_type": "code",
     "checksum": "52254f021216e4eb59f74f84901abd55",
     "grade": false,
     "grade_id": "cell-09c655474ffb9978",
     "locked": false,
     "schema_version": 3,
     "solution": true,
     "task": false
    }
   },
   "outputs": [],
   "source": [
    "def zero_padding(x, h):\n",
    "    \"\"\" \n",
    "    Function that zero pads the smallest input signal.\n",
    "\n",
    "    Attributes: \n",
    "    x(numpy array): Array of numbers representing an input signal.\n",
    "    h(numpy array): Array of numbers representing an input signal.\n",
    "\n",
    "    Returns: \n",
    "    x_pad(numpy array): Array of numbers representing an input signal x padded with zeros.\n",
    "    h_pad(numpy array): Array of numbers representing an input signal h padded with zeros.\n",
    "    \"\"\"\n",
    "    N = x.shape[0]\n",
    "    M = h.shape[0]\n",
    "    \n",
    "    # YOUR CODE HERE\n",
    "    raise NotImplementedError()\n",
    "    \n",
    "    return x_pad, h_pad"
   ]
  },
  {
   "cell_type": "code",
   "execution_count": null,
   "metadata": {
    "deletable": false,
    "nbgrader": {
     "cell_type": "code",
     "checksum": "b3ce502ad5f227f5b7d1ec9c8225588d",
     "grade": false,
     "grade_id": "cell-2ae5486e7348788e",
     "locked": false,
     "schema_version": 3,
     "solution": true,
     "task": false
    }
   },
   "outputs": [],
   "source": [
    "# Zero pad inputs x and h\n",
    "# YOUR CODE HERE\n",
    "raise NotImplementedError()\n",
    "\n",
    "# Calculate the Fourier Transform of each signal\n",
    "# YOUR CODE HERE\n",
    "raise NotImplementedError()\n",
    "\n",
    "# Multiply both frequency domain signals\n",
    "# YOUR CODE HERE\n",
    "raise NotImplementedError()\n",
    "\n",
    "# Calculate the Inverse Fourier Transform\n",
    "# YOUR CODE HERE\n",
    "raise NotImplementedError()"
   ]
  },
  {
   "cell_type": "code",
   "execution_count": null,
   "metadata": {
    "deletable": false,
    "editable": false,
    "nbgrader": {
     "cell_type": "code",
     "checksum": "de96e8794a9add6880c2955e556b0154",
     "grade": true,
     "grade_id": "cell-38ebd2596d191625",
     "locked": true,
     "points": 40,
     "schema_version": 3,
     "solution": false,
     "task": false
    }
   },
   "outputs": [],
   "source": [
    "plt.rcParams[\"figure.figsize\"] = (10,5)\n",
    "\n",
    "plt.subplot(1,2,1)\n",
    "plt.plot(x)\n",
    "plt.title('Original Signal')\n",
    "plt.grid('on')\n",
    "plt.xlabel('samples')\n",
    "plt.ylabel('Amplitude')\n",
    "\n",
    "plt.subplot(1,2,2)\n",
    "plt.plot(synthetized_signal)\n",
    "plt.title('Filtered Signal')\n",
    "plt.grid('on')\n",
    "plt.xlabel('samples')\n",
    "plt.ylabel('Amplitude')\n",
    "plt.show()\n",
    "\n",
    "\n",
    "with open('synth.pkl','rb') as file:\n",
    "    synth_ref = pickle.load(file)\n",
    "\n",
    "assert np.isclose(synthetized_signal, synth_ref, atol=0.001).all()"
   ]
  },
  {
   "cell_type": "markdown",
   "metadata": {
    "deletable": false,
    "editable": false,
    "nbgrader": {
     "cell_type": "markdown",
     "checksum": "57a2635e57ec69b985bedbce682bc5d9",
     "grade": false,
     "grade_id": "cell-8574c167ec9d401a",
     "locked": true,
     "schema_version": 3,
     "solution": false,
     "task": false
    }
   },
   "source": [
    "#### References:\n",
    "\n",
    "* http://www.dspguide.com/ch8/5.htm\n",
    "* https://numpy.org/doc/stable/reference/generated/numpy.fft.ifft2.html\n",
    "* https://docs.scipy.org/doc/scipy/reference/generated/scipy.fft.ifft2.html#scipy.fft.ifft2"
   ]
  }
 ],
 "metadata": {
  "kernelspec": {
   "display_name": "Python 3 (ipykernel)",
   "language": "python",
   "name": "python3"
  },
  "language_info": {
   "codemirror_mode": {
    "name": "ipython",
    "version": 3
   },
   "file_extension": ".py",
   "mimetype": "text/x-python",
   "name": "python",
   "nbconvert_exporter": "python",
   "pygments_lexer": "ipython3",
   "version": "3.8.12"
  }
 },
 "nbformat": 4,
 "nbformat_minor": 2
}
