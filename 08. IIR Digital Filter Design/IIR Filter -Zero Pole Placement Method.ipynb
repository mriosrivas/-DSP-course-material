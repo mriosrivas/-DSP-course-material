{
 "cells": [
  {
   "cell_type": "markdown",
   "metadata": {
    "deletable": false,
    "editable": false,
    "nbgrader": {
     "cell_type": "markdown",
     "checksum": "426b03ab3327c3e75c07822482070e46",
     "grade": false,
     "grade_id": "cell-cccce7b98d5d4481",
     "locked": true,
     "schema_version": 3,
     "solution": false,
     "task": false
    }
   },
   "source": [
    "# IIR Filter -Zero Pole Placement Method for Notch Filter\n",
    "\n",
    "<font color=\"blue\">Note: In order to run this Jupyter Notebook you must create a file named `digital_filters.py` inside the folder containing this Notebook with the following functions `filter_frequency_response` and `zeros_poles_gain` which were developed previously.</font> \n",
    "\n",
    "A **notch filter** rejects a narrow frequency band and leaves the rest of the spectrum little changed. The most common example is 60-Hz noise from power lines. Another is low-frequency ground roll. Such filters can easily be made using a slight variation on the all-pass filter. In the all-pass filter, the pole and zero have equal (logarithmic) relative distances from the unit circle. All we need to do is **put the zero closer to the circle**. Indeed, there is no reason why we should not put the zero right on the circle: then the frequency at which the zero is located is exactly canceled from the spectrum of input data.\n",
    "\n",
    "Narrow-band filters and sharp cutoff filters should be used with caution. An ever-present penalty for using such filters is that they do not decay rapidly in time. Although this may not present problems in some applications, it will certainly do so in others. \n",
    "\n",
    "![Notch Filter](Images/notch_filter.png)"
   ]
  },
  {
   "cell_type": "markdown",
   "metadata": {
    "deletable": false,
    "editable": false,
    "nbgrader": {
     "cell_type": "markdown",
     "checksum": "4e13e471ffef150977eef25b21e32eb2",
     "grade": false,
     "grade_id": "cell-8ae03c96c0c84463",
     "locked": true,
     "schema_version": 3,
     "solution": false,
     "task": false
    }
   },
   "source": [
    "## Algorithm for Designing a Notch Filter\n",
    "\n",
    "In order to design a notch filter using the zero pole placement method we perform the following steps:\n",
    "1. Set a zero near the unit circle at the frequency of interest.\n",
    "2. Find the complex conjugate of the zero obtained in step 1.\n",
    "3. Set a pole and it's conjugate near the unit circle at the frequency of interest. To maintain stability, the zero should be closest to the unit circle than the pole's location.\n",
    "4. Merge zeros and poles in a transfer function.\n",
    "5. Adjust the zeros and poles to your needs."
   ]
  },
  {
   "cell_type": "code",
   "execution_count": null,
   "metadata": {
    "deletable": false,
    "editable": false,
    "nbgrader": {
     "cell_type": "code",
     "checksum": "17bf200885651997d8f7bdcf3368ab54",
     "grade": false,
     "grade_id": "cell-ea76491029478710",
     "locked": true,
     "schema_version": 3,
     "solution": false,
     "task": false
    }
   },
   "outputs": [],
   "source": [
    "import matplotlib.pyplot as plt\n",
    "import numpy as np\n",
    "import pickle\n",
    "\n",
    "from aux_plots import plot_zeros_poles\n",
    "from digital_filters import filter_frequency_response, zeros_poles_gain"
   ]
  },
  {
   "cell_type": "markdown",
   "metadata": {
    "deletable": false,
    "editable": false,
    "nbgrader": {
     "cell_type": "markdown",
     "checksum": "16904a4d4185d57dec2f5e4526c65739",
     "grade": false,
     "grade_id": "cell-c5e30145049d1823",
     "locked": true,
     "schema_version": 3,
     "solution": false,
     "task": false
    }
   },
   "source": [
    "## Implementation:\n",
    "### Step 1: Set a zero near the unit circle at the frequency of interest. \n",
    "\n",
    "In this case we will define a transfer function $H_1(z)$ with a zero\n",
    "$$ H_1(z)=1-b z^{-1} $$\n",
    "\n",
    "where $b$ is a complex constant with a radius $r$ and phase angle $\\phi$ radians:\n",
    "$$ b=r e^{j \\phi}$$\n",
    "\n",
    "\n",
    "To implement this in our code, we need to change the transfer function $H_1(z)$ into our coding style. Remember that the format our transfer function has is the following:\n",
    "\n",
    "$$H[z] = \\frac{c_0 + c_1z + c_2z^{2} + c_3z^{3} + \\cdot \\cdot \\cdot}{d_0 + d_1z + d_2z^{2} + d_3z^{3}+ \\cdot \\cdot \\cdot} $$\n",
    "\n",
    "Therefore, rewriting our transfer function $H_1(z)$ becomes:\n",
    "\n",
    "$$ H_1(z) = \\frac{-b+z}{z}$$\n",
    "\n",
    "We now can implement a transfer function $H_1(z)$ with a radius close to the unit circle, i.e. $r=0.9$ and a value of $\\phi = \\pi/4$ radians."
   ]
  },
  {
   "cell_type": "code",
   "execution_count": null,
   "metadata": {
    "deletable": false,
    "nbgrader": {
     "cell_type": "code",
     "checksum": "d97928cbeb692165782d598bc94881bf",
     "grade": false,
     "grade_id": "cell-92ebe15d73262b3a",
     "locked": false,
     "schema_version": 3,
     "solution": true,
     "task": false
    }
   },
   "outputs": [],
   "source": [
    "# Set the values of r_zero to 0.9, phi as pi/4, and find b\n",
    "# YOUR CODE HERE\n",
    "raise NotImplementedError()\n",
    "\n",
    "# Create an array c which consist of the numerator coefficients of \n",
    "# the transfer function H1(z) described above.\n",
    "# YOUR CODE HERE\n",
    "raise NotImplementedError()\n",
    "\n",
    "# Create an array d which consist of the denominator coefficients of \n",
    "# the transfer function H1(z) described above.\n",
    "# YOUR CODE HERE\n",
    "raise NotImplementedError()\n",
    "\n",
    "# Create an array w with a range between 0 and 2*pi and a step size of 0.01\n",
    "# This range allow us to see the symmetry of the filter.\n",
    "# YOUR CODE HERE\n",
    "raise NotImplementedError()"
   ]
  },
  {
   "cell_type": "code",
   "execution_count": null,
   "metadata": {
    "deletable": false,
    "editable": false,
    "nbgrader": {
     "cell_type": "code",
     "checksum": "7735f5216ddeaa1f1cfe4dd188866bdd",
     "grade": true,
     "grade_id": "cell-ab2c68d34faf2bd1",
     "locked": true,
     "points": 25,
     "schema_version": 3,
     "solution": false,
     "task": false
    }
   },
   "outputs": [],
   "source": [
    "H_w = filter_frequency_response(c,d,w)\n",
    "idft = np.fft.ifft(H_w)\n",
    "z, p, g = zeros_poles_gain(c, d)\n",
    "\n",
    "with open('zero_pole_step_1.pkl', 'rb') as file:\n",
    "    H_w_pkl, idft_pkl, (z_pkl, p_pkl, g_pkl) = pickle.load(file)\n",
    "\n",
    "assert np.isclose(H_w_pkl, H_w, atol=0.01).all()\n",
    "assert np.isclose(idft_pkl, idft, atol=0.01).all()\n",
    "assert np.isclose(z_pkl, z, atol=0.01).all()\n",
    "assert np.isclose(p_pkl, p, atol=0.01).all()\n",
    "assert np.isclose(g_pkl, g, atol=0.01).all()\n",
    "\n",
    "\n",
    "plt.rcParams[\"figure.figsize\"] = (15,5)\n",
    "\n",
    "plt.subplot(1, 3, 1)\n",
    "plt.plot(w/(max(w)), 20*np.log(np.absolute(H_w)))\n",
    "plt.title('Frequency Response')\n",
    "plt.xlabel('frequency')\n",
    "plt.ylabel('dB')\n",
    "plt.grid('on')\n",
    "\n",
    "plt.subplot(1, 3, 2)\n",
    "plt.stem(np.real(idft[0:25]), use_line_collection=True)\n",
    "plt.title('Impulse Response')\n",
    "plt.xlabel('sample')\n",
    "plt.grid('on')\n",
    "\n",
    "plot_zeros_poles(z, p)\n",
    "plt.title('Zeros and Poles')\n",
    "plt.xlabel('sample')\n",
    "plt.show()"
   ]
  },
  {
   "cell_type": "markdown",
   "metadata": {
    "deletable": false,
    "editable": false,
    "nbgrader": {
     "cell_type": "markdown",
     "checksum": "2f483debed9b96525a91b138293449d0",
     "grade": false,
     "grade_id": "cell-9c104756668ed6a3",
     "locked": true,
     "schema_version": 3,
     "solution": false,
     "task": false
    }
   },
   "source": [
    "### Step 2: Find the complex conjugate of the zero obtained in step 1.\n",
    "Now we will expand our transfer function, and obtain $H_2(z)$. This transfer function has two zeros, one is the previous one obtained in step 1 and the other is it's conjugate.\n",
    "\n",
    "$$H_2(z) = (1-b z^{-1})(1-b^* z^{-1})$$\n",
    "\n",
    "To be able to use it, we perform some manipulations to get $H_2(z)$ into our coding style, therefore we get:\n",
    "\n",
    "$$H_2(z) = \\frac{bb^*-(b+b^*)z+z^2}{z^2}$$\n",
    "\n"
   ]
  },
  {
   "cell_type": "code",
   "execution_count": null,
   "metadata": {
    "deletable": false,
    "nbgrader": {
     "cell_type": "code",
     "checksum": "3008c82d4b55929f863f7b1d221fcd17",
     "grade": false,
     "grade_id": "cell-e29f3dc21ffbf0f8",
     "locked": false,
     "schema_version": 3,
     "solution": true,
     "task": false
    }
   },
   "outputs": [],
   "source": [
    "# Set the values of r_zero to 0.9, phi as pi/4, and find b\n",
    "# YOUR CODE HERE\n",
    "raise NotImplementedError()\n",
    "\n",
    "# Create an array c which consist of the numerator coefficients of \n",
    "# the transfer function H2(z) described above.\n",
    "# YOUR CODE HERE\n",
    "raise NotImplementedError()\n",
    "\n",
    "# Create an array d which consist of the denominator coefficients of \n",
    "# the transfer function H2(z) described above.\n",
    "# YOUR CODE HERE\n",
    "raise NotImplementedError()\n",
    "\n",
    "# Create an array w with a range between 0 and 2*pi and a step size of 0.01\n",
    "# This range allow us to see the symmetry of the filter.\n",
    "# YOUR CODE HERE\n",
    "raise NotImplementedError()"
   ]
  },
  {
   "cell_type": "code",
   "execution_count": null,
   "metadata": {
    "deletable": false,
    "editable": false,
    "nbgrader": {
     "cell_type": "code",
     "checksum": "be2d58b276a2786906d1f8606cd303df",
     "grade": true,
     "grade_id": "cell-432ec06968377881",
     "locked": true,
     "points": 25,
     "schema_version": 3,
     "solution": false,
     "task": false
    }
   },
   "outputs": [],
   "source": [
    "H_w = filter_frequency_response(c,d,w)\n",
    "idft = np.fft.ifft(H_w)\n",
    "z, p, g = zeros_poles_gain(c, d)\n",
    "\n",
    "with open('zero_pole_step_2.pkl', 'rb') as file:\n",
    "    H_w_pkl, idft_pkl, (z_pkl, p_pkl, g_pkl) = pickle.load(file)\n",
    "\n",
    "assert np.isclose(H_w_pkl, H_w, atol=0.01).all()\n",
    "assert np.isclose(idft_pkl, idft, atol=0.01).all()\n",
    "assert np.isclose(z_pkl, z, atol=0.01).all()\n",
    "assert np.isclose(p_pkl, p, atol=0.01).all()\n",
    "assert np.isclose(g_pkl, g, atol=0.01).all()\n",
    "\n",
    "plt.rcParams[\"figure.figsize\"] = (15,5)\n",
    "\n",
    "plt.subplot(1, 3, 1)\n",
    "plt.plot(w/(max(w)), 20*np.log(np.absolute(H_w)))\n",
    "plt.title('Frequency Response')\n",
    "plt.xlabel('frequency')\n",
    "plt.ylabel('dB')\n",
    "plt.grid('on')\n",
    "\n",
    "plt.subplot(1, 3, 2)\n",
    "plt.stem(np.real(idft[0:25]), use_line_collection=True)\n",
    "plt.title('Impulse Response')\n",
    "plt.xlabel('sample')\n",
    "plt.grid('on')\n",
    "\n",
    "plot_zeros_poles(z, p)\n",
    "plt.title('Zeros and Poles')\n",
    "plt.xlabel('sample');"
   ]
  },
  {
   "cell_type": "markdown",
   "metadata": {
    "deletable": false,
    "editable": false,
    "nbgrader": {
     "cell_type": "markdown",
     "checksum": "60f73f51b7f03eca660da5452960fbca",
     "grade": false,
     "grade_id": "cell-01cb4ed1ae63c2f3",
     "locked": true,
     "schema_version": 3,
     "solution": false,
     "task": false
    }
   },
   "source": [
    "### Step 3: Set a pole and it's conjugate near the unit circle at the frequency of interest.\n",
    "We now proceed to create a transfer function with a pole near the unit circle. To avoid instability, we make the radius of the pole smaller than the zero.\n",
    "\n",
    "The transfer function is\n",
    "$$ H_3(z) = \\frac{1}{(1-az^{-1})(1-a^*z^{-1})}$$\n",
    "\n",
    "<br>\n",
    "Again we perform some manipulations to get $H_3(z)$ into our coding style, and we get:\n",
    "\n",
    "\n",
    "$$ H_3(z) = \\frac{z^2}{aa^*-(a+a^*)z+z^2}$$"
   ]
  },
  {
   "cell_type": "code",
   "execution_count": null,
   "metadata": {
    "deletable": false,
    "nbgrader": {
     "cell_type": "code",
     "checksum": "1fcd39923fbde9f23acf20509a443985",
     "grade": false,
     "grade_id": "cell-09cad0b11a41a44a",
     "locked": false,
     "schema_version": 3,
     "solution": true,
     "task": false
    }
   },
   "outputs": [],
   "source": [
    "# Set the values of r_pole to 0.85, phi as pi/4, and find a\n",
    "# YOUR CODE HERE\n",
    "raise NotImplementedError()\n",
    "\n",
    "# Create an array c which consist of the numerator coefficients of \n",
    "# the transfer function H3(z) described above.\n",
    "# YOUR CODE HERE\n",
    "raise NotImplementedError()\n",
    "\n",
    "# Create an array d which consist of the denominator coefficients of \n",
    "# the transfer function H3(z) described above.\n",
    "# YOUR CODE HERE\n",
    "raise NotImplementedError()\n",
    "\n",
    "# Create an array w with a range between 0 and 2*pi and a step size of 0.01\n",
    "# This range allow us to see the symmetry of the filter.\n",
    "# YOUR CODE HERE\n",
    "raise NotImplementedError()"
   ]
  },
  {
   "cell_type": "code",
   "execution_count": null,
   "metadata": {
    "deletable": false,
    "editable": false,
    "nbgrader": {
     "cell_type": "code",
     "checksum": "c816193c4cb127c902ba70c1a73b0d53",
     "grade": true,
     "grade_id": "cell-e6aa346dd7246deb",
     "locked": true,
     "points": 25,
     "schema_version": 3,
     "solution": false,
     "task": false
    }
   },
   "outputs": [],
   "source": [
    "H_w = filter_frequency_response(c,d,w)\n",
    "idft = np.fft.ifft(H_w)\n",
    "z, p, g = zeros_poles_gain(c, d)\n",
    "\n",
    "with open('zero_pole_step_3.pkl', 'rb') as file:\n",
    "    H_w_pkl, idft_pkl, (z_pkl, p_pkl, g_pkl) = pickle.load(file)\n",
    "\n",
    "assert np.isclose(H_w_pkl, H_w, atol=0.01).all()\n",
    "assert np.isclose(idft_pkl, idft, atol=0.01).all()\n",
    "assert np.isclose(z_pkl, z, atol=0.01).all()\n",
    "assert np.isclose(p_pkl, p, atol=0.01).all()\n",
    "assert np.isclose(g_pkl, g, atol=0.01).all()\n",
    "\n",
    "\n",
    "plt.rcParams[\"figure.figsize\"] = (15,5)\n",
    "\n",
    "plt.subplot(1, 3, 1)\n",
    "plt.plot(w/(max(w)), 20*np.log(np.absolute(H_w)))\n",
    "plt.title('Frequency Response')\n",
    "plt.xlabel('frequency')\n",
    "plt.ylabel('dB')\n",
    "plt.grid('on')\n",
    "\n",
    "plt.subplot(1, 3, 2)\n",
    "plt.stem(np.real(idft[0:25]), use_line_collection=True)\n",
    "plt.title('Impulse Response')\n",
    "plt.xlabel('sample')\n",
    "plt.grid('on')\n",
    "\n",
    "plot_zeros_poles(z, p)\n",
    "plt.title('Zeros and Poles')\n",
    "plt.xlabel('sample');"
   ]
  },
  {
   "cell_type": "markdown",
   "metadata": {
    "deletable": false,
    "editable": false,
    "nbgrader": {
     "cell_type": "markdown",
     "checksum": "af6b8b784823d15f2af1e72e2d39b97e",
     "grade": false,
     "grade_id": "cell-62a741de3f1598e6",
     "locked": true,
     "schema_version": 3,
     "solution": false,
     "task": false
    }
   },
   "source": [
    "### Step 4: Merge zeros and poles in a transfer function.\n",
    "Finally you can combine transfer functions $H_2(z)$ and $H_3(z)$ in a single transfer function\n",
    "\n",
    "$$H(z) = H_2(z)H_3(z)$$\n",
    "\n",
    "$$H(z) = \\left(\\frac{bb^*-(b+b^*)z+z^2}{z^2} \\right) \\left(\\frac{z^2}{aa^*-(a+a^*)z+z^2}\\right)$$\n",
    "\n",
    "Therefore we get\n",
    "$$H(z) = \\frac{bb^*-(b+b^*)z+z^2}{aa^*-(a+a^*)z+z^2}$$\n",
    "\n",
    "which is the desired form for our transfer function."
   ]
  },
  {
   "cell_type": "code",
   "execution_count": null,
   "metadata": {
    "deletable": false,
    "nbgrader": {
     "cell_type": "code",
     "checksum": "ec0778fc76bb41b662cea9200896880e",
     "grade": false,
     "grade_id": "cell-1b37a9539c5b261f",
     "locked": false,
     "schema_version": 3,
     "solution": true,
     "task": false
    }
   },
   "outputs": [],
   "source": [
    "# Set the values of r_zero to 0.90, r_pole to 0.85, phi as pi/4, then find a and b\n",
    "# YOUR CODE HERE\n",
    "raise NotImplementedError()\n",
    "\n",
    "# Create an array c which consist of the numerator coefficients of \n",
    "# the transfer function H(z) described above.\n",
    "# YOUR CODE HERE\n",
    "raise NotImplementedError()\n",
    "\n",
    "# Create an array d which consist of the denominator coefficients of \n",
    "# the transfer function H(z) described above.\n",
    "# YOUR CODE HERE\n",
    "raise NotImplementedError()\n",
    "\n",
    "# Create an array w with a range between 0 and 2*pi and a step size of 0.01\n",
    "# This range allow us to see the symmetry of the filter.\n",
    "# YOUR CODE HERE\n",
    "raise NotImplementedError()"
   ]
  },
  {
   "cell_type": "code",
   "execution_count": null,
   "metadata": {
    "deletable": false,
    "editable": false,
    "nbgrader": {
     "cell_type": "code",
     "checksum": "09b513502a74a5134f3f1691ae7d908f",
     "grade": true,
     "grade_id": "cell-7ba9fdc888702e39",
     "locked": true,
     "points": 25,
     "schema_version": 3,
     "solution": false,
     "task": false
    }
   },
   "outputs": [],
   "source": [
    "H_w = filter_frequency_response(c,d,w)\n",
    "idft = np.fft.ifft(H_w)\n",
    "z, p, g = zeros_poles_gain(c, d)\n",
    "\n",
    "with open('zero_pole_step_4.pkl', 'rb') as file:\n",
    "    H_w_pkl, idft_pkl, (z_pkl, p_pkl, g_pkl) = pickle.load(file)\n",
    "\n",
    "assert np.isclose(H_w_pkl, H_w, atol=0.01).all()\n",
    "assert np.isclose(idft_pkl, idft, atol=0.01).all()\n",
    "assert np.isclose(z_pkl, z, atol=0.01).all()\n",
    "assert np.isclose(p_pkl, p, atol=0.01).all()\n",
    "assert np.isclose(g_pkl, g, atol=0.01).all()\n",
    "\n",
    "plt.rcParams[\"figure.figsize\"] = (15,5)\n",
    "\n",
    "plt.subplot(1, 3, 1)\n",
    "plt.plot(w/(max(w)), 20*np.log(np.absolute(H_w)))\n",
    "plt.title('Frequency Response')\n",
    "plt.xlabel('frequency')\n",
    "plt.ylabel('dB')\n",
    "plt.grid('on')\n",
    "\n",
    "plt.subplot(1, 3, 2)\n",
    "plt.stem(np.real(idft[0:25]), use_line_collection=True)\n",
    "plt.title('Impulse Response')\n",
    "plt.xlabel('sample')\n",
    "plt.grid('on')\n",
    "\n",
    "plot_zeros_poles(z, p)\n",
    "plt.title('Zeros and Poles')\n",
    "plt.xlabel('sample');"
   ]
  },
  {
   "cell_type": "markdown",
   "metadata": {
    "deletable": false,
    "editable": false,
    "nbgrader": {
     "cell_type": "markdown",
     "checksum": "e6a10a45af910194f93b876873dd1b17",
     "grade": false,
     "grade_id": "cell-646210277b6ce609",
     "locked": true,
     "schema_version": 3,
     "solution": false,
     "task": false
    }
   },
   "source": [
    "#### Reference\n",
    "* https://dsp.stackexchange.com/questions/41642/filter-design-with-zero-pole-placement-method\n",
    "* http://sepwww.stanford.edu/sep/prof/pvi/zp/paper_html/node30.html"
   ]
  }
 ],
 "metadata": {
  "kernelspec": {
   "display_name": "Python 3 (ipykernel)",
   "language": "python",
   "name": "python3"
  },
  "language_info": {
   "codemirror_mode": {
    "name": "ipython",
    "version": 3
   },
   "file_extension": ".py",
   "mimetype": "text/x-python",
   "name": "python",
   "nbconvert_exporter": "python",
   "pygments_lexer": "ipython3",
   "version": "3.10.4"
  }
 },
 "nbformat": 4,
 "nbformat_minor": 2
}
