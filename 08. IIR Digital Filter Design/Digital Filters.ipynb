{
 "cells": [
  {
   "cell_type": "markdown",
   "metadata": {
    "deletable": false,
    "editable": false,
    "nbgrader": {
     "cell_type": "markdown",
     "checksum": "6d77f42ceca4fe20d4d0ed1276068fc2",
     "grade": false,
     "grade_id": "cell-4b030a057a3035b0",
     "locked": true,
     "schema_version": 3,
     "solution": false,
     "task": false
    }
   },
   "source": [
    "# Digital Filters\n",
    "In this part we will introduce the two types of digital filters and how the z-transform is used for calculating their frequency response, and their zeros and poles.\n",
    "\n",
    "\n",
    "## The Z-Transform\n",
    "\n",
    "Just as analog filters are designed using the Laplace transform, recursive digital filters are developed with a parallel technique called the z-transform. The overall strategy of these two transforms is the same: probe the impulse response with sinusoids and exponentials to find the system's poles and zeros. The Laplace transform deals with differential equations, the s-domain, and the s-plane. Correspondingly, the z-transform deals with difference equations, the z-domain, and the z-plane. However, the two techniques are not a mirror image of each other; the s-plane is arranged in a rectangular coordinate system, while the z-plane uses a polar format. \n",
    "\n",
    "The standard form of the z-transform is given by:\n",
    "$$X(z) = \\sum \\limits^{\\infty}_{n=-\\infty} x[n]z^{-n} $$\n",
    "\n",
    "where $z=re^{j\\omega}$ and $r=e^{\\sigma}$.\n",
    "\n",
    "The utility to have the z-transform resides in the implementation of recursive filters, which uses *recursion coefficients*. To analyze these systems in the z-domain, we must be able to convert these recursion coefficients into the z-domain *transfer function*, and back again. Defining the z-transform in this manner ($r^n$ and $z$) provides the simplest means of moving between these two important representations. In fact, defining the z-domain in this way makes it trivial to move from one representation to the other."
   ]
  },
  {
   "cell_type": "markdown",
   "metadata": {
    "deletable": false,
    "editable": false,
    "nbgrader": {
     "cell_type": "markdown",
     "checksum": "6becfc300711aea6ad67dab64a4a6c08",
     "grade": false,
     "grade_id": "cell-47136cf11a78ab9a",
     "locked": true,
     "schema_version": 3,
     "solution": false,
     "task": false
    }
   },
   "source": [
    "## Stability and Relation with the Fourier Transform\n",
    "\n",
    "In a continous system, if a pole occupies the right half of the s-plane (by the use of the Laplace transform) the system will be unstable. In the case of a discrete system, the system will be unstable if the poles are outside the unit circle in the z-plane. When the time domain signal is completly real, the upper and lower halves of the z-plane are mirror images of each other, just as with the s-domain.\n",
    "\n",
    "A continous sinusoid can have any frequency between DC and infinity, a discrete sinusoid can only have a frequency between DC and one-half of the sampling rate. That is, frequency must be between 0 and 0.5, or between 0 and $\\pi$ when expressed as a natural frequency.\n",
    "\n",
    "The Laplace transform, evaluated at $\\sigma = 0$, is equal to the Fourier transform. Evaluating the z-transform at $r=1$ is equal to the Discrete Time Fourier Transform (DTFT)."
   ]
  },
  {
   "cell_type": "markdown",
   "metadata": {
    "deletable": false,
    "editable": false,
    "nbgrader": {
     "cell_type": "markdown",
     "checksum": "927de6101a1e532973fc2692d1a2e15f",
     "grade": false,
     "grade_id": "cell-f808776428b3e21a",
     "locked": true,
     "schema_version": 3,
     "solution": false,
     "task": false
    }
   },
   "source": [
    "## Analysis of Recursive Systems\n",
    "\n",
    "A recursive filter is described by a **difference equation**:\n",
    "\n",
    "$$ y[n] = a_0 x[n] + a_1 x[n-1] + a_2 x[n-2] + a_3 x[n-3] + \\cdot \\cdot \\cdot + b_1 y[n-1] + b_2 y[n-2] + b_3 y[n-3] + \\cdot \\cdot \\cdot $$ <br>\n",
    "where $x$ and $y$ are the input and output signals respectively, and $a$ and $b$ terms are the **recursion coefficients**.\n",
    "\n",
    "Applying the z-transform to difference equation gives us:\n",
    "\n",
    "$$ Y[z] = a_0 X(z) + a_1 X(z) z^{-1} + a_2 X(z) z^{-2} + a_3 X(z) z^{-3} + \\cdot \\cdot \\cdot + b_1 Y(z)z^{-1} + b_2 Y(z)z^{-2} + b_3 Y(z)z^{-3} + \\cdot \\cdot \\cdot $$\n",
    "\n",
    "\n",
    "and the **system's transfer function** is:\n",
    "\n",
    "$$H[z] = \\frac{a_0 + a_1z^{-1} + a_2z^{-2} + a_3z^{-3} + \\cdot \\cdot \\cdot}{1 - b_1z^{-1} - b_2z^{-2} - b_3z^{-3}} $$\n"
   ]
  },
  {
   "cell_type": "markdown",
   "metadata": {
    "deletable": false,
    "editable": false,
    "nbgrader": {
     "cell_type": "markdown",
     "checksum": "a17cac7ba93ce6dfb7f75ad924326672",
     "grade": false,
     "grade_id": "cell-6785d7a002ca4e31",
     "locked": true,
     "schema_version": 3,
     "solution": false,
     "task": false
    }
   },
   "source": [
    "## IIR Filters and FIR Filters\n",
    "\n",
    "The impulse response or the frequency response classify digital filters. If the impulse response of the filter falls to zero after a finite period of time, it is an FIR (Finite Impulse Response) filter. However, if the impulse response exists indefinitely, it is an IIR (Infinite Impulse Response) filter. How the output values are calculated determines whether the impulse response of a digital filter falls to zero after a finite period of time. For FIR filters the output values depend on the current and the previous input values, whereas for IIR filters the output values also depend on the previous output values.\n",
    "\n",
    "For a **FIR filter** we have the following difference equation\n",
    "\n",
    "$$ y[n] = a_0 x[n] + a_1 x[n-1] + a_2 x[n-2] + \\cdot \\cdot \\cdot + a_k x[n-k] $$ \n",
    "\n",
    "and the system's transfer function\n",
    "\n",
    "$$H[z] = a_0 + a_1z^{-1} + a_2z^{-2} + \\cdot \\cdot \\cdot + a_kz^{-k} $$\n",
    "\n",
    "<br>\n",
    "\n",
    "For a **IIR filter** we have the following difference equation:\n",
    "\n",
    "$$ y[n] = a_0 x[n] + a_1 x[n-1] + a_2 x[n-2] + a_3 x[n-3] + \\cdot \\cdot \\cdot + b_1 y[n-1] + b_2 y[n-2] + b_3 y[n-3] + \\cdot \\cdot \\cdot $$ \n",
    "\n",
    "and the system's transfer function:\n",
    "\n",
    "$$H[z] = \\frac{a_0 + a_1z^{-1} + a_2z^{-2} + a_3z^{-3} + \\cdot \\cdot \\cdot}{1 - b_1z^{-1} - b_2z^{-2} - b_3z^{-3}} $$\n",
    "\n",
    "<br>\n",
    "\n",
    "### Advantages and Disadvantages of FIR and IIR Filters\n",
    "\n",
    "The advantage of IIR filters over FIR filters is that **IIR filters usually require fewer coefficients** to execute similar filtering operations, that IIR filters work faster, and require less memory space.\n",
    "\n",
    "The disadvantage of **IIR filters** is the **nonlinear phase response**. IIR filters are well suited for applications that require no phase information, for example, for monitoring the signal amplitudes. FIR filters are better suited for applications that require a linear phase response."
   ]
  },
  {
   "cell_type": "markdown",
   "metadata": {
    "deletable": false,
    "editable": false,
    "nbgrader": {
     "cell_type": "markdown",
     "checksum": "43a61df3161fd68d831d518c84c3265d",
     "grade": false,
     "grade_id": "cell-82f1cd0b32aa1165",
     "locked": true,
     "schema_version": 3,
     "solution": false,
     "task": false
    }
   },
   "source": [
    "## Implementation:\n",
    "In the following section you will see the frequency response and, the poles and zeros of a filter given the coefficients of system's transfer function.\n",
    "\n",
    "We will work with the following transfer function:\n",
    "\n",
    "$$H[z] = \\frac{1.000 -1.414z + 1.000z^{2} }{0.810 -1.273z +1.000z^{2}} $$\n",
    "\n",
    "Note that our transfer function has the form:\n",
    "\n",
    "$$H[z] = \\frac{c_0 + c_1z + c_2z^{2} + c_3z^{3} + \\cdot \\cdot \\cdot}{d_0 + d_1z + d_2z^{2} + d_3z^{3}+ \\cdot \\cdot \\cdot} $$"
   ]
  },
  {
   "cell_type": "code",
   "execution_count": null,
   "metadata": {
    "deletable": false,
    "editable": false,
    "nbgrader": {
     "cell_type": "code",
     "checksum": "c48e1fd0550664c7c5092a65fa30c742",
     "grade": false,
     "grade_id": "cell-d7cd1341d61ca7d3",
     "locked": true,
     "schema_version": 3,
     "solution": false,
     "task": false
    }
   },
   "outputs": [],
   "source": [
    "import matplotlib.pyplot as plt\n",
    "import numpy as np\n",
    "import scipy.signal\n",
    "import pickle\n",
    "\n",
    "from aux_plots import plot_zeros_poles"
   ]
  },
  {
   "cell_type": "markdown",
   "metadata": {
    "deletable": false,
    "editable": false,
    "nbgrader": {
     "cell_type": "markdown",
     "checksum": "a4a762801e5b14ca0f3a694015e62ede",
     "grade": false,
     "grade_id": "cell-4daf0a2c1fa0b242",
     "locked": true,
     "schema_version": 3,
     "solution": false,
     "task": false
    }
   },
   "source": [
    "### Create a `filter_frequency_response` function\n",
    "First you need to create a function called `filter_frequency_response` which takes as arguments the numerator `c` coefficients and the denominator `d` coefficients of the $H[z]$ function described before. In this case `w` is the range of the frequency sweep and by default has a step size of 0.1. What your function needs to do is to return the values of $H[z]$ for all the specified `w` values. (Remember that $z = e^{j\\omega}$)"
   ]
  },
  {
   "cell_type": "code",
   "execution_count": null,
   "metadata": {
    "deletable": false,
    "nbgrader": {
     "cell_type": "code",
     "checksum": "8e0d60d3baf812046929e456b7d9f712",
     "grade": false,
     "grade_id": "cell-67eeee268b577bed",
     "locked": false,
     "schema_version": 3,
     "solution": true,
     "task": false
    }
   },
   "outputs": [],
   "source": [
    "def filter_frequency_response(c, d, w = np.arange(0, np.pi, 0.1)):\n",
    "    \"\"\" \n",
    "    Function that generates the frequency response of a digital filter given the coeficients of \n",
    "    polynomials c0 + c_1*x + c_2*x^2 + ... and d0 + d_1*x + d_2*x^2 + ...\n",
    "    This function evaluates the transfer function \n",
    "    H(x)=(c0 + c_1*x + c_2*x^2 + ...)/(d0 + d_1*x + d_2*x^2 + ...) where x is an element in vector w.\n",
    "  \n",
    "    Parameters: \n",
    "    w (numpy array): Array of natural frequency values.\n",
    "    c (numpy array): Array of recursion coefficients c.\n",
    "    d (numpy array): Array of recursion coefficients d.\n",
    "  \n",
    "    Returns: \n",
    "    numpy array: Returns filter response.\n",
    "  \n",
    "    \"\"\"\n",
    "    # YOUR CODE HERE\n",
    "    raise NotImplementedError()"
   ]
  },
  {
   "cell_type": "code",
   "execution_count": null,
   "metadata": {
    "deletable": false,
    "editable": false,
    "nbgrader": {
     "cell_type": "code",
     "checksum": "1a904905047fe56a17b31c6f78a28a2c",
     "grade": true,
     "grade_id": "cell-3f37f7dd9cd00949",
     "locked": true,
     "points": 60,
     "schema_version": 3,
     "solution": false,
     "task": false
    }
   },
   "outputs": [],
   "source": [
    "with open('filter_frequency_response.pkl', 'rb') as file:\n",
    "    H_w_pkl = pickle.load(file)\n",
    "    \n",
    "\n",
    "c = np.array([1, -1.414, 1])\n",
    "d = np.array([0.810, -1.273, 1])\n",
    "w = np.arange(0, np.pi, 0.01)\n",
    "\n",
    "H_w = filter_frequency_response(c,d,w)\n",
    "\n",
    "\n",
    "plt.rcParams[\"figure.figsize\"] = (15,5)\n",
    "\n",
    "plt.plot(w/(2*max(w)), 20*np.log(np.absolute(H_w)), label='Calculated')\n",
    "plt.plot(w/(2*max(w)), 20*np.log(np.absolute(H_w_pkl)), label='Expected')\n",
    "plt.title('Frequency Response')\n",
    "plt.xlabel('frequency')\n",
    "plt.ylabel('dB')\n",
    "plt.grid('on')\n",
    "plt.legend()\n",
    "plt.show()\n",
    "\n",
    "assert np.isclose(H_w, H_w_pkl, atol=0.01).all()"
   ]
  },
  {
   "cell_type": "markdown",
   "metadata": {
    "deletable": false,
    "editable": false,
    "nbgrader": {
     "cell_type": "markdown",
     "checksum": "a610c9fce994d6752670771db9da1dcf",
     "grade": false,
     "grade_id": "cell-f2c6e0e971b42608",
     "locked": true,
     "schema_version": 3,
     "solution": false,
     "task": false
    }
   },
   "source": [
    "### Create a `zeros_poles_gain` function\n",
    "Now you will need to create a function that returns the zeros, poles and gain of a given transfer function. Again, it's inputs are the numerator `c` coefficients and the denominator `d` coefficients of $H[z]$. For implementing this function you can use `scipy.signal.tf2zpk` according to your needs."
   ]
  },
  {
   "cell_type": "code",
   "execution_count": null,
   "metadata": {
    "deletable": false,
    "nbgrader": {
     "cell_type": "code",
     "checksum": "a0963e5be31a198cba361682313cdaa8",
     "grade": false,
     "grade_id": "cell-67eeee268b5774",
     "locked": false,
     "schema_version": 3,
     "solution": true,
     "task": false
    }
   },
   "outputs": [],
   "source": [
    "def zeros_poles_gain(c, d):\n",
    "    \"\"\" \n",
    "    Function that calculates the zeros, poles and gain of a given transfer function which consists of\n",
    "    the coeficients of polynomials c0 + c_1*x + c_2*x^2 + ... and d0 + d_1*x + d_2*x^2 + ...\n",
    "  \n",
    "    Parameters: \n",
    "    c (numpy array): Array of recursion coefficients c.\n",
    "    d (numpy array): Array of recursion coefficients d.\n",
    "  \n",
    "    Returns: z,p,g\n",
    "    z (numpy array): Zeros of transfer function.\n",
    "    p (numpy array): Poles of transfer function.\n",
    "    g (numpy array): Gain of transfer function.\n",
    "  \n",
    "    \"\"\"\n",
    "    # YOUR CODE HERE\n",
    "    raise NotImplementedError()"
   ]
  },
  {
   "cell_type": "code",
   "execution_count": null,
   "metadata": {
    "deletable": false,
    "editable": false,
    "nbgrader": {
     "cell_type": "code",
     "checksum": "f7433c300bcb745bf275912e23e3e4e7",
     "grade": true,
     "grade_id": "cell-597983b03a94100e",
     "locked": true,
     "points": 20,
     "schema_version": 3,
     "solution": false,
     "task": false
    }
   },
   "outputs": [],
   "source": [
    "z, p, g = zeros_poles_gain(c, d)\n",
    "\n",
    "plt.rcParams[\"figure.figsize\"] = (15,5)\n",
    "plot_zeros_poles(z, p)\n",
    "plt.title('Zeros and Poles')\n",
    "plt.xlabel('sample')\n",
    "plt.show()\n",
    "\n",
    "with open('zeros_poles_gain.pkl', 'rb') as file:\n",
    "    z_pkl, p_pkl, g_pkl  = pickle.load(file)\n",
    "    \n",
    "assert np.isclose(z, z_pkl, atol=0.01).all()\n",
    "assert np.isclose(p, p_pkl, atol=0.01).all()\n",
    "assert np.isclose(g, g_pkl, atol=0.01).all()"
   ]
  },
  {
   "cell_type": "markdown",
   "metadata": {
    "deletable": false,
    "editable": false,
    "nbgrader": {
     "cell_type": "markdown",
     "checksum": "eb7ac7f428bd83f44af17a7efe24cd7d",
     "grade": false,
     "grade_id": "cell-a76d3a49eb767f18",
     "locked": true,
     "schema_version": 3,
     "solution": false,
     "task": false
    }
   },
   "source": [
    "### See all results\n",
    "Finally you will see all the results together, including the Inverse Fourier Transform of $H[\\omega]$, to better understand your filter."
   ]
  },
  {
   "cell_type": "code",
   "execution_count": null,
   "metadata": {
    "deletable": false,
    "nbgrader": {
     "cell_type": "code",
     "checksum": "8e7ed0246e4338c38f8fd5b36c99ed07",
     "grade": false,
     "grade_id": "cell-821df22e47c5a702",
     "locked": false,
     "schema_version": 3,
     "solution": true,
     "task": false
    }
   },
   "outputs": [],
   "source": [
    "c = np.array([1, -1.414, 1])\n",
    "d = np.array([0.810, -1.273, 1])\n",
    "w = np.arange(0, np.pi, 0.01)\n",
    "\n",
    "H_w = filter_frequency_response(c,d,w)\n",
    "# Find the Inverse Fourier Transform of H_w and assign it to idft\n",
    "# YOUR CODE HERE\n",
    "raise NotImplementedError()\n",
    "z, p, g = zeros_poles_gain(c, d)"
   ]
  },
  {
   "cell_type": "code",
   "execution_count": null,
   "metadata": {
    "deletable": false,
    "editable": false,
    "nbgrader": {
     "cell_type": "code",
     "checksum": "f910c2ef6dafe3af22bf6d8bfbd918a9",
     "grade": true,
     "grade_id": "cell-60112b5f80f2a81d",
     "locked": true,
     "points": 20,
     "schema_version": 3,
     "solution": false,
     "task": false
    }
   },
   "outputs": [],
   "source": [
    "with open('idft.pkl', 'rb') as file:\n",
    "    idft_pkl = pickle.load(file)\n",
    "    \n",
    "assert np.isclose(idft, idft_pkl, atol=0.01).all()\n",
    "\n",
    "\n",
    "plt.rcParams[\"figure.figsize\"] = (15,5)\n",
    "\n",
    "plt.subplot(1, 3, 1)\n",
    "plt.plot(w/(2*max(w)), 20*np.log(np.absolute(H_w)))\n",
    "plt.title('Frequency Response')\n",
    "plt.xlabel('frequency')\n",
    "plt.ylabel('dB')\n",
    "plt.grid('on')\n",
    "\n",
    "plt.subplot(1, 3, 2)\n",
    "plt.stem(np.real(idft[0:25]), use_line_collection=True)\n",
    "plt.title('Impulse Response')\n",
    "plt.xlabel('sample')\n",
    "plt.grid('on')\n",
    "\n",
    "plot_zeros_poles(z, p)\n",
    "plt.title('Zeros and Poles')\n",
    "plt.xlabel('sample')\n",
    "plt.show()"
   ]
  },
  {
   "cell_type": "markdown",
   "metadata": {
    "deletable": false,
    "editable": false,
    "nbgrader": {
     "cell_type": "markdown",
     "checksum": "fac43d5cf651b10786d134b2260cae13",
     "grade": false,
     "grade_id": "cell-7eaf2d34d708f98a",
     "locked": true,
     "schema_version": 3,
     "solution": false,
     "task": false
    }
   },
   "source": [
    "#### Reference\n",
    "* https://www.dspguide.com/ch33.htm\n",
    "* https://docs.scipy.org/doc/scipy/reference/generated/scipy.signal.tf2zpk.html\n",
    "* https://zone.ni.com/reference/en-XX/help/370858P-01/genmaths/genmaths/calc_filterfir_iir/\n",
    "* https://www.minidsp.com/applications/dsp-basics/fir-vs-iir-filtering\n",
    "*  https://dsp.stackexchange.com/questions/41642/filter-design-with-zero-pole-placement-method"
   ]
  },
  {
   "cell_type": "code",
   "execution_count": null,
   "metadata": {},
   "outputs": [],
   "source": []
  }
 ],
 "metadata": {
  "kernelspec": {
   "display_name": "Python 3 (ipykernel)",
   "language": "python",
   "name": "python3"
  },
  "language_info": {
   "codemirror_mode": {
    "name": "ipython",
    "version": 3
   },
   "file_extension": ".py",
   "mimetype": "text/x-python",
   "name": "python",
   "nbconvert_exporter": "python",
   "pygments_lexer": "ipython3",
   "version": "3.10.4"
  }
 },
 "nbformat": 4,
 "nbformat_minor": 2
}
