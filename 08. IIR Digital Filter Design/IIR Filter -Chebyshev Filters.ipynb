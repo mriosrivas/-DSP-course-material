{
 "cells": [
  {
   "cell_type": "markdown",
   "metadata": {
    "deletable": false,
    "editable": false,
    "nbgrader": {
     "cell_type": "markdown",
     "checksum": "93cb2c2464450f410d136d0c0f91dfdb",
     "grade": false,
     "grade_id": "cell-6c42f1037affde9d",
     "locked": true,
     "schema_version": 3,
     "solution": false,
     "task": false
    }
   },
   "source": [
    "# IIR Filter -Chebyshev Filters\n",
    "\n",
    "<font color=\"blue\">Note: In order to run this Jupyter Notebook you must create a file named `digital_filters.py` inside the folder containing this Notebook with the following functions `filter_frequency_response` and `zeros_poles_gain` which were developed previously.</font> \n",
    "\n",
    "Chebyshev filters are used to separate one band of frequencies from another. Although they cannot match the performance of the windowed-sinc filter, they are more than adequate for many applications. The primary attribute of Chebyshev filters is their speed, typically more than an order of magnitude faster than the windowed-sinc. This is because they are carried out by recursion rather than convolution. The design of these filters is based on the z-transform.\n",
    "\n",
    "## The Chebyshev and Butterworth Responses\n",
    "The Chebyshev response is a mathematical strategy for achieving a faster roll-off by allowing ripple in the frequency response. Analog and digital filters that use this approach are called Chebyshev filters. These filters are named from their use of the Chebyshev polynomials, developed by the Russian mathematician Pafnuti Chebyshev (1821-1894).\n",
    "\n",
    "The Figure shows the frequency response of low-pass Chebyshev filters with passband ripples of: 0%, 0.5% and 20%. As the ripple increases (bad), the roll-off becomes sharper (good). The Chebyshev response is an optimal trade-off between these two parameters. When the ripple is set to 0%, the filter is called a maximally flat or Butterworth filter (after S. Butterworth, a British engineer who described this response in 1930). A ripple of 0.5% is a often good choice for digital filters. This matches the typical precision and accuracy of the analog electronics that the signal has passed through.\n",
    "\n",
    "![Chebyshev Roll Off](Images/Chebyshev_Roll_Off.gif)"
   ]
  },
  {
   "cell_type": "code",
   "execution_count": null,
   "metadata": {
    "deletable": false,
    "editable": false,
    "nbgrader": {
     "cell_type": "code",
     "checksum": "ae68f0c545150b05fe64cf861e5d8532",
     "grade": false,
     "grade_id": "cell-da05f62e240a1c80",
     "locked": true,
     "schema_version": 3,
     "solution": false,
     "task": false
    }
   },
   "outputs": [],
   "source": [
    "import matplotlib.pyplot as plt\n",
    "import numpy as np\n",
    "import pickle\n",
    "\n",
    "from digital_filters import filter_frequency_response, zeros_poles_gain\n",
    "from aux_plots import plot_zeros_poles, plot_frequency_response\n",
    "from scipy.signal import cheby1\n",
    "from scipy.signal import lfilter"
   ]
  },
  {
   "cell_type": "markdown",
   "metadata": {
    "deletable": false,
    "editable": false,
    "nbgrader": {
     "cell_type": "markdown",
     "checksum": "8bf6ecd342fc1dc98fdeced7faa5c382",
     "grade": false,
     "grade_id": "cell-d2673f4a09488ba8",
     "locked": true,
     "schema_version": 3,
     "solution": false,
     "task": false
    }
   },
   "source": [
    "## Designing the Filter\n",
    "You must select four parameters to design a Chebyshev filter: \n",
    "1. A high-pass or low-pass response.\n",
    "2. The cutoff frequency.\n",
    "3. The allowed ripple in the passband.\n",
    "4. The number of poles. \n",
    "\n",
    "We will design a 6th order low pass Chebyshev filter with a cutoff frequency of 16Hz for a signal that has been sampled at 64Hz. The allowed ripple for this filter is 0.1 dB."
   ]
  },
  {
   "cell_type": "code",
   "execution_count": null,
   "metadata": {
    "deletable": false,
    "nbgrader": {
     "cell_type": "code",
     "checksum": "caf478adbd0fae42b2b0ba98df8be721",
     "grade": false,
     "grade_id": "cell-8f29dcd761c76a43",
     "locked": false,
     "schema_version": 3,
     "solution": true,
     "task": false
    }
   },
   "outputs": [],
   "source": [
    "# Set a sampling frequency variable fs to 64 Hz\n",
    "# YOUR CODE HERE\n",
    "raise NotImplementedError()\n",
    "\n",
    "# Desired filter parameters\n",
    "# Set an order variable to 6\n",
    "# YOUR CODE HERE\n",
    "raise NotImplementedError()\n",
    "\n",
    "# Set a ripple variable to 0.1 dB\n",
    "# YOUR CODE HERE\n",
    "raise NotImplementedError()\n",
    "\n",
    "# Set a fcut variable to 16 Hz\n",
    "# YOUR CODE HERE\n",
    "raise NotImplementedError()\n",
    "\n",
    "# The scipy.signal.cheby1 function uses a normalized frequency argument variable wn\n",
    "# Find the normalized wn value\n",
    "# YOUR CODE HERE\n",
    "raise NotImplementedError()\n",
    "\n",
    "# Use the scipy.signal.cheby1 function to create a lowpass filter with the\n",
    "# order, ripple, wn variables.\n",
    "# Other btype arguments can be 'lowpass', 'highpass', 'bandpass' or 'bandstop'\n",
    "# YOUR CODE HERE\n",
    "raise NotImplementedError()"
   ]
  },
  {
   "cell_type": "code",
   "execution_count": null,
   "metadata": {
    "deletable": false,
    "editable": false,
    "nbgrader": {
     "cell_type": "code",
     "checksum": "38c8bb59fd903ad69458e98620419b29",
     "grade": true,
     "grade_id": "cell-d91ad303a9c01306",
     "locked": true,
     "points": 20,
     "schema_version": 3,
     "solution": false,
     "task": false
    }
   },
   "outputs": [],
   "source": [
    "with open('cheby1.pkl', 'rb') as file:\n",
    "    a_pkl,b_pkl = pickle.load(file)\n",
    "    \n",
    "assert np.isclose(a_pkl, a).all()\n",
    "assert np.isclose(b_pkl, b).all()"
   ]
  },
  {
   "cell_type": "code",
   "execution_count": null,
   "metadata": {
    "deletable": false,
    "editable": false,
    "nbgrader": {
     "cell_type": "code",
     "checksum": "199950b1dc60504927a678bf77a23fa0",
     "grade": false,
     "grade_id": "cell-1df18ac35c18a66f",
     "locked": true,
     "schema_version": 3,
     "solution": false,
     "task": false
    }
   },
   "outputs": [],
   "source": [
    "# We need to put our coefficients in our programming style.\n",
    "c = np.flip(a)\n",
    "d = np.flip(b)\n",
    "w = np.arange(0, np.pi, 0.01)\n",
    "\n",
    "H_w = filter_frequency_response(c, d, w)\n",
    "idft = np.fft.ifft(H_w)\n",
    "z, p, g = zeros_poles_gain(c, d)\n",
    "\n",
    "plt.rcParams[\"figure.figsize\"] = (15,5)\n",
    "\n",
    "plt.subplot(1, 3, 1)\n",
    "plt.plot(w/(2*max(w)), 20*np.log(np.absolute(H_w)))\n",
    "plt.title('Frequency Response')\n",
    "plt.xlabel('frequency')\n",
    "plt.ylabel('dB')\n",
    "plt.grid('on')\n",
    "\n",
    "plt.subplot(1, 3, 2)\n",
    "plt.stem(np.real(idft[0:25]), use_line_collection=True)\n",
    "plt.title('Impulse Response')\n",
    "plt.xlabel('sample')\n",
    "plt.grid('on')\n",
    "\n",
    "plot_zeros_poles(z, p)\n",
    "plt.title('Zeros and Poles')\n",
    "plt.xlabel('sample');"
   ]
  },
  {
   "cell_type": "code",
   "execution_count": null,
   "metadata": {
    "deletable": false,
    "editable": false,
    "nbgrader": {
     "cell_type": "code",
     "checksum": "f8c332da1ff7a666c438b324f532c328",
     "grade": false,
     "grade_id": "cell-7b937c1b984e70a5",
     "locked": true,
     "schema_version": 3,
     "solution": false,
     "task": false
    }
   },
   "outputs": [],
   "source": [
    "plt.plot(w[0:200]/(2*max(w)), 20*np.log(np.absolute(H_w[0:200])))\n",
    "plt.title('Frequency Response')\n",
    "plt.xlabel('frequency')\n",
    "plt.ylabel('dB')\n",
    "plt.grid('on')"
   ]
  },
  {
   "cell_type": "markdown",
   "metadata": {
    "deletable": false,
    "editable": false,
    "nbgrader": {
     "cell_type": "markdown",
     "checksum": "7c19bd3064a45d1eceae3337993072b9",
     "grade": false,
     "grade_id": "cell-cace3f11a3ebbe93",
     "locked": true,
     "schema_version": 3,
     "solution": false,
     "task": false
    }
   },
   "source": [
    "## Using the Filter\n",
    "We will use the designed filter by implementing the difference equation\n",
    "\n",
    "$$ y[n] = a_0 x[n] + a_1 x[n-1] + a_2 x[n-2] + \\cdot \\cdot \\cdot + b_1 y[n-1] + b_2 y[n-2] + \\cdot \\cdot \\cdot $$ \n",
    "\n",
    "as a **Direct II Transposed Structure**.\n",
    "\n",
    "The following Figure shows an example of a direct II transpose structure.\n",
    "\n",
    "![Direct II Transposed Structure](Images/Transposed_Direct_Form_II.png)\n",
    "\n",
    "As it can bee seen in the Figure, a state variable $s[n]$ is introduced. \n",
    "\n",
    "The following code shows the pseudo code implementation of the direct II transpose structure.\n",
    "\n",
    "``` python\n",
    "     y[n] = a[0] * x[n]               + s[0][n-1]\n",
    "  s[0][n] = a[1] * x[n] - b[1] * y[n] + s[1][n-1]\n",
    "  s[1][n] = a[2] * x[n] - b[2] * y[n] + s[2][n-1]\n",
    "...\n",
    "s[N-2][n] = a[N-1]*x[n] - b[N-1]*y[n] + s[N-1][n-1]\n",
    "s[N-1][n] = a[N] * x[n] - b[N] * y[n]\n",
    "\n",
    "```\n",
    "\n",
    "Now you need to create a function named `filter_dtype_ii` and implement the direct II transpose structure. This function takes as input an array `a` of numerator coefficients, an array `b` of denominator coefficients, and a signal `x`."
   ]
  },
  {
   "cell_type": "code",
   "execution_count": null,
   "metadata": {
    "deletable": false,
    "nbgrader": {
     "cell_type": "code",
     "checksum": "aeeb70991064f667be576e0342b16ab6",
     "grade": false,
     "grade_id": "cell-885169d6a26f27f7",
     "locked": false,
     "schema_version": 3,
     "solution": true,
     "task": false
    }
   },
   "outputs": [],
   "source": [
    "def filter_dtype_ii(a, b, x):\n",
    "    \"\"\" \n",
    "    Direct II Transposed Structure implementation of digital filter.\n",
    "  \n",
    "    Parameters: \n",
    "    a (numpy array): Array of numerator filter coefficients.\n",
    "    b (numpy array): Array of denominator filter coefficients.\n",
    "    x (numpy array): Array of signal of interest.\n",
    "  \n",
    "    Returns: \n",
    "    numpy array: Returns filter response.\n",
    "  \n",
    "    \"\"\"\n",
    "    # YOUR CODE HERE\n",
    "    raise NotImplementedError()"
   ]
  },
  {
   "cell_type": "code",
   "execution_count": null,
   "metadata": {
    "deletable": false,
    "editable": false,
    "nbgrader": {
     "cell_type": "code",
     "checksum": "62da1b888de18116988e002e6330a621",
     "grade": true,
     "grade_id": "cell-505fa1f3981fa924",
     "locked": true,
     "points": 40,
     "schema_version": 3,
     "solution": false,
     "task": false
    }
   },
   "outputs": [],
   "source": [
    "np.random.seed(42)\n",
    "x = np.random.random(100)\n",
    "\n",
    "assert np.allclose(filter_dtype_ii(a, b, x), lfilter(a, b, x), atol=0.01)"
   ]
  },
  {
   "cell_type": "markdown",
   "metadata": {
    "deletable": false,
    "editable": false,
    "nbgrader": {
     "cell_type": "markdown",
     "checksum": "3f5c83bf4fb963742b488bf8afd36b35",
     "grade": false,
     "grade_id": "cell-54934f1e4ab2369d",
     "locked": true,
     "schema_version": 3,
     "solution": false,
     "task": false
    }
   },
   "source": [
    "### Generating a signal for testing the filter\n",
    "After you successfully created the Chebyshev filter, it is time to test it. For this purpose, we will create a dummy signal sampled at 64Hz that has two frequency components of 20 and 16Hz. Since our filter is a low pass one with a cutoff frequency of 16Hz, we should be able to get rid of the 20Hz component."
   ]
  },
  {
   "cell_type": "code",
   "execution_count": null,
   "metadata": {
    "deletable": false,
    "nbgrader": {
     "cell_type": "code",
     "checksum": "69ce15379137bdef6409e41abb590ddb",
     "grade": false,
     "grade_id": "cell-15694ff05ef5fd7c",
     "locked": false,
     "schema_version": 3,
     "solution": true,
     "task": false
    }
   },
   "outputs": [],
   "source": [
    "# Set a sampling frequency variable fs to 64 Hz\n",
    "# YOUR CODE HERE\n",
    "raise NotImplementedError()\n",
    "\n",
    "# Set two frequency components. One named fc1 to 20 Hz and the other fc2 to 16 Hz.\n",
    "# YOUR CODE HERE\n",
    "raise NotImplementedError()\n",
    "\n",
    "# Set a variable t with a range of values between 0 (inclusive) and 2 (exclusive)\n",
    "# Separate each sample by 1/fs\n",
    "# YOUR CODE HERE\n",
    "raise NotImplementedError()\n",
    "\n",
    "# Create two sine signals.\n",
    "# Assign to x1 a sine signal with frequency fc1 and time t\n",
    "# Assign to x2 a sine signal with frequency fc2 and time t\n",
    "# YOUR CODE HERE\n",
    "raise NotImplementedError()\n",
    "\n",
    "# Add both sine signals and assign it to x\n",
    "# YOUR CODE HERE\n",
    "raise NotImplementedError()\n",
    "\n",
    "# Fourier calculation\n",
    "dft = np.fft.fft2(x.reshape(-1,1))\n",
    "X = np.abs(dft)\n",
    "f = np.linspace(0, 1, X.shape[0])*2*fs"
   ]
  },
  {
   "cell_type": "code",
   "execution_count": null,
   "metadata": {
    "deletable": false,
    "editable": false,
    "nbgrader": {
     "cell_type": "code",
     "checksum": "09040fd3bd4efb85e8d59c91bd9827aa",
     "grade": true,
     "grade_id": "cell-04b4e9eb2bf8a509",
     "locked": true,
     "points": 20,
     "schema_version": 3,
     "solution": false,
     "task": false
    }
   },
   "outputs": [],
   "source": [
    "with open('signal.pkl', 'rb') as file:\n",
    "    x_pkl, x1_pkl, x2_pkl = pickle.load(file)\n",
    "    \n",
    "assert np.isclose(x1_pkl, x1).all()\n",
    "assert np.isclose(x2_pkl, x2).all()\n",
    "assert np.isclose(x_pkl, x).all()\n",
    "\n",
    "plt.rcParams[\"figure.figsize\"] = (15,5)\n",
    "\n",
    "plt.subplot(1,2,1)\n",
    "plt.plot(t,x)\n",
    "plt.title('Signal')\n",
    "plt.xlabel('time')\n",
    "plt.ylabel('Amplitude')\n",
    "plt.grid('on')\n",
    "\n",
    "plt.subplot(1,2,2)\n",
    "plot_frequency_response(X, f, title='Signal\\'s FFT')\n",
    "\n",
    "delta = 2\n",
    "plt.vlines(x=fs, ymin=20*np.log10(X.min()), ymax=20*np.log10(X.max()+delta), linestyle='--', color='red')\n",
    "plt.text(fs+delta, 0, 'Symmetry')\n",
    "\n",
    "plt.show()"
   ]
  },
  {
   "cell_type": "markdown",
   "metadata": {
    "deletable": false,
    "editable": false,
    "nbgrader": {
     "cell_type": "markdown",
     "checksum": "47c7dacbcb36265c1b0bf0a300357048",
     "grade": false,
     "grade_id": "cell-eac493a0f2163bed",
     "locked": true,
     "schema_version": 3,
     "solution": false,
     "task": false
    }
   },
   "source": [
    "To test our filter function`filter_dtype_ii` we can compare it's results against the `lfilter` provided by SciPy."
   ]
  },
  {
   "cell_type": "code",
   "execution_count": null,
   "metadata": {
    "deletable": false,
    "nbgrader": {
     "cell_type": "code",
     "checksum": "d09dccbb37721fbc24b5cc988313be85",
     "grade": false,
     "grade_id": "cell-b0eb2a4c8feac4d9",
     "locked": false,
     "schema_version": 3,
     "solution": true,
     "task": false
    }
   },
   "outputs": [],
   "source": [
    "# Use your function filter_dtype with signal x as input and the \n",
    "# Chevyshev coefficients a and b as parameters.\n",
    "# YOUR CODE HERE\n",
    "raise NotImplementedError()\n",
    "\n",
    "# Scipy Implementation is used here for comparisson\n",
    "y_scipy = lfilter(a, b, x)\n",
    "\n",
    "# Fourier Transform of our filter implementation\n",
    "dft_filter = np.fft.fft2(y_filter.reshape(-1,1))\n",
    "Y_filter = np.abs(dft_filter)\n",
    "F_filter = np.linspace(0, 1, Y_filter.shape[0])*2*fs\n",
    "\n",
    "# Fourier Transform of SciPy implementation\n",
    "dft_scipy = np.fft.fft2(y_scipy.reshape(-1,1))\n",
    "Y_scipy = np.abs(dft_scipy)\n",
    "F_scipy = np.linspace(0, 1, Y_scipy.shape[0])*2*fs"
   ]
  },
  {
   "cell_type": "code",
   "execution_count": null,
   "metadata": {
    "deletable": false,
    "editable": false,
    "nbgrader": {
     "cell_type": "code",
     "checksum": "1f442bdd65fd5911ddcaa6a7c71301c1",
     "grade": true,
     "grade_id": "cell-9663e4c6711983de",
     "locked": true,
     "points": 20,
     "schema_version": 3,
     "solution": false,
     "task": false
    }
   },
   "outputs": [],
   "source": [
    "assert np.allclose(y_filter, y_scipy, atol=0.01)\n",
    "\n",
    "plt.rcParams[\"figure.figsize\"] = (15,5)\n",
    "\n",
    "plt.subplot(1,2,1)\n",
    "plt.plot(t,y_filter, label='implemented')\n",
    "plt.plot(t,y_scipy, label='SciPy')\n",
    "plt.title('Signal')\n",
    "plt.xlabel('time')\n",
    "plt.ylabel('Amplitude')\n",
    "plt.grid('on')\n",
    "plt.legend();\n",
    "\n",
    "plt.subplot(1,2,2)\n",
    "plot_frequency_response(Y_filter, F_filter, title='Signal\\'s FFT', label='implemented')\n",
    "plot_frequency_response(Y_scipy, F_scipy, title='Signal\\'s FFT', label='SciPy')\n",
    "delta = 2\n",
    "plt.vlines(x=fs, ymin=20*np.log10(Y_scipy.min()), ymax=20*np.log10(Y_scipy.max()+delta), linestyle='--', color='red')\n",
    "plt.text(fs+delta, 10, 'Symmetry')\n",
    "plt.legend();"
   ]
  },
  {
   "cell_type": "markdown",
   "metadata": {
    "deletable": false,
    "editable": false,
    "nbgrader": {
     "cell_type": "markdown",
     "checksum": "b424bb44c7274955bede405ad20fa1e4",
     "grade": false,
     "grade_id": "cell-ecbcd4bd38603a2e",
     "locked": true,
     "schema_version": 3,
     "solution": false,
     "task": false
    }
   },
   "source": [
    "#### Reference\n",
    "* https://www.dspguide.com/ch20/2.htm \n",
    "* https://docs.scipy.org/doc/scipy/reference/generated/scipy.signal.cheby1.html \n",
    "* https://www.dsprelated.com/freebooks/filters/Four_Direct_Forms.html \n",
    "* https://www.dsprelated.com/freebooks/filters/Transposed_Direct_Forms.html"
   ]
  }
 ],
 "metadata": {
  "kernelspec": {
   "display_name": "Python 3 (ipykernel)",
   "language": "python",
   "name": "python3"
  },
  "language_info": {
   "codemirror_mode": {
    "name": "ipython",
    "version": 3
   },
   "file_extension": ".py",
   "mimetype": "text/x-python",
   "name": "python",
   "nbconvert_exporter": "python",
   "pygments_lexer": "ipython3",
   "version": "3.10.4"
  }
 },
 "nbformat": 4,
 "nbformat_minor": 2
}
