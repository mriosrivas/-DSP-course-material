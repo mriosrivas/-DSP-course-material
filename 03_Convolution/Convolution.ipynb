{
 "cells": [
  {
   "cell_type": "markdown",
   "metadata": {
    "deletable": false,
    "editable": false,
    "nbgrader": {
     "cell_type": "markdown",
     "checksum": "25117b5892c1a5c8249d27a2e157fbc0",
     "grade": false,
     "grade_id": "cell-202d693f9c14f02c",
     "locked": true,
     "schema_version": 3,
     "solution": false,
     "task": false
    }
   },
   "source": [
    "# Convolution\n",
    "\n",
    "Convolution is a mathematical way of combining two signals to form a third signal. It is the single most important technique in Digital Signal Processing. Using the strategy of impulse decomposition, systems are described by a signal called the impulse response. Convolution is important because it relates the three signals of interest: the input signal, the output signal, and the impulse response. \n",
    "\n",
    "This chapter presents 1D and 2D convolution. For 1D convolution two different viewpoints, called the **input side algorithm** and the **output side algorithm**. are shown, then a vectorized implementation is presented. For 2D convolution a vectorized form is presented applied to image processing."
   ]
  },
  {
   "cell_type": "markdown",
   "metadata": {
    "deletable": false,
    "editable": false,
    "nbgrader": {
     "cell_type": "markdown",
     "checksum": "5fb64cea31b215d9b163bc720a90be6d",
     "grade": false,
     "grade_id": "cell-b050c3564c2df7bb",
     "locked": true,
     "schema_version": 3,
     "solution": false,
     "task": false
    }
   },
   "source": [
    "## 1D Convolution\n",
    "The mathematical form of the convolution is:\n",
    "\n",
    "$$ y[i] = \\sum_{j=0}^{M-1}{x[j]h[i-j]} $$"
   ]
  },
  {
   "cell_type": "markdown",
   "metadata": {
    "deletable": false,
    "editable": false,
    "nbgrader": {
     "cell_type": "markdown",
     "checksum": "bb2c4e1751816b00ed6e19c85d04a0b7",
     "grade": false,
     "grade_id": "cell-1fb3c89f1af5e548",
     "locked": true,
     "schema_version": 3,
     "solution": false,
     "task": false
    }
   },
   "source": [
    "To develop the convolution we define the following:\n",
    "    \n",
    "* Input Signal $x[n]$ of size $N$ \n",
    "* Impulse Response $h[n]$ of size $M$\n",
    "* Output Signal $y[n]$ of size $N + M -1$\n",
    "\n",
    "There are two types of algorithms that can be performed:\n",
    "\n",
    "1. Output Side Algorithm\n",
    "2. Input Side Algorithm"
   ]
  },
  {
   "cell_type": "markdown",
   "metadata": {
    "deletable": false,
    "editable": false,
    "nbgrader": {
     "cell_type": "markdown",
     "checksum": "eba51fde1dd2aadcfa900c9a279d301c",
     "grade": false,
     "grade_id": "cell-69cf179bda585331",
     "locked": true,
     "schema_version": 3,
     "solution": false,
     "task": false
    }
   },
   "source": [
    "### 1. Output Side Algorithm\n",
    "Analyzes how each sample in the input signal affects many samples in the output signal. (We sum the contributions of each input to every output sample.)\n",
    "\n",
    "![Input Side Algorithm](Images/input_side_algorithm.gif)\n",
    "\n",
    "The algorithm calculates the convolution in the following way:\n",
    "\n",
    "\n",
    "$$y[n] = \\sum_{i=0}^{N-1}  \\sum_{j=0}^{M-1}{x[i]h[j]}$$ \n",
    "\n",
    "where $n = i+j$, $M$ is the length of the impulse response and $N$ the input signal size and $y[n]$ has a size of $M+N-1$.\n"
   ]
  },
  {
   "cell_type": "code",
   "execution_count": null,
   "metadata": {
    "deletable": false,
    "editable": false,
    "nbgrader": {
     "cell_type": "code",
     "checksum": "43c47099690c1f71ecf4bd2bebb3d9e1",
     "grade": false,
     "grade_id": "cell-f6aaa6a38971758d",
     "locked": true,
     "schema_version": 3,
     "solution": false,
     "task": false
    }
   },
   "outputs": [],
   "source": [
    "import numpy as np\n",
    "import matplotlib.pyplot as plt\n",
    "\n",
    "import pickle"
   ]
  },
  {
   "cell_type": "code",
   "execution_count": null,
   "metadata": {
    "deletable": false,
    "editable": false,
    "nbgrader": {
     "cell_type": "code",
     "checksum": "1657f647ab2326867725371608e710f1",
     "grade": false,
     "grade_id": "cell-522c6c89de84c2ce",
     "locked": true,
     "schema_version": 3,
     "solution": false,
     "task": false
    }
   },
   "outputs": [],
   "source": [
    "file = {'x':'Signals/InputSignal_f32_1kHz_15kHz.dat', 'h':'Signals/Impulse_response.dat'}\n",
    "\n",
    "x = np.loadtxt(file['x'])\n",
    "N,M = x.shape\n",
    "x = x.reshape(N*M, 1)\n",
    "\n",
    "h = np.loadtxt(file['h'])\n",
    "N = h.shape[0]\n",
    "h = h.reshape(N, 1)"
   ]
  },
  {
   "cell_type": "code",
   "execution_count": null,
   "metadata": {
    "deletable": false,
    "nbgrader": {
     "cell_type": "code",
     "checksum": "68ac3d330cd423fb325038d8e2282002",
     "grade": false,
     "grade_id": "cell-ecbd5dc29321e488",
     "locked": false,
     "schema_version": 3,
     "solution": true,
     "task": false
    }
   },
   "outputs": [],
   "source": [
    "def convolve_output_algorithm(x, h):\n",
    "    \"\"\" \n",
    "    Function that convolves an input signal x with an step response h using the output side algorithm.\n",
    "  \n",
    "    Parameters: \n",
    "    x (numpy array): Array of numbers representing the input signal to be convolved.\n",
    "    h (numpy array): Array of numbers representing the unit step response of a filter.\n",
    "  \n",
    "    Returns: \n",
    "    numpy array: Returns convolved signal y[n]=h[n]*x[n].\n",
    "  \n",
    "    \"\"\"\n",
    "    M = h.shape[0]\n",
    "    N = x.shape[0]\n",
    "\n",
    "    output = np.zeros(M+N-1)\n",
    "    \n",
    "    # YOUR CODE HERE\n",
    "    raise NotImplementedError()\n",
    "    \n",
    "    return output.reshape(-1,1)    "
   ]
  },
  {
   "cell_type": "code",
   "execution_count": null,
   "metadata": {
    "deletable": false,
    "editable": false,
    "nbgrader": {
     "cell_type": "code",
     "checksum": "049d275a032608cc35cd7168b535b8f9",
     "grade": true,
     "grade_id": "cell-997e6ecdb8169574",
     "locked": true,
     "points": 25,
     "schema_version": 3,
     "solution": false,
     "task": false
    }
   },
   "outputs": [],
   "source": [
    "output = convolve_output_algorithm(x, h)\n",
    "\n",
    "assert np.isclose(output, (np.convolve(x.reshape(-1), h.reshape(-1))).reshape(-1,1)).all()"
   ]
  },
  {
   "cell_type": "code",
   "execution_count": null,
   "metadata": {
    "deletable": false,
    "editable": false,
    "nbgrader": {
     "cell_type": "code",
     "checksum": "17d630ae332848d79cc214bdf7e7627d",
     "grade": false,
     "grade_id": "cell-66f8f3c76a6f734f",
     "locked": true,
     "schema_version": 3,
     "solution": false,
     "task": false
    }
   },
   "outputs": [],
   "source": [
    "plt.rcParams['figure.figsize'] = (12,12)\n",
    "\n",
    "plt.subplot(2,2,1)\n",
    "plt.plot(x)\n",
    "plt.title('Input Signal')\n",
    "plt.xlabel('Samples')\n",
    "plt.ylabel('Amplitude')\n",
    "plt.grid('on')\n",
    "\n",
    "plt.subplot(2,2,2)\n",
    "plt.plot(h)\n",
    "plt.title('Filter Impulse Response')\n",
    "plt.xlabel('Samples')\n",
    "plt.ylabel('Amplitude')\n",
    "plt.grid('on')\n",
    "\n",
    "plt.subplot(2,1,2)\n",
    "plt.plot(output)\n",
    "plt.title('Output Signal, Output Side Algorithm')\n",
    "plt.xlabel('Samples')\n",
    "plt.ylabel('Amplitude')\n",
    "plt.grid('on')\n",
    "plt.show()"
   ]
  },
  {
   "cell_type": "markdown",
   "metadata": {
    "deletable": false,
    "editable": false,
    "nbgrader": {
     "cell_type": "markdown",
     "checksum": "cef2068aa37cbaeaa2852dda761f7187",
     "grade": false,
     "grade_id": "cell-50a553e7228168df",
     "locked": true,
     "schema_version": 3,
     "solution": false,
     "task": false
    }
   },
   "source": [
    "### 2. Input Side Algorithm\n",
    "We look at individual samples in the output signal and find the contributing points from the input. (We find who contributed to the output.)\n",
    "\n",
    "The algorithm calculates the convolution in the following way:\n",
    "\n",
    "[//]: $$y[i] = \\sum_{i=0}^{M+N-1}  \\sum_{j=0}^{M-1}{h[j]x[i-j]}$$ \n",
    "$$y[i] = \\sum_{j=0}^{M-1}{h[j]x[i-j]}$$ \n",
    "\n",
    "if $$i-j>0 $$ and $$i-j<N-1$$\n",
    "\n",
    "where $M$ is the length of the impulse response and $N$ the input signal size and $y[n]$ has a size of $M+N-1$."
   ]
  },
  {
   "cell_type": "code",
   "execution_count": null,
   "metadata": {
    "deletable": false,
    "nbgrader": {
     "cell_type": "code",
     "checksum": "32ba6db7e13a2b9f8b3d956f4a4f818a",
     "grade": false,
     "grade_id": "cell-055de0ef879a7884",
     "locked": false,
     "schema_version": 3,
     "solution": true,
     "task": false
    }
   },
   "outputs": [],
   "source": [
    "def convolve_input_algorithm(x, h):\n",
    "    \"\"\" \n",
    "    Function that convolves an input signal x with an step response h using the input side algorithm.\n",
    "  \n",
    "    Parameters: \n",
    "    x (numpy array): Array of numbers representing the input signal to be convolved.\n",
    "    h (numpy array): Array of numbers representing the unit step response of a filter.\n",
    "  \n",
    "    Returns: \n",
    "    numpy array: Returns convolved signal y[n]=h[n]*x[n].\n",
    "  \n",
    "    \"\"\"\n",
    "    M = h.shape[0]\n",
    "    N = x.shape[0]\n",
    "\n",
    "    output = np.zeros(M+N-1)\n",
    "    \n",
    "    # YOUR CODE HERE\n",
    "    raise NotImplementedError()\n",
    "    \n",
    "    return output.reshape(-1,1)    "
   ]
  },
  {
   "cell_type": "code",
   "execution_count": null,
   "metadata": {
    "deletable": false,
    "editable": false,
    "nbgrader": {
     "cell_type": "code",
     "checksum": "a3e09d214b3afcb41dad5080481f0861",
     "grade": true,
     "grade_id": "cell-67bfb8e01e13b859",
     "locked": true,
     "points": 20,
     "schema_version": 3,
     "solution": false,
     "task": false
    }
   },
   "outputs": [],
   "source": [
    "output_ = convolve_input_algorithm(x, h)\n",
    "\n",
    "assert np.isclose(output_, (np.convolve(x.reshape(-1), h.reshape(-1))).reshape(-1,1)).all()"
   ]
  },
  {
   "cell_type": "code",
   "execution_count": null,
   "metadata": {
    "deletable": false,
    "editable": false,
    "nbgrader": {
     "cell_type": "code",
     "checksum": "48f6896ce981c996ac39d99c360cdd93",
     "grade": false,
     "grade_id": "cell-602bc4d5c30e0360",
     "locked": true,
     "schema_version": 3,
     "solution": false,
     "task": false
    }
   },
   "outputs": [],
   "source": [
    "plt.rcParams['figure.figsize'] = (12,12)\n",
    "\n",
    "plt.subplot(2,2,1)\n",
    "plt.plot(x)\n",
    "plt.title('Input Signal')\n",
    "plt.xlabel('Samples')\n",
    "plt.ylabel('Amplitude')\n",
    "plt.grid('on')\n",
    "\n",
    "plt.subplot(2,2,2)\n",
    "plt.plot(h)\n",
    "plt.title('Filter Impulse Response')\n",
    "plt.xlabel('Samples')\n",
    "plt.ylabel('Amplitude')\n",
    "plt.grid('on')\n",
    "\n",
    "plt.subplot(2,1,2)\n",
    "plt.plot(output_)\n",
    "plt.title('Output Signal, Input Side Algorithm')\n",
    "plt.xlabel('Samples')\n",
    "plt.ylabel('Amplitude')\n",
    "plt.grid('on')\n",
    "\n",
    "plt.show()"
   ]
  },
  {
   "cell_type": "markdown",
   "metadata": {
    "deletable": false,
    "editable": false,
    "nbgrader": {
     "cell_type": "markdown",
     "checksum": "8e4d517e10e94885bc962348e56c7fe2",
     "grade": false,
     "grade_id": "cell-90954992a5137852",
     "locked": true,
     "schema_version": 3,
     "solution": false,
     "task": false
    }
   },
   "source": [
    "### Comparison Between Speeds of Both Algorithms\n",
    "`%timeit` is an ipython magic function, which can be used to time a particular piece of code (A single execution statement, or a single method)."
   ]
  },
  {
   "cell_type": "code",
   "execution_count": null,
   "metadata": {
    "deletable": false,
    "editable": false,
    "nbgrader": {
     "cell_type": "code",
     "checksum": "d71950994f074a792e22bae70a768d54",
     "grade": false,
     "grade_id": "cell-5dd67f716086008f",
     "locked": true,
     "schema_version": 3,
     "solution": false,
     "task": false
    }
   },
   "outputs": [],
   "source": [
    "%timeit output = convolve_output_algorithm(x, h)"
   ]
  },
  {
   "cell_type": "code",
   "execution_count": null,
   "metadata": {
    "deletable": false,
    "editable": false,
    "nbgrader": {
     "cell_type": "code",
     "checksum": "64a310dd969a8ec6fb0ac5c11ff3bb52",
     "grade": false,
     "grade_id": "cell-9b0a476d4942ddf3",
     "locked": true,
     "schema_version": 3,
     "solution": false,
     "task": false
    }
   },
   "outputs": [],
   "source": [
    "%timeit output = convolve_input_algorithm(x, h)"
   ]
  },
  {
   "cell_type": "markdown",
   "metadata": {
    "deletable": false,
    "editable": false,
    "nbgrader": {
     "cell_type": "markdown",
     "checksum": "eb59ac10c62c314422ef6527ab8da925",
     "grade": false,
     "grade_id": "cell-8eaec978aab5033f",
     "locked": true,
     "schema_version": 3,
     "solution": false,
     "task": false
    }
   },
   "source": [
    "### 3. A Faster 1D Convolution\n",
    "A faster 1D convolution can be performed if inner loops can be transformed into matrix multiplications. This task can be accomplished by using *Toeplitz* matrices. A Toeplitz matrix or diagonal-constant matrix, named after Otto Toeplitz, is a matrix in which each descending diagonal from left to right is constant. For instance, the following matrix is a Toeplitz matrix: "
   ]
  },
  {
   "cell_type": "code",
   "execution_count": null,
   "metadata": {
    "deletable": false,
    "editable": false,
    "nbgrader": {
     "cell_type": "code",
     "checksum": "7f81dfc60556a77a09e1dc72eadcfc23",
     "grade": false,
     "grade_id": "cell-f6c5f8c1c48f95e7",
     "locked": true,
     "schema_version": 3,
     "solution": false,
     "task": false
    }
   },
   "outputs": [],
   "source": [
    "from scipy.linalg import toeplitz\n",
    "print(toeplitz(np.array([[1,2,3,4,5]])))"
   ]
  },
  {
   "cell_type": "markdown",
   "metadata": {
    "deletable": false,
    "editable": false,
    "nbgrader": {
     "cell_type": "markdown",
     "checksum": "7bae36d8d43afe157a05f3997a1d4453",
     "grade": false,
     "grade_id": "cell-6080861cd6cca938",
     "locked": true,
     "schema_version": 3,
     "solution": false,
     "task": false
    }
   },
   "source": [
    "1D convolution can be obtained by using the lower triangular matrix of the Toeplitz matrix, $H$, and the vector $x$. For the matrix $H$ and vector $x$ to have right dimensions, zero padding must be used. The lower triangular matrix can be calculated using `np.tril()`."
   ]
  },
  {
   "cell_type": "code",
   "execution_count": null,
   "metadata": {
    "deletable": false,
    "editable": false,
    "nbgrader": {
     "cell_type": "code",
     "checksum": "cd6b341f1bc9b7c75dd5f93ba3c31656",
     "grade": false,
     "grade_id": "cell-c3272e533ae321db",
     "locked": true,
     "schema_version": 3,
     "solution": false,
     "task": false
    }
   },
   "outputs": [],
   "source": [
    "print(np.tril(toeplitz(np.array([[1,2,3,4,5]]))))"
   ]
  },
  {
   "cell_type": "code",
   "execution_count": null,
   "metadata": {
    "deletable": false,
    "nbgrader": {
     "cell_type": "code",
     "checksum": "a65a94f61d541d87938784cf9bc97a85",
     "grade": false,
     "grade_id": "cell-dbb96ce87a029c78",
     "locked": false,
     "schema_version": 3,
     "solution": true,
     "task": false
    }
   },
   "outputs": [],
   "source": [
    "def conv1d(x, h):\n",
    "    \"\"\" \n",
    "    Function that convolves an input signal x with an step response h using a Toeplitz matrix implementation.\n",
    "  \n",
    "    Parameters: \n",
    "    x (numpy array): Array of numbers representing the input signal to be convolved.\n",
    "    h (numpy array): Array of numbers representing the unit step response of a filter.\n",
    "  \n",
    "    Returns: \n",
    "    numpy array: Returns convolved signal y[n]=h[n]*x[n].\n",
    "  \n",
    "    \"\"\"\n",
    "    N = x.shape[0]\n",
    "    M = h.shape[0]\n",
    "    \n",
    "    # YOUR CODE HERE\n",
    "    raise NotImplementedError()"
   ]
  },
  {
   "cell_type": "code",
   "execution_count": null,
   "metadata": {
    "deletable": false,
    "editable": false,
    "nbgrader": {
     "cell_type": "code",
     "checksum": "0ad52a3e92ddfe7ef1796766d67703f3",
     "grade": true,
     "grade_id": "cell-8b383a1da673d77b",
     "locked": true,
     "points": 25,
     "schema_version": 3,
     "solution": false,
     "task": false
    }
   },
   "outputs": [],
   "source": [
    "output_fast = conv1d(x, h)\n",
    "\n",
    "assert np.isclose(output_fast, (np.convolve(x.reshape(-1), h.reshape(-1))).reshape(-1,1)[:-h.shape[0]+1]).all()"
   ]
  },
  {
   "cell_type": "code",
   "execution_count": null,
   "metadata": {
    "deletable": false,
    "editable": false,
    "nbgrader": {
     "cell_type": "code",
     "checksum": "f70dae06904d80ebec6b86425922b4fa",
     "grade": false,
     "grade_id": "cell-b6e2d17f84a49248",
     "locked": true,
     "schema_version": 3,
     "solution": false,
     "task": false
    }
   },
   "outputs": [],
   "source": [
    "%timeit output_fast = conv1d(x, h)"
   ]
  },
  {
   "cell_type": "code",
   "execution_count": null,
   "metadata": {
    "deletable": false,
    "editable": false,
    "nbgrader": {
     "cell_type": "code",
     "checksum": "522440bea2cc9492006e2623d8611600",
     "grade": false,
     "grade_id": "cell-e083c640d3d90a68",
     "locked": true,
     "schema_version": 3,
     "solution": false,
     "task": false
    }
   },
   "outputs": [],
   "source": [
    "plt.rcParams['figure.figsize'] = (12,12)\n",
    "\n",
    "plt.subplot(2,2,1)\n",
    "plt.plot(x)\n",
    "plt.title('Input Signal')\n",
    "plt.xlabel('Samples')\n",
    "plt.ylabel('Amplitude')\n",
    "plt.grid('on')\n",
    "\n",
    "plt.subplot(2,2,2)\n",
    "plt.plot(h)\n",
    "plt.title('Filter Impulse Response')\n",
    "plt.xlabel('Samples')\n",
    "plt.ylabel('Amplitude')\n",
    "plt.grid('on')\n",
    "\n",
    "plt.subplot(2,1,2)\n",
    "plt.plot(output_fast)\n",
    "plt.title('Output Signal, Fast Algorithm')\n",
    "plt.xlabel('Samples')\n",
    "plt.ylabel('Amplitude')\n",
    "plt.grid('on')\n",
    "plt.show()"
   ]
  },
  {
   "cell_type": "markdown",
   "metadata": {
    "deletable": false,
    "editable": false,
    "nbgrader": {
     "cell_type": "markdown",
     "checksum": "45d82c630a13cb792d10729c02559ece",
     "grade": false,
     "grade_id": "cell-cf32160b67720e43",
     "locked": true,
     "schema_version": 3,
     "solution": false,
     "task": false
    }
   },
   "source": [
    "## 2D Convolution on Images\n",
    "If the convolution is performed between two signals spanning along two mutually perpendicular dimensions (i.e., if signals are two-dimensional in nature), then it will be referred to as 2D convolution. This concept can be extended to involve multi-dimensional signals due to which we can have multidimensional convolution.\n",
    "\n",
    "For a 2D filter $h[m,n]$, or *kernel*, that has size $2M$ by $2N$ a 2D convolution is defined as follows:\n",
    "\n",
    "$$y[i,j]=\\sum_{m=-M}^{M+1}\\sum_{n=-N}^{N+1}{h[m,n]x[i-m,j-n]}$$"
   ]
  },
  {
   "cell_type": "code",
   "execution_count": null,
   "metadata": {
    "deletable": false,
    "nbgrader": {
     "cell_type": "code",
     "checksum": "a37bf33c25dcc1136e0b8eb1ace0bab6",
     "grade": false,
     "grade_id": "cell-4aa1556231a2c308",
     "locked": false,
     "schema_version": 3,
     "solution": true,
     "task": false
    }
   },
   "outputs": [],
   "source": [
    "def conv2d(image, kernel):\n",
    "    \"\"\" \n",
    "    Function that convolves an input image with a filter kernel.\n",
    "  \n",
    "    Parameters: \n",
    "    image (numpy matrix): Matrix representing a 2D image.\n",
    "    kernel (numpy array): An m by n matrix to apply.\n",
    "  \n",
    "    Returns: \n",
    "    numpy matrix: Returns convolved image with filter kernel.\n",
    "  \n",
    "    \"\"\"\n",
    "    M, N = (np.array(kernel.shape)/2).astype('int')\n",
    "    \n",
    "    m , n = image.shape\n",
    "    output = np.zeros((m,n))\n",
    "    \n",
    "    # YOUR CODE HERE\n",
    "    raise NotImplementedError()\n",
    "    return output"
   ]
  },
  {
   "cell_type": "code",
   "execution_count": null,
   "metadata": {
    "deletable": false,
    "nbgrader": {
     "cell_type": "code",
     "checksum": "c7b691f5dd59502fe028d89dee316189",
     "grade": false,
     "grade_id": "cell-e9a644bebcca9851",
     "locked": false,
     "schema_version": 3,
     "solution": true,
     "task": false
    }
   },
   "outputs": [],
   "source": [
    "from PIL import Image\n",
    "\n",
    "# Load original image into image_original variable.\n",
    "# YOUR CODE HERE\n",
    "raise NotImplementedError()\n",
    "\n",
    "\n",
    "# Convert image into gray scale and save it on image_gray variable. \n",
    "# To turn the image into gray you can search for the Image.convert() method.\n",
    "# YOUR CODE HERE\n",
    "raise NotImplementedError()\n",
    "\n",
    "\n",
    "# Resize the gray image and store it in image_resize, you can search for the\n",
    "# Image.resize() method.\n",
    "scale_factor = 2 #scaling factor to use\n",
    "# YOUR CODE HERE\n",
    "raise NotImplementedError()\n",
    "\n",
    "# Set image as an 2d-array x\n",
    "# YOUR CODE HERE\n",
    "raise NotImplementedError()"
   ]
  },
  {
   "cell_type": "code",
   "execution_count": null,
   "metadata": {
    "deletable": false,
    "editable": false,
    "nbgrader": {
     "cell_type": "code",
     "checksum": "7f0b570e2852a688afa3aeace425b31d",
     "grade": true,
     "grade_id": "cell-175f5b74f3ee6b0b",
     "locked": true,
     "points": 30,
     "schema_version": 3,
     "solution": false,
     "task": false
    }
   },
   "outputs": [],
   "source": [
    "Sx = np.array([[-1, 0, 1],[-2, 0, 2], [-1, 0, 1]])\n",
    "Sy = np.array([[-1, -2, -1],[0, 0, 0], [1, 2, 1]])\n",
    "\n",
    "\n",
    "Gx_2 = conv2d(x, Sx)\n",
    "Gy_2 = conv2d(x, Sy)\n",
    "image_output = np.sqrt(np.power(Gx_2,2) + np.power(Gy_2,2))\n",
    "\n",
    "\n",
    "with open('image.pkl', 'rb') as file:\n",
    "    image_pickle = pickle.load(file)\n",
    "    \n",
    "assert np.isclose(image_output, image_pickle).all()"
   ]
  },
  {
   "cell_type": "code",
   "execution_count": null,
   "metadata": {
    "deletable": false,
    "editable": false,
    "nbgrader": {
     "cell_type": "code",
     "checksum": "2f61cc079fb1db40eb8ae44f18e2ec82",
     "grade": false,
     "grade_id": "cell-45328755490db5c2",
     "locked": true,
     "schema_version": 3,
     "solution": false,
     "task": false
    }
   },
   "outputs": [],
   "source": [
    "plt.subplot(1,3,1)\n",
    "plt.imshow(image_original.resize((p,q)))\n",
    "plt.title(\"Original\")\n",
    "\n",
    "plt.subplot(1,3,2)\n",
    "plt.imshow(image_output, cmap='gray', vmin=0, vmax=255);\n",
    "plt.title(\"Implemented\")\n",
    "\n",
    "plt.subplot(1,3,3)\n",
    "plt.imshow(image_pickle, cmap='gray', vmin=0, vmax=255);\n",
    "plt.title(\"Reference\")"
   ]
  },
  {
   "cell_type": "markdown",
   "metadata": {
    "deletable": false,
    "editable": false,
    "nbgrader": {
     "cell_type": "markdown",
     "checksum": "77f12de39209e390a1bb552172b4cb2c",
     "grade": false,
     "grade_id": "cell-3231664727c4a875",
     "locked": true,
     "schema_version": 3,
     "solution": false,
     "task": false
    }
   },
   "source": [
    "#### References:\n",
    "\n",
    "* http://www.dspguide.com/ch6.htm\n",
    "* https://www.allaboutcircuits.com/technical-articles/two-dimensional-convolution-in-image-processing/\n",
    "* https://www.aishack.in/tutorials/image-convolution-examples/"
   ]
  }
 ],
 "metadata": {
  "kernelspec": {
   "display_name": "Python 3 (ipykernel)",
   "language": "python",
   "name": "python3"
  },
  "language_info": {
   "codemirror_mode": {
    "name": "ipython",
    "version": 3
   },
   "file_extension": ".py",
   "mimetype": "text/x-python",
   "name": "python",
   "nbconvert_exporter": "python",
   "pygments_lexer": "ipython3",
   "version": "3.10.4"
  }
 },
 "nbformat": 4,
 "nbformat_minor": 2
}
