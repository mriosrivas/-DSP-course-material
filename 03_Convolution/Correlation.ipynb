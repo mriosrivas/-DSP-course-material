{
 "cells": [
  {
   "cell_type": "markdown",
   "metadata": {
    "deletable": false,
    "editable": false,
    "nbgrader": {
     "cell_type": "markdown",
     "checksum": "741afe1bc2d6045d9f9761471c274fa6",
     "grade": false,
     "grade_id": "cell-eec0de9144e65da2",
     "locked": true,
     "schema_version": 3,
     "solution": false,
     "task": false
    }
   },
   "source": [
    "# Correlation\n",
    "Correlation or “Co-Relation” is a measure of similarity/relationship between two signals.\n",
    "If $x[n]$ and $h[n]$ are two discrete-time signals, then the correlation of $x[n]$ with respect to $h[n]$ is given as:\n",
    "$$ r[i] = \\sum_{j=0}^{M-1}{x[j]h[j-i]} $$\n",
    "\n",
    "We can say that *“Correlation, mathematically, is just Convolution,  with the second sequence, time-reversed\"*."
   ]
  },
  {
   "cell_type": "markdown",
   "metadata": {
    "deletable": false,
    "editable": false,
    "nbgrader": {
     "cell_type": "markdown",
     "checksum": "41ff14fbf3863674fe441e39bb71413e",
     "grade": false,
     "grade_id": "cell-d1db33b101e4e8e2",
     "locked": true,
     "schema_version": 3,
     "solution": false,
     "task": false
    }
   },
   "source": [
    "## Exercise:\n",
    "In this notebook you will implement functions that perform calculation of correlation between signals, this will help you to identify similarity between signals. To implement your functions you will use the convolution functions developed in the previous notebook. At the end of this notebook you will use your functions to understand Barker's codes."
   ]
  },
  {
   "cell_type": "code",
   "execution_count": null,
   "metadata": {
    "deletable": false,
    "editable": false,
    "nbgrader": {
     "cell_type": "code",
     "checksum": "ee6826f893b9415f69950879eaa4f1c2",
     "grade": false,
     "grade_id": "cell-59b9f8d45bcd825f",
     "locked": true,
     "schema_version": 3,
     "solution": false,
     "task": false
    }
   },
   "outputs": [],
   "source": [
    "import numpy as np\n",
    "import matplotlib.pyplot as plt\n",
    "\n",
    "from scipy.linalg import toeplitz\n",
    "\n",
    "import pickle"
   ]
  },
  {
   "cell_type": "markdown",
   "metadata": {
    "deletable": false,
    "editable": false,
    "nbgrader": {
     "cell_type": "markdown",
     "checksum": "e5e954b41f71d9c819f7b0b01d1881ee",
     "grade": false,
     "grade_id": "cell-89c8d93c616f2d17",
     "locked": true,
     "schema_version": 3,
     "solution": false,
     "task": false
    }
   },
   "source": [
    "## Use your previous convolution functions\n",
    "First you will need to copy your convolution functions developed in the previous notebook."
   ]
  },
  {
   "cell_type": "code",
   "execution_count": null,
   "metadata": {
    "deletable": false,
    "nbgrader": {
     "cell_type": "code",
     "checksum": "4fce393c0eb2f22dfcd5da91c7b62d2b",
     "grade": false,
     "grade_id": "cell-6677a1dde321b245",
     "locked": false,
     "schema_version": 3,
     "solution": true,
     "task": false
    }
   },
   "outputs": [],
   "source": [
    "def convolve_output_algorithm(x, h):\n",
    "    \"\"\" \n",
    "    Function that convolves an input signal x with an step response h using the output side algorithm.\n",
    "  \n",
    "    Parameters: \n",
    "    x (numpy array): Array of numbers representing the input signal to be convolved.\n",
    "    h (numpy array): Array of numbers representing the unit step response of a filter.\n",
    "  \n",
    "    Returns: \n",
    "    numpy array: Returns convolved signal y[n]=h[n]*x[n].\n",
    "  \n",
    "    \"\"\"\n",
    "    M = h.shape[0]\n",
    "    N = x.shape[0]\n",
    "\n",
    "    output = np.zeros(M+N-1)\n",
    "    \n",
    "    # YOUR CODE HERE\n",
    "    raise NotImplementedError()\n",
    "    \n",
    "    return output.reshape(-1,1)   \n",
    "\n",
    "\n",
    "def convolve_input_algorithm(x, h):\n",
    "    \"\"\" \n",
    "    Function that convolves an input signal x with an step response h using the input side algorithm.\n",
    "  \n",
    "    Parameters: \n",
    "    x (numpy array): Array of numbers representing the input signal to be convolved.\n",
    "    h (numpy array): Array of numbers representing the unit step response of a filter.\n",
    "  \n",
    "    Returns: \n",
    "    numpy array: Returns convolved signal y[n]=h[n]*x[n].\n",
    "  \n",
    "    \"\"\"\n",
    "    M = h.shape[0]\n",
    "    N = x.shape[0]\n",
    "\n",
    "    output = np.zeros(M+N-1)\n",
    "    \n",
    "    # YOUR CODE HERE\n",
    "    raise NotImplementedError()\n",
    "    \n",
    "    return output.reshape(-1,1)    \n",
    "\n",
    "\n",
    "def conv1d(x, h):\n",
    "    \"\"\" \n",
    "    Function that convolves an input signal x with an step response h using a Toeplitz matrix implementation.\n",
    "  \n",
    "    Parameters: \n",
    "    x (numpy array): Array of numbers representing the input signal to be convolved.\n",
    "    h (numpy array): Array of numbers representing the unit step response of a filter.\n",
    "  \n",
    "    Returns: \n",
    "    numpy array: Returns convolved signal y[n]=h[n]*x[n].\n",
    "  \n",
    "    \"\"\"\n",
    "    N = x.shape[0]\n",
    "    M = h.shape[0]\n",
    "    \n",
    "    # YOUR CODE HERE\n",
    "    raise NotImplementedError()"
   ]
  },
  {
   "cell_type": "markdown",
   "metadata": {
    "deletable": false,
    "editable": false,
    "nbgrader": {
     "cell_type": "markdown",
     "checksum": "ec0f4687aaf525dfab45485018fd132a",
     "grade": false,
     "grade_id": "cell-298b6581e3e0f596",
     "locked": true,
     "schema_version": 3,
     "solution": false,
     "task": false
    }
   },
   "source": [
    "### 1. Create a your correlation functions\n",
    "First you will create the following functions:\n",
    "1. `correlation` which calculates the correlation of two signals, $x[n]$ and $h[n]$\n",
    "2. `auto_corr` which calculates the auto correlation of a given signal $x[n]$\n",
    "3. `norm_correlation` which calculates the normalized correlation of two signals, $x[n]$ and $h[n]$\n",
    "4. `norm_auto_corr` which calculates the normalized auto correlation of a given signal $x[n]$\n",
    "5. `delay` auxiliary function that calculates the time delay between $x[n]$ respect to $h[n]$ based on the correlation between both signals.\n",
    "\n",
    "You will have to use the convolution functions developed before and be able to select between the three types of convolutions: `conv1d`, `convolve_input_algorithm`, and `convolve_output_algorithm`.\n",
    "\n",
    "A good resource to understand the different functions that you need to implement is this [link](http://host.uniroma3.it/laboratori/sp4te/teaching/sp4bme/documents/LectureCorrelation.pdf)."
   ]
  },
  {
   "cell_type": "code",
   "execution_count": null,
   "metadata": {
    "deletable": false,
    "nbgrader": {
     "cell_type": "code",
     "checksum": "8609624d1a67df6b503c982c8d423587",
     "grade": false,
     "grade_id": "cell-f1b04a7afc013907",
     "locked": false,
     "schema_version": 3,
     "solution": true,
     "task": false
    }
   },
   "outputs": [],
   "source": [
    "def correlation(x, h, algorithm='output'):\n",
    "    \"\"\" \n",
    "    Function that finds the correlation of an input signal x with an step response h.\n",
    "    Parameters: \n",
    "    x (numpy array): Array of numbers representing the input signal to be correlated.\n",
    "    h (numpy array): Array of numbers representing the unit step response of a filter or signal.\n",
    "    algorithm (string): String that selects the algoritm to use for finding the convolution.\n",
    "                        Can be `fast` if `conv1d` function is used, `input` if `convolve_input_algorithm`\n",
    "                        is used, and `output` if `convolve_output_algorithm` is used. Default value is\n",
    "                        `output`.\n",
    "\n",
    "    Returns: \n",
    "    numpy array: Returns correlation r_xh[n]=x[n]*h[-n].\n",
    "\n",
    "    \"\"\"\n",
    "    # YOUR CODE HERE\n",
    "    raise NotImplementedError()"
   ]
  },
  {
   "cell_type": "markdown",
   "metadata": {
    "deletable": false,
    "editable": false,
    "nbgrader": {
     "cell_type": "markdown",
     "checksum": "b2efbe7bad0eaa649fe6f06258f6bf28",
     "grade": false,
     "grade_id": "cell-cb19f197ba9ac11f",
     "locked": true,
     "schema_version": 3,
     "solution": false,
     "task": false
    }
   },
   "source": [
    "Now it is time to test your `correlation` function. In order to do so, you will compare the correlation between $a[n]$, $b[n]$, and $c[n]$, which are given as:"
   ]
  },
  {
   "cell_type": "code",
   "execution_count": null,
   "metadata": {
    "deletable": false,
    "editable": false,
    "nbgrader": {
     "cell_type": "code",
     "checksum": "016607e6eb929b424830841b8b499272",
     "grade": false,
     "grade_id": "cell-987a04030f1b307e",
     "locked": true,
     "schema_version": 3,
     "solution": false,
     "task": false
    }
   },
   "outputs": [],
   "source": [
    "a = np.array([[1, 2, 3, 4, 3, 2, 1]]).T\n",
    "b = np.array([[4, 8, 12, 16, 12, 8, 4]]).T\n",
    "c = np.array([[8, 8, 8, 8, 8, 8, 8]]).T"
   ]
  },
  {
   "cell_type": "markdown",
   "metadata": {
    "deletable": false,
    "editable": false,
    "nbgrader": {
     "cell_type": "markdown",
     "checksum": "c83ddc810bdcd410c1381911a574efc0",
     "grade": false,
     "grade_id": "cell-f88bb32eb0de0835",
     "locked": true,
     "schema_version": 3,
     "solution": false,
     "task": false
    }
   },
   "source": [
    "Test your `fast`, `output`, and `input` implementations for the `correlation` method:"
   ]
  },
  {
   "cell_type": "code",
   "execution_count": null,
   "metadata": {
    "deletable": false,
    "editable": false,
    "nbgrader": {
     "cell_type": "code",
     "checksum": "4373b33a93a3b063425b9259caee573e",
     "grade": true,
     "grade_id": "cell-8819efb38aaf6753",
     "locked": true,
     "points": 15,
     "schema_version": 3,
     "solution": false,
     "task": false
    }
   },
   "outputs": [],
   "source": [
    "corr_ref = np.correlate(a.reshape(-1),b.reshape(-1), 'full')\n",
    "\n",
    "assert np.isclose(correlation(a,b, 'fast').T, corr_ref).all()\n",
    "assert np.isclose(correlation(a,b, 'output').T, corr_ref).all()\n",
    "assert np.isclose(correlation(a,b, 'input').T, corr_ref).all()"
   ]
  },
  {
   "cell_type": "markdown",
   "metadata": {
    "deletable": false,
    "editable": false,
    "nbgrader": {
     "cell_type": "markdown",
     "checksum": "3179655f6181199ccb995d1582a54629",
     "grade": false,
     "grade_id": "cell-e1f4db9214f91ab3",
     "locked": true,
     "schema_version": 3,
     "solution": false,
     "task": false
    }
   },
   "source": [
    "In order to have an accurate test between correlation, it is better to use a normalized correlation. To do so, we will create a `norm_correlation` function which also depends on the `auto_corr` function."
   ]
  },
  {
   "cell_type": "code",
   "execution_count": null,
   "metadata": {
    "deletable": false,
    "nbgrader": {
     "cell_type": "code",
     "checksum": "051a7fd121fb32ae6b128b592e33f214",
     "grade": false,
     "grade_id": "cell-e07ff82001bb0c4d",
     "locked": false,
     "schema_version": 3,
     "solution": true,
     "task": false
    }
   },
   "outputs": [],
   "source": [
    "def auto_corr(x, algorithm='output'):\n",
    "    \"\"\" \n",
    "    Function that finds the auto correlation of an input signal x.\n",
    "    Parameters: \n",
    "    x (numpy array): Array of numbers representing the input signal to be auto correlated.\n",
    "    algorithm (string): String that selects the algoritm to use for finding the convolution.\n",
    "                        Can be `fast` if `conv1d` function is used, `input` if `convolve_input_algorithm`\n",
    "                        is used, and `output` if `convolve_output_algorithm` is used. Default value is\n",
    "                        `output`.\n",
    "\n",
    "    Returns: \n",
    "    numpy array: Returns auto correlation r_xx[n]=x[n]*x[-n].\n",
    "\n",
    "    \"\"\"\n",
    "    # YOUR CODE HERE\n",
    "    raise NotImplementedError()\n",
    "\n",
    "\n",
    "def norm_correlation(x, h, algorithm='output'):\n",
    "        \"\"\" \n",
    "        Function that finds the normalized correlation of an input signal x with an step response h.\n",
    "        Parameters: \n",
    "        x (numpy array): Array of numbers representing the input signal to be correlated.\n",
    "        h (numpy array): Array of numbers representing the unit step response of a filter or signal.\n",
    "        algorithm (string): String that selects the algoritm to use for finding the convolution.\n",
    "                            Can be `fast` if `conv1d` function is used, `input` if `convolve_input_algorithm`\n",
    "                            is used, and `output` if `convolve_output_algorithm` is used. Default value is\n",
    "                            `output`.\n",
    "\n",
    "        Returns: \n",
    "        numpy array: Returns normalized correlation y[n]=r_xh[n]/(sqrt(max(r_xx[n])*max(r_hh[n]))).\n",
    "\n",
    "        \"\"\"\n",
    "        # YOUR CODE HERE\n",
    "        raise NotImplementedError()"
   ]
  },
  {
   "cell_type": "code",
   "execution_count": null,
   "metadata": {
    "deletable": false,
    "editable": false,
    "nbgrader": {
     "cell_type": "code",
     "checksum": "170967e70fdbe5bd6ae5ffd631fae88d",
     "grade": true,
     "grade_id": "cell-9841bf9551a02cfa",
     "locked": true,
     "points": 15,
     "schema_version": 3,
     "solution": false,
     "task": false
    }
   },
   "outputs": [],
   "source": [
    "r_aa = np.correlate(a.reshape(-1),a.reshape(-1), 'full')\n",
    "r_bb = np.correlate(b.reshape(-1),b.reshape(-1), 'full')\n",
    "r_ab = np.correlate(a.reshape(-1),b.reshape(-1), 'full')\n",
    "norm_correlation_ref = r_ab/np.sqrt(r_aa.max()*r_bb.max())\n",
    "\n",
    "assert np.isclose(norm_correlation(a,b, 'fast').T, norm_correlation_ref).all()\n",
    "assert np.isclose(norm_correlation(a,b, 'output').T, norm_correlation_ref).all()\n",
    "assert np.isclose(norm_correlation(a,b, 'input').T, norm_correlation_ref).all()"
   ]
  },
  {
   "cell_type": "markdown",
   "metadata": {
    "deletable": false,
    "editable": false,
    "nbgrader": {
     "cell_type": "markdown",
     "checksum": "6a47217b0b09b11ca6eba769b91f1153",
     "grade": false,
     "grade_id": "cell-6fcc129dd083f467",
     "locked": true,
     "schema_version": 3,
     "solution": false,
     "task": false
    }
   },
   "source": [
    "We will use the `norm_correlation` function to compare $a[n]$ with respect to $b[n]$, and $a[n]$ with respect to $c[n]$ in the preceding graph. You can notice that the normalized correlation has a maximum value of one at it's peak, unlike the correlation wich is variable. Also, there's a slightly higher normalized correlation between $a[n]$ and $b[n]$, than with $a[n]$ and $c[n]$, that is because $b[n]$ is just an scaled version of $a[n]$ compared to $c[n]$ which is a constant train of pulses."
   ]
  },
  {
   "cell_type": "code",
   "execution_count": null,
   "metadata": {
    "deletable": false,
    "editable": false,
    "nbgrader": {
     "cell_type": "code",
     "checksum": "9d62a3e7ef69be3cf43144033e6690e1",
     "grade": false,
     "grade_id": "cell-99f8c2e3d7c41019",
     "locked": true,
     "schema_version": 3,
     "solution": false,
     "task": false
    }
   },
   "outputs": [],
   "source": [
    "plt.rcParams[\"figure.figsize\"] = (13,9)\n",
    "\n",
    "norm_corr_a_b = norm_correlation(a,b)\n",
    "corr_a_b = correlation(a,b)\n",
    "norm_corr_a_c = norm_correlation(a,c)\n",
    "corr_a_c = correlation(a,c)\n",
    "\n",
    "plt.subplot(2,2,1)\n",
    "plt.ylim(-0.1, 1.1)\n",
    "plt.stem(norm_corr_a_b, markerfmt='C0o')\n",
    "plt.title('Normalized Correlation between a[n] and b[n]')\n",
    "plt.grid('on')\n",
    "\n",
    "plt.subplot(2,2,2)\n",
    "plt.stem(corr_a_b)\n",
    "plt.title('Correlation between a[n] and b[n]')\n",
    "plt.grid('on')\n",
    "\n",
    "plt.subplot(2,2,3)\n",
    "plt.stem(norm_corr_a_c, markerfmt='C0o')\n",
    "plt.ylim(-0.1, 1.1)\n",
    "plt.title('Normalized Correlation between a[n] and c[n]')\n",
    "plt.grid('on')\n",
    "\n",
    "plt.subplot(2,2,4)\n",
    "plt.stem(corr_a_c)\n",
    "plt.title('Correlation between a[n] and c[n]')\n",
    "plt.grid('on')\n",
    "\n",
    "plt.show()"
   ]
  },
  {
   "cell_type": "code",
   "execution_count": null,
   "metadata": {
    "deletable": false,
    "nbgrader": {
     "cell_type": "code",
     "checksum": "63dc46e7f93d182fbb1389db8224614b",
     "grade": false,
     "grade_id": "cell-1602818d6563a647",
     "locked": false,
     "schema_version": 3,
     "solution": true,
     "task": false
    }
   },
   "outputs": [],
   "source": [
    "def norm_auto_corr(x, algorithm='output'):\n",
    "    \"\"\" \n",
    "    Function that finds the normalized auto correlation of an input signal x.\n",
    "    Parameters: \n",
    "    x (numpy array): Array of numbers representing the input signal to be auto correlated.\n",
    "    algorithm (string): String that selects the algoritm to use for finding the convolution.\n",
    "                        Can be `fast` if `conv1d` function is used, `input` if `convolve_input_algorithm`\n",
    "                        is used, and `output` if `convolve_output_algorithm` is used. Default value is\n",
    "                        `output`.\n",
    "\n",
    "    Returns: \n",
    "    numpy array: Returns normalized auto correlation y[n]=r_xx[n]/max(r_xx[n]).\n",
    "\n",
    "\n",
    "    \"\"\"\n",
    "    # YOUR CODE HERE\n",
    "    raise NotImplementedError()"
   ]
  },
  {
   "cell_type": "code",
   "execution_count": null,
   "metadata": {
    "deletable": false,
    "editable": false,
    "nbgrader": {
     "cell_type": "code",
     "checksum": "126d88953490c32927cc41e726fdf41b",
     "grade": true,
     "grade_id": "cell-c627cb42000f63a1",
     "locked": true,
     "points": 10,
     "schema_version": 3,
     "solution": false,
     "task": false
    }
   },
   "outputs": [],
   "source": [
    "r_aa = np.correlate(a.reshape(-1),a.reshape(-1), 'full')\n",
    "auto_correlation_ref = r_aa/r_aa.max()\n",
    "\n",
    "assert np.isclose(norm_auto_corr(a, algorithm='output').T, auto_correlation_ref).all()"
   ]
  },
  {
   "cell_type": "markdown",
   "metadata": {
    "deletable": false,
    "editable": false,
    "nbgrader": {
     "cell_type": "markdown",
     "checksum": "65bfab890afc2df881079f4e25c97992",
     "grade": false,
     "grade_id": "cell-d604d1773816dad1",
     "locked": true,
     "schema_version": 3,
     "solution": false,
     "task": false
    }
   },
   "source": [
    "Now let's create a function called `delay`. This function will take two signals $x[n]$ and $h[n]$ and calculate the offset between both. The offset is defined as the difference between the maximum correlation and the size of the signal $h[n]$. (Try to find why?)"
   ]
  },
  {
   "cell_type": "code",
   "execution_count": null,
   "metadata": {
    "deletable": false,
    "nbgrader": {
     "cell_type": "code",
     "checksum": "75ea70e339268c27ec87053c4f4414a4",
     "grade": false,
     "grade_id": "cell-d25f02be9199e67f",
     "locked": false,
     "schema_version": 3,
     "solution": true,
     "task": false
    }
   },
   "outputs": [],
   "source": [
    "def delay(x, h):\n",
    "    \"\"\" \n",
    "    Function that finds the lag between a signal x[n] with respect to the filter or signal h[n].\n",
    "    Use the norm_correlation() function.\n",
    "    Parameters: \n",
    "    x (numpy array): Array of numbers representing the input signal to be correlated.\n",
    "    h (numpy array): Array of numbers representing the unit step response of a filter or signal.\n",
    "\n",
    "    Returns: \n",
    "    numpy value: Returns negative difference between maximum correlation index and (filter lenght - 1).\n",
    "\n",
    "\n",
    "    \"\"\"\n",
    "    # YOUR CODE HERE\n",
    "    raise NotImplementedError()"
   ]
  },
  {
   "cell_type": "markdown",
   "metadata": {
    "deletable": false,
    "editable": false,
    "nbgrader": {
     "cell_type": "markdown",
     "checksum": "2e333ead0452719f5584ee5f7e32c28e",
     "grade": false,
     "grade_id": "cell-39a47711f25aa348",
     "locked": true,
     "schema_version": 3,
     "solution": false,
     "task": false
    }
   },
   "source": [
    "To test your `delay` function three signals $x[n]$, $y[n]$, and $z[n]$ are provided. If you take close attention to each one you can see the following relationships among them:\n",
    "\n",
    "1. $x[n-3]=y[n]$\n",
    "2. $x[n]=z[n]$\n",
    "3. $y[n+3]=z[n]$\n",
    "\n",
    "Our `delay` function will help us find this *lag* value between them."
   ]
  },
  {
   "cell_type": "code",
   "execution_count": null,
   "metadata": {
    "deletable": false,
    "editable": false,
    "nbgrader": {
     "cell_type": "code",
     "checksum": "976628d0cd9edd6c633dc61bafa9ac81",
     "grade": false,
     "grade_id": "cell-a543f131b28d170c",
     "locked": true,
     "schema_version": 3,
     "solution": false,
     "task": false
    }
   },
   "outputs": [],
   "source": [
    "x = np.array([[1, 2, 3, 4, 3, 2, 1]]).T \n",
    "y = np.array([[0, 0, 0, 1, 2, 3, 4, 3, 2, 1]]).T\n",
    "z = np.array([[1, 2, 3, 4, 3, 2, 1]]).T\n",
    "\n",
    "plt.rcParams[\"figure.figsize\"] = (15,5)\n",
    "\n",
    "plt.subplot(1,3,1)\n",
    "plt.stem(x)\n",
    "plt.ylim((-1,5))\n",
    "plt.title('x[n]')\n",
    "plt.grid('on')\n",
    "\n",
    "plt.subplot(1,3,2)\n",
    "plt.stem(y)\n",
    "plt.ylim((-1,5))\n",
    "plt.title('y[n]')\n",
    "plt.grid('on')\n",
    "\n",
    "plt.subplot(1,3,3)\n",
    "plt.stem(z)\n",
    "plt.ylim((-1,5))\n",
    "plt.title('z[n]')\n",
    "plt.grid('on')\n",
    "\n",
    "plt.show()"
   ]
  },
  {
   "cell_type": "code",
   "execution_count": null,
   "metadata": {
    "deletable": false,
    "editable": false,
    "nbgrader": {
     "cell_type": "code",
     "checksum": "5fb35e34e0a96a58e057deeedf05d353",
     "grade": true,
     "grade_id": "cell-ac100f4e80dd7751",
     "locked": true,
     "points": 15,
     "schema_version": 3,
     "solution": false,
     "task": false
    }
   },
   "outputs": [],
   "source": [
    "assert(delay(x, y)==3)\n",
    "print('Relationship between x and y')\n",
    "print('x[n-{}] = y[n]\\n'.format(delay(x, y)))\n",
    "\n",
    "assert(delay(x, z)==0)\n",
    "print('Relationship between x and z')\n",
    "print('x[n-{}] = z[n]\\n'.format(delay(x, z)))\n",
    "\n",
    "assert(delay(y, z)==-3)\n",
    "print('Relationship between y and z')\n",
    "print('y[n-{}] = z[n]'.format(delay(y, z)))"
   ]
  },
  {
   "cell_type": "markdown",
   "metadata": {
    "deletable": false,
    "editable": false,
    "nbgrader": {
     "cell_type": "markdown",
     "checksum": "fb607a5d8f67fdc700b5a47771690206",
     "grade": false,
     "grade_id": "cell-7eebd187c36223bd",
     "locked": true,
     "schema_version": 3,
     "solution": false,
     "task": false
    }
   },
   "source": [
    "As you can see, `delay` function returns a **postive value for a right shift**, and a **negative value for a left shift**."
   ]
  },
  {
   "cell_type": "markdown",
   "metadata": {
    "deletable": false,
    "editable": false,
    "nbgrader": {
     "cell_type": "markdown",
     "checksum": "585096371fc8e210ba8aa7aecf6027ea",
     "grade": false,
     "grade_id": "cell-f98260f543f748e8",
     "locked": true,
     "schema_version": 3,
     "solution": false,
     "task": false
    }
   },
   "source": [
    "### 2. Barker Code\n",
    "Now it is time to see some application for the correlation in a real life example. In this case, we use Barker codes. Barker codes are binary numbers using two to 13 bits and have unique auto-correlation functions. The points adjacent to the peak of the correlation function equal zero. This is very useful in a radar system since any spurious response can be misinterpreted as a target. A Barker-coded pulse typically uses binary phase modulation. By adding a Barker code between two bpsk data blocks, it is possible to detect the end and start of bpsk data blocks. In this part you will test your `Correlation` class and see how we can use the Barker code to detect the start of a bpsk data block. You can read more about Barker Codes [here](https://en.wikipedia.org/wiki/Barker_code)."
   ]
  },
  {
   "cell_type": "markdown",
   "metadata": {
    "deletable": false,
    "editable": false,
    "nbgrader": {
     "cell_type": "markdown",
     "checksum": "76968e32ec49b50a81982f1d63a71698",
     "grade": false,
     "grade_id": "cell-53a28770d9f1bed3",
     "locked": true,
     "schema_version": 3,
     "solution": false,
     "task": false
    }
   },
   "source": [
    "First, we create an auxiliary function called `generate_bpsk_data` whose purpose is to create some dummy bpsk data."
   ]
  },
  {
   "cell_type": "code",
   "execution_count": null,
   "metadata": {
    "deletable": false,
    "nbgrader": {
     "cell_type": "code",
     "checksum": "a7ac59fc0b10f9607511bbba01be4ea2",
     "grade": false,
     "grade_id": "cell-78e64e999f0e84a9",
     "locked": false,
     "schema_version": 3,
     "solution": true,
     "task": false
    }
   },
   "outputs": [],
   "source": [
    "def generate_bpsk_data(size=100, threshold=50):\n",
    "    \"\"\" \n",
    "        Function that generates a bpsk block code of variable size were the percentage of samples being \n",
    "        equal to -1 is given by threshold, and the percentage of samples being equal to 1 is given by \n",
    "        (100 - threshold).\n",
    "        \n",
    "        Parameters: \n",
    "        size (int): Size of the bpsk random block generated.\n",
    "        threshold (int): Number of samples being equal to -1.\n",
    "\n",
    "        Returns: \n",
    "        numpy array: Returns bpsk block code of variable size with values between -1 or 1.\n",
    "\n",
    "        \"\"\"\n",
    "    # YOUR CODE HERE\n",
    "    raise NotImplementedError()"
   ]
  },
  {
   "cell_type": "markdown",
   "metadata": {
    "deletable": false,
    "editable": false,
    "nbgrader": {
     "cell_type": "markdown",
     "checksum": "4defe1c68283a5f19e841679619a02cb",
     "grade": false,
     "grade_id": "cell-92d65015fab2e336",
     "locked": true,
     "schema_version": 3,
     "solution": false,
     "task": false
    }
   },
   "source": [
    "Now we will generate a stream that represents an example of data that might be receibed by a communication system. For this, we use our `generate_bpsk_data` function and create a data block with the following structure\n",
    "<br>\n",
    "<br>\n",
    "<center>\n",
    "    [64-data-symbols][13-barker-symbols][128-data-symbols]. \n",
    "</center>\n",
    "    \n",
    "The 64-symbols and 128-symbols represent data being transmitted, the 13-symbols represent the Barker code inserted in our data."
   ]
  },
  {
   "cell_type": "code",
   "execution_count": null,
   "metadata": {
    "deletable": false,
    "nbgrader": {
     "cell_type": "code",
     "checksum": "7587324d93e2ef80d3ddf961c5d8c36d",
     "grade": false,
     "grade_id": "cell-be7b25646b2d5f63",
     "locked": false,
     "schema_version": 3,
     "solution": true,
     "task": false
    }
   },
   "outputs": [],
   "source": [
    "np.random.seed(123)\n",
    "# Create two variables blk_1_len and blk_2_len that sets the lenght of each block into 64 and 128 respectively.\n",
    "# YOUR CODE HERE\n",
    "raise NotImplementedError()\n",
    "\n",
    "# Create two blocks called block_1 and block_2 with half of the data -1 and the other half 1.\n",
    "# Use your generate_bpsk_data function for this.\n",
    "# YOUR CODE HERE\n",
    "raise NotImplementedError()\n",
    "\n",
    "# Create a barker code of 13 and assign it to barker_code\n",
    "# YOUR CODE HERE\n",
    "raise NotImplementedError()\n",
    "\n",
    "# Concatenate your dablota and barker codes as explained before and assign it to a variable named block\n",
    "# YOUR CODE HERE\n",
    "raise NotImplementedError()"
   ]
  },
  {
   "cell_type": "code",
   "execution_count": null,
   "metadata": {
    "deletable": false,
    "editable": false,
    "nbgrader": {
     "cell_type": "code",
     "checksum": "dcff50c409b0e8b12aeabc2a5d8aade6",
     "grade": true,
     "grade_id": "cell-bfd93b8e523e9a1b",
     "locked": true,
     "points": 30,
     "schema_version": 3,
     "solution": false,
     "task": false
    }
   },
   "outputs": [],
   "source": [
    "with open('barker_new.pkl', 'rb') as file:\n",
    "    barker_ref = pickle.load(file)\n",
    "    \n",
    "assert np.isclose(block, barker_ref).all()"
   ]
  },
  {
   "cell_type": "markdown",
   "metadata": {
    "deletable": false,
    "editable": false,
    "nbgrader": {
     "cell_type": "markdown",
     "checksum": "0887781d2ab09d7733a471dc218e7d2d",
     "grade": false,
     "grade_id": "cell-d0f9c15ab0cde891",
     "locked": true,
     "schema_version": 3,
     "solution": false,
     "task": false
    }
   },
   "source": [
    "We can plot the received signal. As you can see, there is no way to tell when the block 1 and block 2 start. For this purpose is that the Barker Code exist."
   ]
  },
  {
   "cell_type": "code",
   "execution_count": null,
   "metadata": {
    "deletable": false,
    "editable": false,
    "nbgrader": {
     "cell_type": "code",
     "checksum": "df1675c40411129b384fa56fb3391b28",
     "grade": false,
     "grade_id": "cell-0ade90b9670fda8f",
     "locked": true,
     "schema_version": 3,
     "solution": false,
     "task": false
    }
   },
   "outputs": [],
   "source": [
    "plt.stem(barker_ref, markerfmt='C1o', label='reference')\n",
    "plt.stem(block, markerfmt='C0o', linefmt='C0o', label='calculated')\n",
    "plt.title('Stream of Data Received')\n",
    "plt.grid('on')\n",
    "plt.legend(loc='upper left', bbox_to_anchor=(1.05, 1))\n",
    "plt.show()"
   ]
  },
  {
   "cell_type": "markdown",
   "metadata": {
    "deletable": false,
    "editable": false,
    "nbgrader": {
     "cell_type": "markdown",
     "checksum": "923753248656ec695b31c8bd06c7827a",
     "grade": false,
     "grade_id": "cell-6c216b8fff139290",
     "locked": true,
     "schema_version": 3,
     "solution": false,
     "task": false
    }
   },
   "source": [
    "In this excersise we will find the start of block 2. For this let's use our `norm_correlation` to detect the inserted Barker code from our stream."
   ]
  },
  {
   "cell_type": "code",
   "execution_count": null,
   "metadata": {
    "deletable": false,
    "nbgrader": {
     "cell_type": "code",
     "checksum": "b7a8abc61f250c24208f3a82984ef74b",
     "grade": false,
     "grade_id": "cell-6393b444e8c95522",
     "locked": false,
     "schema_version": 3,
     "solution": true,
     "task": false
    }
   },
   "outputs": [],
   "source": [
    "# Find the position of the maximum normalized correlation of the block signal and the barker code.\n",
    "# You this purpose you can search for argmax method.\n",
    "# YOUR CODE HERE\n",
    "raise NotImplementedError()"
   ]
  },
  {
   "cell_type": "code",
   "execution_count": null,
   "metadata": {
    "deletable": false,
    "editable": false,
    "nbgrader": {
     "cell_type": "code",
     "checksum": "06b9ca736b46b5b3f8dae537f5850eaa",
     "grade": true,
     "grade_id": "cell-6393b444e8c95523",
     "locked": true,
     "points": 10,
     "schema_version": 3,
     "solution": false,
     "task": false
    }
   },
   "outputs": [],
   "source": [
    "assert barker_corr == blk_1_len+ barker_code.shape[0] - 1\n",
    "\n",
    "print('Maximum correlation found at position {}'.format(barker_corr))\n",
    "print('{} symbols (Block 1) + {} symbols (Barker Code) = {}'.format(blk_1_len,\n",
    "                                                                    barker_code.shape[0],\n",
    "                                                                    blk_1_len+ barker_code.shape[0]))"
   ]
  },
  {
   "cell_type": "markdown",
   "metadata": {
    "deletable": false,
    "editable": false,
    "nbgrader": {
     "cell_type": "markdown",
     "checksum": "66cbf5ff99dea44d6dbf18d6a7c7d3bb",
     "grade": false,
     "grade_id": "cell-f14d2342ea0a2046",
     "locked": true,
     "schema_version": 3,
     "solution": false,
     "task": false
    }
   },
   "source": [
    "You can see that since we start at position $0$, Barker correlation correctly estimates the new bpsk data block start."
   ]
  },
  {
   "cell_type": "code",
   "execution_count": null,
   "metadata": {
    "deletable": false,
    "editable": false,
    "nbgrader": {
     "cell_type": "code",
     "checksum": "32ff3897858775c7b4d7e6ff2b6250cb",
     "grade": false,
     "grade_id": "cell-e3cfde4d38149c35",
     "locked": true,
     "schema_version": 3,
     "solution": false,
     "task": false
    }
   },
   "outputs": [],
   "source": [
    "plt.stem(norm_correlation(block, barker_code))\n",
    "plt.title('Normalized Correlation Between Data and Barker Code')\n",
    "plt.hlines(0.23, 0, block.shape[0]+barker_code.shape[0]-1, linestyles='dashed', color='r')\n",
    "plt.grid('on')\n",
    "plt.show()"
   ]
  },
  {
   "cell_type": "markdown",
   "metadata": {
    "deletable": false,
    "editable": false,
    "nbgrader": {
     "cell_type": "markdown",
     "checksum": "e135a5c3293a00be539179cb70a9a863",
     "grade": false,
     "grade_id": "cell-54cb544f51b202ef",
     "locked": true,
     "schema_version": 3,
     "solution": false,
     "task": false
    }
   },
   "source": [
    "In the previous image the red dashed line depicts a *soft threshold* that we can use to detect the start of a block. This is a very interesting topic, specially when dealing with noise in our communication system."
   ]
  },
  {
   "cell_type": "markdown",
   "metadata": {
    "deletable": false,
    "editable": false,
    "nbgrader": {
     "cell_type": "markdown",
     "checksum": "ed90fe559287424dceefe6bc47ced7df",
     "grade": false,
     "grade_id": "cell-900a112affc3b7cc",
     "locked": true,
     "schema_version": 3,
     "solution": false,
     "task": false
    }
   },
   "source": [
    "Now let's use the `delay` function to find the start of block 2 in a different way. (Remember that a left shift gives a negative value.)"
   ]
  },
  {
   "cell_type": "code",
   "execution_count": null,
   "metadata": {
    "deletable": false,
    "nbgrader": {
     "cell_type": "code",
     "checksum": "4ca4b6cf2077a02d4bf524b56c5afe26",
     "grade": false,
     "grade_id": "cell-c6fe574b4c0c8252",
     "locked": false,
     "schema_version": 3,
     "solution": true,
     "task": false
    }
   },
   "outputs": [],
   "source": [
    "# YOUR CODE HERE\n",
    "raise NotImplementedError()"
   ]
  },
  {
   "cell_type": "code",
   "execution_count": null,
   "metadata": {
    "deletable": false,
    "editable": false,
    "nbgrader": {
     "cell_type": "code",
     "checksum": "0813178a4ee1864739b87b02ad71df4b",
     "grade": true,
     "grade_id": "cell-b988fc2b7cdd3e41",
     "locked": true,
     "points": 5,
     "schema_version": 3,
     "solution": false,
     "task": false
    }
   },
   "outputs": [],
   "source": [
    "assert estimated_delay == blk_1_len+ barker_code.shape[0]\n",
    "print('Start of new bpsk block at: {}'.format(estimated_delay))"
   ]
  },
  {
   "cell_type": "markdown",
   "metadata": {
    "deletable": false,
    "editable": false,
    "nbgrader": {
     "cell_type": "markdown",
     "checksum": "d83ba62d986d1ed40e1dbb65ef1f64ab",
     "grade": false,
     "grade_id": "cell-b5604b5bc177174a",
     "locked": true,
     "schema_version": 3,
     "solution": false,
     "task": false
    }
   },
   "source": [
    "#### References:\n",
    "\n",
    "* http://www.dspguide.com/ch6.htm\n",
    "* http://host.uniroma3.it/laboratori/sp4te/teaching/sp4bme/documents/LectureCorrelation.pdf\n",
    "* https://en.wikipedia.org/wiki/Barker_code"
   ]
  }
 ],
 "metadata": {
  "kernelspec": {
   "display_name": "Python 3 (ipykernel)",
   "language": "python",
   "name": "python3"
  },
  "language_info": {
   "codemirror_mode": {
    "name": "ipython",
    "version": 3
   },
   "file_extension": ".py",
   "mimetype": "text/x-python",
   "name": "python",
   "nbconvert_exporter": "python",
   "pygments_lexer": "ipython3",
   "version": "3.10.4"
  }
 },
 "nbformat": 4,
 "nbformat_minor": 2
}
